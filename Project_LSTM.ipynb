{
 "cells": [
  {
   "cell_type": "code",
   "execution_count": 1,
   "metadata": {
    "colab": {
     "base_uri": "https://localhost:8080/"
    },
    "id": "0q4OUMbxPmUI",
    "outputId": "2b3080b5-42d3-4f53-fe47-e18b95b83387"
   },
   "outputs": [
    {
     "data": {
      "text/plain": [
       "'\\nMount Google Drive, copy data to runtime, and unzip folders\\n\\nMake sure to put a link to \"EC 523 Project\" in your main google drive!\\n'"
      ]
     },
     "execution_count": 1,
     "metadata": {},
     "output_type": "execute_result"
    }
   ],
   "source": [
    "'''\n",
    "Mount Google Drive, copy data to runtime, and unzip folders\n",
    "\n",
    "Make sure to put a link to \"EC 523 Project\" in your main google drive!\n",
    "'''\n",
    "\n",
    "# from google.colab import drive\n",
    "# drive.mount('/content/drive')\n",
    "\n",
    "# ! cp /content/drive/MyDrive/'Deep Learning Proj'/train.zip /content\n",
    "# ! cp /content/drive/MyDrive/'Deep Learning Proj'/test.zip /content\n",
    "# ! cp /content/drive/MyDrive/'Deep Learning Proj'/val.zip /content\n",
    "# ! cp /content/drive/'My Drive'/'Deep Learning Proj'/math.txt /content\n",
    "\n",
    "# from path will differ depending on where you saved the zip file in Google Drive\n",
    "# ! unzip -DD -q  ./train.zip -d  .\n",
    "# ! unzip -DD -q  ./test.zip -d  .\n",
    "# ! unzip -DD -q  ./val.zip -d  .\n",
    "\n"
   ]
  },
  {
   "cell_type": "code",
   "execution_count": 2,
   "metadata": {
    "colab": {
     "base_uri": "https://localhost:8080/"
    },
    "id": "gY4KYQwTGlT2",
    "outputId": "42bb182e-bed8-47da-cbb2-cdabd3e20fcf"
   },
   "outputs": [],
   "source": [
    "# from google.colab import drive\n",
    "# drive.mount('/content/drive')"
   ]
  },
  {
   "cell_type": "code",
   "execution_count": 3,
   "metadata": {
    "colab": {
     "base_uri": "https://localhost:8080/"
    },
    "id": "cTBlEBQWM4rb",
    "outputId": "673672fe-649c-4a13-f5c1-e0c42798593d"
   },
   "outputs": [
    {
     "name": "stdout",
     "output_type": "stream",
     "text": [
      "Number of train images: 158480\n",
      "Number of test images: 30637\n",
      "Number of validation images: 6765\n",
      "Total images: 195882\n"
     ]
    }
   ],
   "source": [
    "'''\n",
    "Length of datasets\n",
    "'''\n",
    "num_train_str = !ls train | wc -l\n",
    "num_test_str = !ls test | wc -l\n",
    "num_val_str = !ls val | wc -l\n",
    "num_train = int(num_train_str[0])\n",
    "num_test = int(num_test_str[0])\n",
    "num_val = int(num_val_str[0])\n",
    "\n",
    "print(f'Number of train images: {num_train}\\nNumber of test images: {num_test}\\nNumber of validation images: {num_val}\\nTotal images: {num_train+num_test+num_val}')"
   ]
  },
  {
   "cell_type": "code",
   "execution_count": 4,
   "metadata": {
    "id": "l6npeT0LetR9"
   },
   "outputs": [],
   "source": [
    "train_root = \"./train/\"\n",
    "test_root = \"./test/\"\n",
    "val_root = \"./val/\"\n",
    "label_file = \"./math.txt\"\n",
    "freq_vocabs = \"./Corpus.txt\""
   ]
  },
  {
   "cell_type": "markdown",
   "metadata": {
    "id": "pBbboD_avLq1"
   },
   "source": [
    "Creating dataset class for images and labels"
   ]
  },
  {
   "cell_type": "code",
   "execution_count": 5,
   "metadata": {
    "id": "13QS2mqeeSK8"
   },
   "outputs": [],
   "source": [
    "import os\n",
    "import cv2\n",
    "import torch.utils.data\n",
    "from PIL import Image\n",
    "import matplotlib.pyplot as plt\n",
    "import numpy as np\n",
    "\n",
    "\n",
    "class LatexDataset(torch.utils.data.Dataset):\n",
    "  def __init__(self, transform=None, dataroot=val_root, max_seq_length = 700): # can change dataroot to be either train_root, test_root, val_root\n",
    "        '''Initialize the dataset.'''\n",
    "        self.transform = transform\n",
    "        self.dataroot = dataroot\n",
    "        self.labels_txt = label_file\n",
    "        self.max_seq_length = max_seq_length\n",
    "        self._parse()\n",
    "\n",
    "  def _parse(self):\n",
    "        '''\n",
    "        Parse the math.txt file.\n",
    "        Populates the following private variables:\n",
    "        - self.im_paths: A list of strings storing the associated image paths\n",
    "        - self.labels: A list of strings, where each string is the latex code for an image\n",
    "        '''\n",
    "        def getImPath(idx):\n",
    "            # Find image in either train, test, or validation folder\n",
    "            imname = str(idx - 1).zfill(7) + '.png'\n",
    "            if os.path.exists(f'{self.dataroot}{imname}'):\n",
    "              impath = f'{self.dataroot}{imname}'\n",
    "            else:\n",
    "              return None\n",
    "\n",
    "            try:\n",
    "                Image.open(impath).verify()\n",
    "            except Exception as e:\n",
    "                # Some images can't be opened\n",
    "                # print(f\"Image at path {impath} is corrupted. Error: {e}\")\n",
    "                return None\n",
    "\n",
    "            return impath\n",
    "\n",
    "        self.im_paths = []\n",
    "        self.labels = []\n",
    "\n",
    "        with open(self.labels_txt) as f:\n",
    "            for idx, line in enumerate(f):\n",
    "                impath = getImPath(idx+1)\n",
    "\n",
    "                if impath is not None:\n",
    "                    labels = line.strip('\\n')\n",
    "                    if len(labels) < self.max_seq_length-1:   # Loading images with certain latex length\n",
    "                      self.im_paths.append(impath)            # Image name\n",
    "                      self.labels.append(labels)    # String of latex code\n",
    "\n",
    "\n",
    "  def __len__(self):\n",
    "        '''Return length of the dataset.'''\n",
    "        assert len(self.labels) == len(self.im_paths)\n",
    "        return len(self.labels)\n",
    "\n",
    "  def __getitem__(self, index):\n",
    "        '''\n",
    "        Return the (image, attributes) tuple.\n",
    "        This function gets called when you index the dataset.\n",
    "        '''\n",
    "        def img_load(index):\n",
    "            imraw = Image.open(self.im_paths[index])\n",
    "            imgray = imraw.convert('L')                         # Convert image to greyscale\n",
    "            imthresh = imgray.point(lambda p: p > 240 and 255)  # Threshold image to remove background (white)\n",
    "            if self.transform is not None:\n",
    "              im = self.transform(imthresh)\n",
    "            else:\n",
    "              im = imthresh\n",
    "            return im\n",
    "\n",
    "        target = self.labels[index]\n",
    "        return img_load(index), target"
   ]
  },
  {
   "cell_type": "markdown",
   "metadata": {},
   "source": [
    "Generating most frequent characters used in math.txt file and outputing it to output.txt"
   ]
  },
  {
   "cell_type": "code",
   "execution_count": 6,
   "metadata": {},
   "outputs": [
    {
     "name": "stdout",
     "output_type": "stream",
     "text": [
      "Data saved to ./output.txt\n"
     ]
    }
   ],
   "source": [
    "from collections import Counter\n",
    "\n",
    "def create_dictionary(file_path, n, output_file_path):\n",
    "    word_count = Counter()\n",
    "\n",
    "    with open(file_path, 'r') as file:\n",
    "        # Read the file and count word occurrences\n",
    "        for line in file:\n",
    "            words = line.split()\n",
    "            word_count.update(words)\n",
    "\n",
    "    # Get the n most common words as a dictionary\n",
    "    most_common_words = dict(word_count.most_common(n))\n",
    "\n",
    "    # Save the dictionary to a text file\n",
    "    ID = 1\n",
    "    with open(output_file_path, 'w') as output_file:\n",
    "        for word, count in most_common_words.items():\n",
    "          if (word != ',') and (word != '\\\\,'):\n",
    "            output_file.write(f\"{word},{ID} \\n\")\n",
    "            ID += 1\n",
    "        output_file.write(f\"{'PAD'},{ID} \\n\")\n",
    "        ID += 1\n",
    "        output_file.write(f\"{'UNK'},{ID} \\n\")\n",
    "\n",
    "# Example usage\n",
    "n_most_common = 200  # Change this value to get different numbers of most common words\n",
    "!touch ./output.txt\n",
    "output_file_path = \"./output.txt\" # Replace 'output.txt' with the desired output file path\n",
    "\n",
    "create_dictionary(label_file, n_most_common, output_file_path)\n",
    "print(f\"Data saved to {output_file_path}\")"
   ]
  },
  {
   "cell_type": "markdown",
   "metadata": {
    "id": "wo-AcbpxvOmX"
   },
   "source": [
    "Creating dictionary for vocab and tokens"
   ]
  },
  {
   "cell_type": "code",
   "execution_count": 7,
   "metadata": {
    "id": "4mxXIoP5VpeE"
   },
   "outputs": [],
   "source": [
    "'''\n",
    "Dictionary block: converts a LaTeX string to a dictionary of latex tokens, where\n",
    "each unique token has its own entry and integer value assigned to it\n",
    "\n",
    "'''\n",
    "class LatexDict():\n",
    "    def __init__(self, max_seq_length=256):\n",
    "        self.labels_txt = label_file\n",
    "        self.max_seq_length = max_seq_length\n",
    "        self.latex_dict = {'<UKN>':0, '<PAD>':1} # Initialize with token for unknown and for padding\n",
    "        self.latex_dict_inverse = {0:'<UKN>', 1:'<PAD>'} # Initialize inverse dict for quicker reverse lookups\n",
    "        self.create_dict()\n",
    "\n",
    "    def create_dict(self):\n",
    "        # Go through entire label file and populate dictionary\n",
    "        with open(self.labels_txt) as f:\n",
    "            for line in f:\n",
    "                tokens = line.split()\n",
    "                for token in tokens:\n",
    "                    if token not in self.latex_dict:\n",
    "                        # Assign a new ID for the unseen token\n",
    "                        new_id = len(self.latex_dict)\n",
    "                        self.latex_dict[token] = new_id\n",
    "                        self.latex_dict_inverse[new_id] = token\n",
    "\n",
    "    def map_tokens(self, tex_str_list, batch_size):\n",
    "        ids_tensor = torch.full((batch_size, self.max_seq_length), self.latex_dict['<PAD>'], dtype=torch.float32)\n",
    "\n",
    "        for row, tex_str in enumerate(tex_str_list):\n",
    "            tex_str = r'{ ' + tex_str + ' }'\n",
    "            tokens = tex_str.split()\n",
    "            for col, token in enumerate(tokens):\n",
    "                ids_tensor[row, col] = self.latex_dict[token]\n",
    "\n",
    "        return ids_tensor\n",
    "\n",
    "    def tokens_to_tex(self, token_vec):\n",
    "        tex_str = ' '\n",
    "        for token_id in token_vec.tolist():\n",
    "            if token_id in self.latex_dict_inverse:\n",
    "                if self.latex_dict_inverse[token_id] != '<PAD>' and self.latex_dict_inverse[token_id] != '<UKN>':\n",
    "                    tex_str += self.latex_dict_inverse[token_id] + ' '\n",
    "\n",
    "        return tex_str\n",
    "\n",
    "    def __dict__(self):\n",
    "        return self.latex_dict\n",
    "\n",
    "    def __len__(self):\n",
    "        return len(self.latex_dict)\n",
    "\n",
    "latex_dict = LatexDict()"
   ]
  },
  {
   "cell_type": "markdown",
   "metadata": {},
   "source": [
    "LatexDictModified() is debugged version of LatexDict(). The problems with loading labels and dealing with escape characters (e.g \\n, \\t) have been resolved. It also puts UNK for each unknown character"
   ]
  },
  {
   "cell_type": "code",
   "execution_count": 8,
   "metadata": {
    "id": "rz4-zRhiUqJ7"
   },
   "outputs": [],
   "source": [
    "'''\n",
    "Dictionary block: converts a LaTeX string to a dictionary of latex tokens, where\n",
    "each unique token has its own entry and integer value assigned to it\n",
    "\n",
    "'''\n",
    "class LatexDictModified():\n",
    "    def __init__(self, max_seq_length=256):\n",
    "        self.labels_txt = label_file\n",
    "        self.max_seq_length = max_seq_length\n",
    "        self.latex_dict = {} # Initialize with token for unknown and for padding\n",
    "        self.latex_dict_inverse = {} # Initialize inverse dict for quicker reverse lookups\n",
    "        self.create_dict()\n",
    "\n",
    "    def create_dict(self):\n",
    "        # Go through entire label file and populate dictionary\n",
    "\n",
    "      Freq_labeled_file = open(\"./output.txt\", \"r\")\n",
    "\n",
    "      for line in Freq_labeled_file: #For each line in data file\n",
    "          token = line.split(',')[1].split(\" \")[0]\n",
    "          latexSymbol = line.split(\",\")[0]\n",
    "          self.latex_dict[latexSymbol] = int(token)\n",
    "          self.latex_dict_inverse[token] = latexSymbol\n",
    "      Freq_labeled_file.close()\n",
    "\n",
    "    def map_tokens(self, tex_str_list, batch_size):\n",
    "        ids_tensor = torch.full((batch_size, self.max_seq_length), self.latex_dict['PAD'], dtype=torch.float32)\n",
    "\n",
    "        for row, tex_str in enumerate(tex_str_list):\n",
    "            tex_str = r'{ ' + tex_str + ' }'\n",
    " \n",
    "            tokens = tex_str.split()\n",
    "\n",
    "            for col, token in enumerate(tokens):\n",
    "              if token in self.latex_dict:\n",
    "                ids_tensor[row, col] = self.latex_dict[token]\n",
    "              else:\n",
    "               ids_tensor[row, col] = self.latex_dict['UNK']\n",
    "\n",
    "        return ids_tensor\n",
    "\n",
    "    def tokens_to_tex(self, token_vec):\n",
    "        tex_str = ' '\n",
    "        for token_id in token_vec.tolist():\n",
    "            if token_id in self.latex_dict_inverse:\n",
    "                if self.latex_dict_inverse[token_id] != 'PAD' and self.latex_dict_inverse[token_id] != 'UNK':\n",
    "                    tex_str += self.latex_dict_inverse[token_id] + ' '\n",
    "\n",
    "        return tex_str\n",
    "\n",
    "    def __dict__(self):\n",
    "        return self.latex_dict\n",
    "\n",
    "    def __len__(self):\n",
    "        return len(self.latex_dict)\n",
    "\n",
    "latex_dict = LatexDictModified()"
   ]
  },
  {
   "cell_type": "markdown",
   "metadata": {
    "id": "9GOIofbHuJTA"
   },
   "source": [
    "CNN Block with 512 channel output"
   ]
  },
  {
   "cell_type": "code",
   "execution_count": 76,
   "metadata": {
    "id": "hDKuAzMJC6K4"
   },
   "outputs": [],
   "source": [
    "import torch\n",
    "import torch.nn as nn\n",
    "import torch.nn.functional as F\n",
    "from torch.utils.data import DataLoader\n",
    "import torch.optim as optim\n",
    "import math\n",
    "\n",
    "class CNN_Block(nn.Module):\n",
    "    def __init__(self):\n",
    "        super(CNN_Block, self).__init__()\n",
    "        \n",
    "        self.leaky = nn.LeakyReLU(negative_slope=0.1)\n",
    "        # self.conv1 = nn.Conv2d(3, 64, 3)\n",
    "        self.conv1 = nn.Conv2d(1, 64, 3, padding=1, bias=False)    # Images are originally one channel, added padding as well\n",
    "        self.pool = nn.MaxPool2d(2, 2)\n",
    "        self.conv2 = nn.Conv2d(64, 128, 3, padding=1, bias=False)\n",
    "        self.bn1 = nn.BatchNorm2d(128)\n",
    "        # self.pool2 = nn.MaxPool2d(2, 2)\n",
    "        self.conv3 = nn.Conv2d(128, 256, 3, padding=1, bias=False)\n",
    "        # self.pool3 = nn.MaxPool2d(2, 2)\n",
    "        self.conv4 = nn.Conv2d(256, 256, 3, padding=1, bias=False)\n",
    "        self.conv5 = nn.Conv2d(256, 512, 3, padding=1)\n",
    "        self.bn2 = nn.BatchNorm2d(512)\n",
    "        # self.pool4 = nn.MaxPool2d(2, 2)\n",
    "\n",
    "        #self.fc1 = nn.Linear(256 * 2 * 8, 1024)  # Adjusted input size based on the output size of the convolutional layers\n",
    "        #self.fc2 = nn.Linear(1024, 512)\n",
    "\n",
    "\n",
    "    def forward(self, x):\n",
    "#         x = self.pool(F.relu(self.conv1(x)))\n",
    "#         x = self.pool(F.relu(self.conv2(x)))\n",
    "#         x = self.pool(F.relu(self.conv3(x)))\n",
    "#         x = (F.relu(self.conv4(x)))\n",
    "        # x = F.relu(self.conv5(x))\n",
    "    \n",
    "        ''' \n",
    "        Replacing Leaky ReLU instead of ReLU\n",
    "        '''\n",
    "        \n",
    "        x = self.pool(self.leaky(self.conv1(x)))\n",
    "        x = self.pool(self.bn1(self.leaky(self.conv2(x))))\n",
    "        x = self.pool(self.leaky(self.conv3(x)))\n",
    "        x = self.pool(self.leaky(self.conv4(x)))\n",
    "        x = self.bn2(self.leaky(self.conv5(x)))\n",
    "    \n",
    "        #print('x: shape:', x.shape)\n",
    "        #x = x.view(64,-1)   # Flatten so this can be used in linear layers\n",
    "\n",
    "        #x = F.relu(self.fc1(x))\n",
    "        #x = self.fc2(x)\n",
    "\n",
    "        return x\n"
   ]
  },
  {
   "cell_type": "markdown",
   "metadata": {
    "id": "30hqbhPfweUF"
   },
   "source": [
    "Defining decoding class: \\\\\n",
    "  hidden_size: dimensionality of the hidden layer of the LSTM \\\\\n",
    "  batch_size: Size of the batch \\\\\n",
    "  seq_length: length of the input sequence \\\\\n",
    "  vocab_size: size of our dictionary \\\\\n",
    "  emd_size: Number of rows in embedding vector to represent \\\\\n",
    "  enc_out: Number of output channels in encoder \\\\\n",
    "  "
   ]
  },
  {
   "cell_type": "code",
   "execution_count": 84,
   "metadata": {
    "id": "CLbnMOksEcA3"
   },
   "outputs": [],
   "source": [
    "class decoder(nn.Module):\n",
    "  def __init__(self, hidden_size, batch_size, seq_length, vocab_size, embedding_size, enc_out = 512):\n",
    "    super(decoder, self).__init__()\n",
    "\n",
    "    self.hidden_size = hidden_size\n",
    "    self.batch_size = batch_size\n",
    "    self.seq_length = seq_length\n",
    "    self.vocab_size = vocab_size\n",
    "    self.embedding_size = embedding_size\n",
    "    self.enc_out = enc_out\n",
    "\n",
    "\n",
    "    self.cnn_encoder = CNN_Block()\n",
    "    self.lstm = nn.LSTMCell(hidden_size + embedding_size, hidden_size)\n",
    "    self.emb = nn.Embedding(vocab_size,embedding_size )\n",
    "\n",
    "    self.wh_in = nn.Linear(enc_out, hidden_size, bias = False)\n",
    "    self.wc_in = nn.Linear(enc_out, hidden_size, bias = False)\n",
    "    self.wo_in = nn.Linear(enc_out, hidden_size, bias = False)\n",
    "\n",
    "    self.dropout = nn.Dropout(p=0.2)\n",
    "    self.soft = nn.Softmax(dim = 2)\n",
    "    self.device = torch.device('cuda:0' if torch.cuda.is_available() else 'cpu')\n",
    "\n",
    " # Attention mechanism\n",
    "    self.beta = nn.Parameter(torch.Tensor(enc_out))\n",
    "    nn.init.uniform_(self.beta, -1e-2, 1e-2)\n",
    "    self.W_1 = nn.Linear(enc_out, enc_out, bias=False)\n",
    "    self.W_2 = nn.Linear(hidden_size, enc_out, bias=False)\n",
    "\n",
    "    self.W_3 = nn.Linear(hidden_size + enc_out, hidden_size, bias=False)\n",
    "    self.W_out = nn.Linear(hidden_size, vocab_size, bias=False)\n",
    "\n",
    "\n",
    "  def forward(self, im, label):\n",
    "    enc_im = self.encode(im.to(self.device))\n",
    "    dec_states, o_t = self.init_decoder(enc_im.to(self.device))\n",
    "    # Suppose we are taking labels with format [Batch, Max Len, Vocab_size]\n",
    "    max_len = label.shape[1]\n",
    "    outputs = []\n",
    "    flag = False\n",
    "    for i in range(max_len):\n",
    "      lll = label[:, i, :]\n",
    "      target_label = torch.argmax(lll.to(self.device), dim = 1, keepdim = True)\n",
    "      if flag:\n",
    "        target_label = torch.argmax(outputs[-1].to(self.device), dim = 1, keepdim = True) # Finding the result of the previous output and feed it to the next input\n",
    "\n",
    "      dec_states, output = self.step_decode(dec_states, o_t.to(self.device), enc_im.to(self.device), target_label.to(self.device))\n",
    "      outputs.append(output.to(self.device))\n",
    "      flag = True\n",
    "    outputs = torch.stack(outputs, dim=1) # Changing the dimensions to [Batch, Max Len, Vocab_size]\n",
    "    outputs = self.soft(outputs)\n",
    "\n",
    "    return outputs\n",
    "\n",
    "\n",
    "\n",
    "\n",
    "  def encode(self, im):\n",
    "    cnn_encode = self.cnn_encoder(im.to(self.device))\n",
    "    \n",
    "    pe = self.PositionalEmbedding2D(self.enc_out, cnn_encode.shape[2], cnn_encode.shape[3]).repeat(cnn_encode.shape[0], 1, 1, 1).to(self.device)\n",
    "\n",
    "    cnn_encode = cnn_encode.permute(0, 2, 3, 1)   # [Batch, Width, Height, Channel]\n",
    "    batch, height, width, channel = cnn_encode.shape\n",
    "\n",
    "\n",
    "    cnn_encode = cnn_encode.contiguous().view(batch, height * width, -1)  # [Batch, Width*Height, Channel]\n",
    "\n",
    "    return cnn_encode\n",
    "\n",
    "\n",
    "  def PositionalEmbedding2D(self, D_model,height,width):\n",
    "    if D_model % 4 != 0:\n",
    "        raise ValueError(\"Cannot use sin/cos positional encoding with \"\n",
    "                         \"odd dimension (got dim={:d})\".format(D_model))\n",
    "    pe = torch.zeros(D_model,height,width)\n",
    "    d_model = int(D_model / 2)\n",
    "    div_term = torch.exp(torch.arange(0., d_model, 2) * -(math.log(10000.0) / d_model))\n",
    "    pos_w = torch.arange(0., width).unsqueeze(1)\n",
    "    pos_h = torch.arange(0., height).unsqueeze(1)\n",
    "    pe[0:d_model:2, :, :] = torch.sin(pos_w * div_term).transpose(0, 1).unsqueeze(1).repeat(1, height, 1)\n",
    "    pe[1:d_model:2, :, :] = torch.cos(pos_w * div_term).transpose(0, 1).unsqueeze(1).repeat(1, height, 1)\n",
    "    pe[d_model::2, :, :] = torch.sin(pos_h * div_term).transpose(0, 1).unsqueeze(2).repeat(1, 1, width)\n",
    "    pe[d_model + 1::2, :, :] = torch.cos(pos_h * div_term).transpose(0, 1).unsqueeze(2).repeat(1, 1, width)\n",
    "\n",
    "    return pe.permute(0, 1, 2)\n",
    "\n",
    "\n",
    "  def init_decoder(self, enc_im):\n",
    "    '''\n",
    "    Here we are trying to estimate if we had a LSTM module for encoder, what would be the result of H, C, O\n",
    "    '''\n",
    "    enc_im_mean = enc_im.mean(dim=1)\n",
    "    h = torch.tanh(self.wh_in(enc_im_mean))\n",
    "    c = torch.tanh(self.wc_in(enc_im_mean))\n",
    "    o_init = torch.tanh(self.wo_in(enc_im_mean))\n",
    "    return (h, c), o_init\n",
    "\n",
    "\n",
    "\n",
    "  def step_decode(self, dec_states, o_t, enc_im, target_label ):\n",
    "    y_emb = self.emb(target_label).squeeze(1) \n",
    "    inp = torch.cat([y_emb, o_t], dim = 1)\n",
    "    h, c = self.lstm(inp, dec_states)\n",
    "    h = self.dropout(h)\n",
    "    c = self.dropout(c)\n",
    "\n",
    "    contex = self.attentionMechanism(enc_im, h)\n",
    "\n",
    "    o_t = self.W_3(torch.cat([h, contex], dim=1)).tanh()\n",
    "    o_t = self.dropout(o_t)\n",
    "    output = self.W_out(o_t)\n",
    "\n",
    "    return (h, c), output\n",
    "\n",
    "\n",
    "  def attentionMechanism(self, enc_im, h):\n",
    "    alpha = torch.tanh(self.W_1(enc_im) + self.W_2(h).unsqueeze(1))\n",
    "    alpha = torch.sum(self.beta * alpha, dim=-1)  # [B, L]\n",
    "    alpha = F.softmax(alpha, dim=-1)  # [B, L]\n",
    "\n",
    "    # cal context: [B, C]\n",
    "    contex = torch.bmm(alpha.unsqueeze(1), enc_im)\n",
    "    contex = contex.squeeze(1)\n",
    "    return contex\n",
    "\n"
   ]
  },
  {
   "cell_type": "markdown",
   "metadata": {
    "id": "3t9NJD8auV8d"
   },
   "source": [
    "Initializing the database and code output"
   ]
  },
  {
   "cell_type": "code",
   "execution_count": 18,
   "metadata": {
    "colab": {
     "base_uri": "https://localhost:8080/"
    },
    "id": "Aw9WMMXTVEma",
    "outputId": "30ad3e14-e2f6-437a-d818-49e22efda13a"
   },
   "outputs": [
    {
     "name": "stdout",
     "output_type": "stream",
     "text": [
      "Device: cuda:0\n"
     ]
    }
   ],
   "source": [
    "'''\n",
    "Initialize dataset and image preprocessing\n",
    "\n",
    "NOTE:\n",
    "    Some of the images in the dataset are corrupted. To deal with this,\n",
    "    there is a check for each image to ensure that it can be loaded.\n",
    "'''\n",
    "import torchvision.transforms as transforms\n",
    "\n",
    "reduced_imsize = (32, 128)  # Images are reduced to this size\n",
    "\n",
    "# Define the transform pipeline - add normalization?\n",
    "transform = transforms.Compose([\n",
    "    transforms.Resize(reduced_imsize),\n",
    "    transforms.ToTensor(),\n",
    "])\n",
    "\n",
    "\n",
    "seq_length = 150        # Maximum number of sequence length i\n",
    "\n",
    "train_dataset = LatexDataset(transform=transform, dataroot=train_root, max_seq_length=seq_length)\n",
    "test_dataset = LatexDataset(transform=transform, dataroot=test_root)\n",
    "val_dataset = LatexDataset(transform=transform, dataroot=val_root)\n",
    "\n",
    "# Device settings\n",
    "device = torch.device('cuda:0' if torch.cuda.is_available() else 'cpu')\n",
    "print(f'Device: {device}')"
   ]
  },
  {
   "cell_type": "code",
   "execution_count": 88,
   "metadata": {
    "id": "SFw7DkJOuOTY"
   },
   "outputs": [],
   "source": [
    "'''\n",
    "Initialize hyperperameters, trainloader, and dictionary of LaTeX token mappings\n",
    "'''\n",
    "\n",
    "# Hyperparameters\n",
    "batch_size = 16\n",
    "learning_rate = 0.001\n",
    "weight_decay = 0  # (L2 penalty)\n",
    "\n",
    "latex_dict = LatexDictModified(max_seq_length=seq_length)\n",
    "\n",
    "trainloader = torch.utils.data.DataLoader(train_dataset, batch_size=batch_size, shuffle=True, num_workers=8, drop_last=True)\n"
   ]
  },
  {
   "cell_type": "code",
   "execution_count": 89,
   "metadata": {
    "id": "2Oh2cr8juSn7"
   },
   "outputs": [],
   "source": [
    "'''\n",
    "Initialize Model\n",
    "\n",
    "Initialize Loss Functions:\n",
    "1. Normal Cross-Entropy Loss between prediction and label\n",
    "2. LaTeX compile test:\n",
    "    - Custom function, returns True if code can compile into LaTeX, False if not\n",
    "\n",
    "Initialize Optimizer:\n",
    "1. Adam Optimizer\n",
    "'''\n",
    "\n",
    "    # Hyperparameters\n",
    "\n",
    "\n",
    "hidden_size = 200\n",
    "batch_size = 16\n",
    "vocab_size = latex_dict.__len__()\n",
    "embedding_size = 80\n",
    "model = decoder(hidden_size, batch_size, seq_length, vocab_size, embedding_size).to(device)\n",
    "\n",
    "# model = Model(embedding_size=embedding_size, hidden_size=hidden_size, batch_size=batch_size, sequence_length=sequence_length, vocab_size=vocab_size, o_layer_size = o_layer_size).to(device)\n",
    "criterion = nn.CrossEntropyLoss()   ## May need to change this\n",
    "optimizer = torch.optim.Adam(model.parameters(), lr=learning_rate, weight_decay=weight_decay)"
   ]
  },
  {
   "cell_type": "markdown",
   "metadata": {},
   "source": [
    "Latex Checker"
   ]
  },
  {
   "cell_type": "markdown",
   "metadata": {},
   "source": [
    "Install Dependencies"
   ]
  },
  {
   "cell_type": "code",
   "execution_count": null,
   "metadata": {},
   "outputs": [],
   "source": [
    "!pip install folium==0.2.1\n",
    "!pip install pdflatex\n",
    "!sudo apt-get install texlive-latex-recommended \n",
    "!sudo apt install texlive-latex-extra\n",
    "!sudo apt install dvipng"
   ]
  },
  {
   "cell_type": "markdown",
   "metadata": {},
   "source": [
    "Function: "
   ]
  },
  {
   "cell_type": "code",
   "execution_count": null,
   "metadata": {},
   "outputs": [],
   "source": [
    "import subprocess\n",
    "import pdflatex as ptex\n",
    "def check_latex_syntax(tex_code):\n",
    "    try:\n",
    "        # Create a .tex file with the provided LaTeX code\n",
    "        with open('temp.tex', 'w') as file:\n",
    "            file.write(tex_code)\n",
    "\n",
    "        # Run pdflatex to compile the temporary .tex file\n",
    "        subprocess.run(['pdflatex', '-interaction=batchmode', 'temp.tex'], stdout=subprocess.DEVNULL, stderr=subprocess.DEVNULL)\n",
    "\n",
    "        # Check the return code to determine if compilation was successful\n",
    "        return_code = subprocess.call(['pdflatex', '-interaction=batchmode', 'temp.tex'], stdout=subprocess.DEVNULL, stderr=subprocess.DEVNULL)\n",
    "\n",
    "        if return_code == 0:\n",
    "            return True  # Compilation successful, syntax is valid\n",
    "        else:\n",
    "            return False  # Compilation failed, syntax is invalid\n",
    "\n",
    "    except subprocess.CalledProcessError:\n",
    "        return False\n",
    "\n",
    "    finally:\n",
    "        # Clean up temporary files\n",
    "        subprocess.run(['rm', 'temp.tex', 'temp.log', 'temp.aux'], stdout=subprocess.DEVNULL, stderr=subprocess.DEVNULL)\n",
    "\n",
    "\n",
    "#Counting the failed in compiling\n",
    "def count_latex_errors(tex_code):\n",
    "  Error_count = 0\n",
    "  for i in range(len(tex_code)):\n",
    "    temp_text = tex_code[i]\n",
    "    result = check_latex_syntax(temp_text)\n",
    "    if result:\n",
    "      pass\n",
    "    else:\n",
    "      Error_count += 1\n",
    "  return Error_count\n",
    "def making_input_syntax_check(tex_str_list):\n",
    "  Latex_code = []\n",
    "  Base_start = r'''\n",
    "\\documentclass{article}\n",
    "\\begin{document}\n",
    "'''\n",
    "  Base_end = r'''\n",
    "\\end{document}\n",
    "'''\n",
    "  for i in range(len(tex_str_list)):\n",
    "    temp_tex_str = Base_start + '$' + tex_str_list[i] + '$' + Base_end\n",
    "    Latex_code.append(temp_tex_str)\n",
    "  return Latex_code"
   ]
  },
  {
   "cell_type": "markdown",
   "metadata": {},
   "source": [
    "Usage Example"
   ]
  },
  {
   "cell_type": "code",
   "execution_count": null,
   "metadata": {},
   "outputs": [],
   "source": [
    "latex_code = r'''\\beta'''\n",
    "latex = r'''\\frac{a}{b}'''\n",
    "\n",
    "tex_code =[]\n",
    "tex_code.append(latex_code)\n",
    "tex_code.append(latex)\n",
    "tex_code_correct = making_input_syntax_check(tex_code)\n",
    "# Check the LaTeX syntax\n",
    "print(count_latex_errors(tex_code_correct))"
   ]
  },
  {
   "cell_type": "markdown",
   "metadata": {},
   "source": [
    "Training Loop"
   ]
  },
  {
   "cell_type": "code",
   "execution_count": 87,
   "metadata": {
    "colab": {
     "base_uri": "https://localhost:8080/"
    },
    "id": "XZWp0jJDL7_d",
    "outputId": "d1cd928c-95bf-4a9c-9847-bf772984f193",
    "scrolled": true
   },
   "outputs": [
    {
     "name": "stdout",
     "output_type": "stream",
     "text": [
      "epoch: 0\n"
     ]
    },
    {
     "name": "stderr",
     "output_type": "stream",
     "text": [
      "  0%|          | 0/1529 [00:00<?, ?it/s]/scratch/2885366.1.ece/ipykernel_2656175/2454034753.py:29: UserWarning: To copy construct from a tensor, it is recommended to use sourceTensor.clone().detach() or sourceTensor.clone().detach().requires_grad_(True), rather than torch.tensor(sourceTensor).\n",
      "  y_vec = torch.tensor(y_vec, dtype=torch.long)\n",
      "/scratch/2885366.1.ece/ipykernel_2656175/2454034753.py:46: UserWarning: To copy construct from a tensor, it is recommended to use sourceTensor.clone().detach() or sourceTensor.clone().detach().requires_grad_(True), rather than torch.tensor(sourceTensor).\n",
      "  one_hot = torch.tensor(one_hot, dtype=torch.float)\n",
      "  0%|          | 1/1529 [00:00<18:05,  1.41it/s]"
     ]
    },
    {
     "name": "stdout",
     "output_type": "stream",
     "text": [
      "tensor(3.7580, device='cuda:0', grad_fn=<DivBackward1>)\n"
     ]
    },
    {
     "name": "stderr",
     "output_type": "stream",
     "text": [
      "\r\n",
      "  0%|          | 2/1529 [00:01<13:33,  1.88it/s]"
     ]
    },
    {
     "name": "stdout",
     "output_type": "stream",
     "text": [
      "tensor(3.7580, device='cuda:0', grad_fn=<DivBackward1>)\n"
     ]
    },
    {
     "name": "stderr",
     "output_type": "stream",
     "text": [
      "\r\n",
      "  0%|          | 3/1529 [00:01<12:02,  2.11it/s]"
     ]
    },
    {
     "name": "stdout",
     "output_type": "stream",
     "text": [
      "tensor(3.7580, device='cuda:0', grad_fn=<DivBackward1>)\n"
     ]
    },
    {
     "name": "stderr",
     "output_type": "stream",
     "text": [
      "\r\n",
      "  0%|          | 4/1529 [00:01<11:16,  2.25it/s]"
     ]
    },
    {
     "name": "stdout",
     "output_type": "stream",
     "text": [
      "tensor(3.7579, device='cuda:0', grad_fn=<DivBackward1>)\n"
     ]
    },
    {
     "name": "stderr",
     "output_type": "stream",
     "text": [
      "\r\n",
      "  0%|          | 5/1529 [00:02<10:48,  2.35it/s]"
     ]
    },
    {
     "name": "stdout",
     "output_type": "stream",
     "text": [
      "tensor(3.7576, device='cuda:0', grad_fn=<DivBackward1>)\n"
     ]
    },
    {
     "name": "stderr",
     "output_type": "stream",
     "text": [
      "\r\n",
      "  0%|          | 6/1529 [00:02<10:32,  2.41it/s]"
     ]
    },
    {
     "name": "stdout",
     "output_type": "stream",
     "text": [
      "tensor(3.7572, device='cuda:0', grad_fn=<DivBackward1>)\n"
     ]
    },
    {
     "name": "stderr",
     "output_type": "stream",
     "text": [
      "\r\n",
      "  0%|          | 7/1529 [00:03<10:21,  2.45it/s]"
     ]
    },
    {
     "name": "stdout",
     "output_type": "stream",
     "text": [
      "tensor(3.7563, device='cuda:0', grad_fn=<DivBackward1>)\n"
     ]
    },
    {
     "name": "stderr",
     "output_type": "stream",
     "text": [
      "\r\n",
      "  1%|          | 8/1529 [00:03<10:15,  2.47it/s]"
     ]
    },
    {
     "name": "stdout",
     "output_type": "stream",
     "text": [
      "tensor(3.7549, device='cuda:0', grad_fn=<DivBackward1>)\n"
     ]
    },
    {
     "name": "stderr",
     "output_type": "stream",
     "text": [
      "\r\n",
      "  1%|          | 9/1529 [00:03<10:10,  2.49it/s]"
     ]
    },
    {
     "name": "stdout",
     "output_type": "stream",
     "text": [
      "tensor(3.7526, device='cuda:0', grad_fn=<DivBackward1>)\n"
     ]
    },
    {
     "name": "stderr",
     "output_type": "stream",
     "text": [
      "\r\n",
      "  1%|          | 10/1529 [00:04<10:07,  2.50it/s]"
     ]
    },
    {
     "name": "stdout",
     "output_type": "stream",
     "text": [
      "tensor(3.7509, device='cuda:0', grad_fn=<DivBackward1>)\n"
     ]
    },
    {
     "name": "stderr",
     "output_type": "stream",
     "text": [
      "\r\n",
      "  1%|          | 11/1529 [00:04<10:05,  2.51it/s]"
     ]
    },
    {
     "name": "stdout",
     "output_type": "stream",
     "text": [
      "tensor(3.7486, device='cuda:0', grad_fn=<DivBackward1>)\n"
     ]
    },
    {
     "name": "stderr",
     "output_type": "stream",
     "text": [
      "\r\n",
      "  1%|          | 12/1529 [00:05<10:03,  2.51it/s]"
     ]
    },
    {
     "name": "stdout",
     "output_type": "stream",
     "text": [
      "tensor(3.7500, device='cuda:0', grad_fn=<DivBackward1>)\n"
     ]
    },
    {
     "name": "stderr",
     "output_type": "stream",
     "text": [
      "\r\n",
      "  1%|          | 13/1529 [00:05<10:02,  2.52it/s]"
     ]
    },
    {
     "name": "stdout",
     "output_type": "stream",
     "text": [
      "tensor(3.7580, device='cuda:0', grad_fn=<DivBackward1>)\n"
     ]
    },
    {
     "name": "stderr",
     "output_type": "stream",
     "text": [
      "\r\n",
      "  1%|          | 14/1529 [00:05<10:00,  2.52it/s]"
     ]
    },
    {
     "name": "stdout",
     "output_type": "stream",
     "text": [
      "tensor(3.7580, device='cuda:0', grad_fn=<DivBackward1>)\n"
     ]
    },
    {
     "name": "stderr",
     "output_type": "stream",
     "text": [
      "\r\n",
      "  1%|          | 15/1529 [00:06<10:00,  2.52it/s]"
     ]
    },
    {
     "name": "stdout",
     "output_type": "stream",
     "text": [
      "tensor(3.7580, device='cuda:0', grad_fn=<DivBackward1>)\n"
     ]
    },
    {
     "name": "stderr",
     "output_type": "stream",
     "text": [
      "\r\n",
      "  1%|          | 16/1529 [00:06<10:03,  2.51it/s]"
     ]
    },
    {
     "name": "stdout",
     "output_type": "stream",
     "text": [
      "tensor(3.7580, device='cuda:0', grad_fn=<DivBackward1>)\n"
     ]
    },
    {
     "name": "stderr",
     "output_type": "stream",
     "text": [
      "\r\n",
      "  1%|          | 17/1529 [00:07<10:00,  2.52it/s]"
     ]
    },
    {
     "name": "stdout",
     "output_type": "stream",
     "text": [
      "tensor(3.7580, device='cuda:0', grad_fn=<DivBackward1>)\n"
     ]
    },
    {
     "name": "stderr",
     "output_type": "stream",
     "text": [
      "\r\n",
      "  1%|          | 18/1529 [00:07<09:58,  2.52it/s]"
     ]
    },
    {
     "name": "stdout",
     "output_type": "stream",
     "text": [
      "tensor(3.7579, device='cuda:0', grad_fn=<DivBackward1>)\n"
     ]
    },
    {
     "name": "stderr",
     "output_type": "stream",
     "text": [
      "\r\n",
      "  1%|          | 19/1529 [00:07<09:57,  2.53it/s]"
     ]
    },
    {
     "name": "stdout",
     "output_type": "stream",
     "text": [
      "tensor(3.7581, device='cuda:0', grad_fn=<DivBackward1>)\n"
     ]
    },
    {
     "name": "stderr",
     "output_type": "stream",
     "text": [
      "\r\n",
      "  1%|▏         | 20/1529 [00:08<09:57,  2.53it/s]"
     ]
    },
    {
     "name": "stdout",
     "output_type": "stream",
     "text": [
      "tensor(3.7570, device='cuda:0', grad_fn=<DivBackward1>)\n"
     ]
    },
    {
     "name": "stderr",
     "output_type": "stream",
     "text": [
      "\r\n",
      "  1%|▏         | 21/1529 [00:08<09:56,  2.53it/s]"
     ]
    },
    {
     "name": "stdout",
     "output_type": "stream",
     "text": [
      "tensor(3.7538, device='cuda:0', grad_fn=<DivBackward1>)\n"
     ]
    },
    {
     "name": "stderr",
     "output_type": "stream",
     "text": [
      "\r\n",
      "  1%|▏         | 22/1529 [00:09<09:56,  2.53it/s]"
     ]
    },
    {
     "name": "stdout",
     "output_type": "stream",
     "text": [
      "tensor(3.7563, device='cuda:0', grad_fn=<DivBackward1>)\n"
     ]
    },
    {
     "name": "stderr",
     "output_type": "stream",
     "text": [
      "\r\n",
      "  2%|▏         | 23/1529 [00:09<09:56,  2.53it/s]"
     ]
    },
    {
     "name": "stdout",
     "output_type": "stream",
     "text": [
      "tensor(3.7541, device='cuda:0', grad_fn=<DivBackward1>)\n"
     ]
    },
    {
     "name": "stderr",
     "output_type": "stream",
     "text": [
      "\r\n",
      "  2%|▏         | 24/1529 [00:09<09:55,  2.53it/s]"
     ]
    },
    {
     "name": "stdout",
     "output_type": "stream",
     "text": [
      "tensor(3.7582, device='cuda:0', grad_fn=<DivBackward1>)\n"
     ]
    },
    {
     "name": "stderr",
     "output_type": "stream",
     "text": [
      "\r\n",
      "  2%|▏         | 25/1529 [00:10<09:57,  2.52it/s]"
     ]
    },
    {
     "name": "stdout",
     "output_type": "stream",
     "text": [
      "tensor(3.7541, device='cuda:0', grad_fn=<DivBackward1>)\n"
     ]
    },
    {
     "name": "stderr",
     "output_type": "stream",
     "text": [
      "\r\n",
      "  2%|▏         | 26/1529 [00:10<09:57,  2.51it/s]"
     ]
    },
    {
     "name": "stdout",
     "output_type": "stream",
     "text": [
      "tensor(3.7519, device='cuda:0', grad_fn=<DivBackward1>)\n"
     ]
    },
    {
     "name": "stderr",
     "output_type": "stream",
     "text": [
      "\r\n",
      "  2%|▏         | 27/1529 [00:11<09:55,  2.52it/s]"
     ]
    },
    {
     "name": "stdout",
     "output_type": "stream",
     "text": [
      "tensor(3.7449, device='cuda:0', grad_fn=<DivBackward1>)\n"
     ]
    },
    {
     "name": "stderr",
     "output_type": "stream",
     "text": [
      "\r\n",
      "  2%|▏         | 28/1529 [00:11<09:56,  2.52it/s]"
     ]
    },
    {
     "name": "stdout",
     "output_type": "stream",
     "text": [
      "tensor(3.7391, device='cuda:0', grad_fn=<DivBackward1>)\n"
     ]
    },
    {
     "name": "stderr",
     "output_type": "stream",
     "text": [
      "\r\n",
      "  2%|▏         | 29/1529 [00:11<09:55,  2.52it/s]"
     ]
    },
    {
     "name": "stdout",
     "output_type": "stream",
     "text": [
      "tensor(3.7212, device='cuda:0', grad_fn=<DivBackward1>)\n"
     ]
    },
    {
     "name": "stderr",
     "output_type": "stream",
     "text": [
      "\r\n",
      "  2%|▏         | 30/1529 [00:12<09:56,  2.51it/s]"
     ]
    },
    {
     "name": "stdout",
     "output_type": "stream",
     "text": [
      "tensor(3.7546, device='cuda:0', grad_fn=<DivBackward1>)\n"
     ]
    },
    {
     "name": "stderr",
     "output_type": "stream",
     "text": [
      "\r\n",
      "  2%|▏         | 31/1529 [00:12<09:56,  2.51it/s]"
     ]
    },
    {
     "name": "stdout",
     "output_type": "stream",
     "text": [
      "tensor(3.7513, device='cuda:0', grad_fn=<DivBackward1>)\n"
     ]
    },
    {
     "name": "stderr",
     "output_type": "stream",
     "text": [
      "\r\n",
      "  2%|▏         | 32/1529 [00:13<09:55,  2.52it/s]"
     ]
    },
    {
     "name": "stdout",
     "output_type": "stream",
     "text": [
      "tensor(3.7449, device='cuda:0', grad_fn=<DivBackward1>)\n"
     ]
    },
    {
     "name": "stderr",
     "output_type": "stream",
     "text": [
      "\r\n",
      "  2%|▏         | 33/1529 [00:13<09:52,  2.52it/s]"
     ]
    },
    {
     "name": "stdout",
     "output_type": "stream",
     "text": [
      "tensor(3.7514, device='cuda:0', grad_fn=<DivBackward1>)\n"
     ]
    },
    {
     "name": "stderr",
     "output_type": "stream",
     "text": [
      "\r\n",
      "  2%|▏         | 34/1529 [00:13<09:52,  2.52it/s]"
     ]
    },
    {
     "name": "stdout",
     "output_type": "stream",
     "text": [
      "tensor(3.7484, device='cuda:0', grad_fn=<DivBackward1>)\n"
     ]
    },
    {
     "name": "stderr",
     "output_type": "stream",
     "text": [
      "\r\n",
      "  2%|▏         | 35/1529 [00:14<09:51,  2.53it/s]"
     ]
    },
    {
     "name": "stdout",
     "output_type": "stream",
     "text": [
      "tensor(3.7489, device='cuda:0', grad_fn=<DivBackward1>)\n"
     ]
    },
    {
     "name": "stderr",
     "output_type": "stream",
     "text": [
      "\r\n",
      "  2%|▏         | 36/1529 [00:14<09:51,  2.52it/s]"
     ]
    },
    {
     "name": "stdout",
     "output_type": "stream",
     "text": [
      "tensor(3.7478, device='cuda:0', grad_fn=<DivBackward1>)\n"
     ]
    },
    {
     "name": "stderr",
     "output_type": "stream",
     "text": [
      "\r\n",
      "  2%|▏         | 37/1529 [00:14<09:50,  2.53it/s]"
     ]
    },
    {
     "name": "stdout",
     "output_type": "stream",
     "text": [
      "tensor(3.7463, device='cuda:0', grad_fn=<DivBackward1>)\n"
     ]
    },
    {
     "name": "stderr",
     "output_type": "stream",
     "text": [
      "\r\n",
      "  2%|▏         | 38/1529 [00:15<09:50,  2.53it/s]"
     ]
    },
    {
     "name": "stdout",
     "output_type": "stream",
     "text": [
      "tensor(3.7477, device='cuda:0', grad_fn=<DivBackward1>)\n"
     ]
    },
    {
     "name": "stderr",
     "output_type": "stream",
     "text": [
      "\r\n",
      "  3%|▎         | 39/1529 [00:15<09:49,  2.53it/s]"
     ]
    },
    {
     "name": "stdout",
     "output_type": "stream",
     "text": [
      "tensor(3.7418, device='cuda:0', grad_fn=<DivBackward1>)\n"
     ]
    },
    {
     "name": "stderr",
     "output_type": "stream",
     "text": [
      "\r\n",
      "  3%|▎         | 40/1529 [00:16<09:48,  2.53it/s]"
     ]
    },
    {
     "name": "stdout",
     "output_type": "stream",
     "text": [
      "tensor(3.7412, device='cuda:0', grad_fn=<DivBackward1>)\n"
     ]
    },
    {
     "name": "stderr",
     "output_type": "stream",
     "text": [
      "\r\n",
      "  3%|▎         | 41/1529 [00:16<09:48,  2.53it/s]"
     ]
    },
    {
     "name": "stdout",
     "output_type": "stream",
     "text": [
      "tensor(3.7461, device='cuda:0', grad_fn=<DivBackward1>)\n"
     ]
    },
    {
     "name": "stderr",
     "output_type": "stream",
     "text": [
      "\r\n",
      "  3%|▎         | 42/1529 [00:16<09:49,  2.52it/s]"
     ]
    },
    {
     "name": "stdout",
     "output_type": "stream",
     "text": [
      "tensor(3.7439, device='cuda:0', grad_fn=<DivBackward1>)\n"
     ]
    },
    {
     "name": "stderr",
     "output_type": "stream",
     "text": [
      "\r\n",
      "  3%|▎         | 43/1529 [00:17<09:49,  2.52it/s]"
     ]
    },
    {
     "name": "stdout",
     "output_type": "stream",
     "text": [
      "tensor(3.7382, device='cuda:0', grad_fn=<DivBackward1>)\n"
     ]
    },
    {
     "name": "stderr",
     "output_type": "stream",
     "text": [
      "\r\n",
      "  3%|▎         | 44/1529 [00:17<09:49,  2.52it/s]"
     ]
    },
    {
     "name": "stdout",
     "output_type": "stream",
     "text": [
      "tensor(3.7410, device='cuda:0', grad_fn=<DivBackward1>)\n"
     ]
    },
    {
     "name": "stderr",
     "output_type": "stream",
     "text": [
      "\r\n",
      "  3%|▎         | 45/1529 [00:18<09:49,  2.52it/s]"
     ]
    },
    {
     "name": "stdout",
     "output_type": "stream",
     "text": [
      "tensor(3.7448, device='cuda:0', grad_fn=<DivBackward1>)\n"
     ]
    },
    {
     "name": "stderr",
     "output_type": "stream",
     "text": [
      "\r\n",
      "  3%|▎         | 46/1529 [00:18<09:48,  2.52it/s]"
     ]
    },
    {
     "name": "stdout",
     "output_type": "stream",
     "text": [
      "tensor(3.7459, device='cuda:0', grad_fn=<DivBackward1>)\n"
     ]
    },
    {
     "name": "stderr",
     "output_type": "stream",
     "text": [
      "\r\n",
      "  3%|▎         | 47/1529 [00:18<09:48,  2.52it/s]"
     ]
    },
    {
     "name": "stdout",
     "output_type": "stream",
     "text": [
      "tensor(3.7407, device='cuda:0', grad_fn=<DivBackward1>)\n"
     ]
    },
    {
     "name": "stderr",
     "output_type": "stream",
     "text": [
      "\r\n",
      "  3%|▎         | 48/1529 [00:19<09:47,  2.52it/s]"
     ]
    },
    {
     "name": "stdout",
     "output_type": "stream",
     "text": [
      "tensor(3.7375, device='cuda:0', grad_fn=<DivBackward1>)\n"
     ]
    },
    {
     "name": "stderr",
     "output_type": "stream",
     "text": [
      "\r\n",
      "  3%|▎         | 49/1529 [00:19<09:47,  2.52it/s]"
     ]
    },
    {
     "name": "stdout",
     "output_type": "stream",
     "text": [
      "tensor(3.7405, device='cuda:0', grad_fn=<DivBackward1>)\n"
     ]
    },
    {
     "name": "stderr",
     "output_type": "stream",
     "text": [
      "\r\n",
      "  3%|▎         | 50/1529 [00:20<09:55,  2.49it/s]"
     ]
    },
    {
     "name": "stdout",
     "output_type": "stream",
     "text": [
      "tensor(3.7356, device='cuda:0', grad_fn=<DivBackward1>)\n",
      "===================Checking gradient===============\n",
      "beta tensor(0.0124, device='cuda:0')\n",
      "cnn_encoder.conv1.weight tensor(0.0133, device='cuda:0')\n",
      "cnn_encoder.conv2.weight tensor(0.0104, device='cuda:0')\n",
      "cnn_encoder.bn1.weight tensor(0.0002, device='cuda:0')\n",
      "cnn_encoder.bn1.bias tensor(0.0003, device='cuda:0')\n",
      "cnn_encoder.conv3.weight tensor(0.0032, device='cuda:0')\n",
      "cnn_encoder.conv4.weight tensor(0.0076, device='cuda:0')\n",
      "cnn_encoder.conv5.weight tensor(0.0100, device='cuda:0')\n",
      "cnn_encoder.conv5.bias tensor(6.7728e-06, device='cuda:0')\n",
      "cnn_encoder.bn2.weight tensor(0.0005, device='cuda:0')\n",
      "cnn_encoder.bn2.bias tensor(0.0011, device='cuda:0')\n",
      "lstm.weight_ih tensor(0.0172, device='cuda:0')\n",
      "lstm.weight_hh tensor(0.0076, device='cuda:0')\n",
      "lstm.bias_ih tensor(0.0017, device='cuda:0')\n",
      "lstm.bias_hh tensor(0.0017, device='cuda:0')\n",
      "emb.weight tensor(0.0014, device='cuda:0')\n",
      "wh_in.weight tensor(0.0002, device='cuda:0')\n",
      "wc_in.weight tensor(0.0002, device='cuda:0')\n",
      "wo_in.weight tensor(0.0080, device='cuda:0')\n",
      "W_1.weight tensor(0.0012, device='cuda:0')\n",
      "W_2.weight tensor(0.0006, device='cuda:0')\n",
      "W_3.weight tensor(0.0043, device='cuda:0')\n",
      "W_out.weight tensor(0.0072, device='cuda:0')\n",
      "===================    Finished   =================\n"
     ]
    },
    {
     "name": "stderr",
     "output_type": "stream",
     "text": [
      "\r\n",
      "  3%|▎         | 51/1529 [00:20<09:52,  2.49it/s]"
     ]
    },
    {
     "name": "stdout",
     "output_type": "stream",
     "text": [
      "tensor(3.7370, device='cuda:0', grad_fn=<DivBackward1>)\n"
     ]
    },
    {
     "name": "stderr",
     "output_type": "stream",
     "text": [
      "\r\n",
      "  3%|▎         | 52/1529 [00:20<09:51,  2.50it/s]"
     ]
    },
    {
     "name": "stdout",
     "output_type": "stream",
     "text": [
      "tensor(3.7484, device='cuda:0', grad_fn=<DivBackward1>)\n"
     ]
    },
    {
     "name": "stderr",
     "output_type": "stream",
     "text": [
      "\r\n",
      "  3%|▎         | 53/1529 [00:21<09:49,  2.50it/s]"
     ]
    },
    {
     "name": "stdout",
     "output_type": "stream",
     "text": [
      "tensor(3.7512, device='cuda:0', grad_fn=<DivBackward1>)\n"
     ]
    },
    {
     "name": "stderr",
     "output_type": "stream",
     "text": [
      "\r\n",
      "  4%|▎         | 54/1529 [00:21<09:48,  2.51it/s]"
     ]
    },
    {
     "name": "stdout",
     "output_type": "stream",
     "text": [
      "tensor(3.7285, device='cuda:0', grad_fn=<DivBackward1>)\n"
     ]
    },
    {
     "name": "stderr",
     "output_type": "stream",
     "text": [
      "\r\n",
      "  4%|▎         | 55/1529 [00:22<09:46,  2.51it/s]"
     ]
    },
    {
     "name": "stdout",
     "output_type": "stream",
     "text": [
      "tensor(3.7253, device='cuda:0', grad_fn=<DivBackward1>)\n"
     ]
    },
    {
     "name": "stderr",
     "output_type": "stream",
     "text": [
      "\r\n",
      "  4%|▎         | 56/1529 [00:22<09:45,  2.51it/s]"
     ]
    },
    {
     "name": "stdout",
     "output_type": "stream",
     "text": [
      "tensor(3.7471, device='cuda:0', grad_fn=<DivBackward1>)\n"
     ]
    },
    {
     "name": "stderr",
     "output_type": "stream",
     "text": [
      "\r\n",
      "  4%|▎         | 57/1529 [00:22<09:42,  2.53it/s]"
     ]
    },
    {
     "name": "stdout",
     "output_type": "stream",
     "text": [
      "tensor(3.7299, device='cuda:0', grad_fn=<DivBackward1>)\n"
     ]
    },
    {
     "name": "stderr",
     "output_type": "stream",
     "text": [
      "\r\n",
      "  4%|▍         | 58/1529 [00:23<09:43,  2.52it/s]"
     ]
    },
    {
     "name": "stdout",
     "output_type": "stream",
     "text": [
      "tensor(3.7302, device='cuda:0', grad_fn=<DivBackward1>)\n"
     ]
    },
    {
     "name": "stderr",
     "output_type": "stream",
     "text": [
      "\r\n",
      "  4%|▍         | 59/1529 [00:23<09:41,  2.53it/s]"
     ]
    },
    {
     "name": "stdout",
     "output_type": "stream",
     "text": [
      "tensor(3.7276, device='cuda:0', grad_fn=<DivBackward1>)\n"
     ]
    },
    {
     "name": "stderr",
     "output_type": "stream",
     "text": [
      "\r\n",
      "  4%|▍         | 60/1529 [00:24<09:42,  2.52it/s]"
     ]
    },
    {
     "name": "stdout",
     "output_type": "stream",
     "text": [
      "tensor(3.7207, device='cuda:0', grad_fn=<DivBackward1>)\n"
     ]
    },
    {
     "name": "stderr",
     "output_type": "stream",
     "text": [
      "\r\n",
      "  4%|▍         | 61/1529 [00:24<09:42,  2.52it/s]"
     ]
    },
    {
     "name": "stdout",
     "output_type": "stream",
     "text": [
      "tensor(3.7261, device='cuda:0', grad_fn=<DivBackward1>)\n"
     ]
    },
    {
     "name": "stderr",
     "output_type": "stream",
     "text": [
      "\r\n",
      "  4%|▍         | 62/1529 [00:24<09:41,  2.52it/s]"
     ]
    },
    {
     "name": "stdout",
     "output_type": "stream",
     "text": [
      "tensor(3.7186, device='cuda:0', grad_fn=<DivBackward1>)\n"
     ]
    },
    {
     "name": "stderr",
     "output_type": "stream",
     "text": [
      "\r\n",
      "  4%|▍         | 63/1529 [00:25<09:41,  2.52it/s]"
     ]
    },
    {
     "name": "stdout",
     "output_type": "stream",
     "text": [
      "tensor(3.7194, device='cuda:0', grad_fn=<DivBackward1>)\n"
     ]
    },
    {
     "name": "stderr",
     "output_type": "stream",
     "text": [
      "\r\n",
      "  4%|▍         | 64/1529 [00:25<09:41,  2.52it/s]"
     ]
    },
    {
     "name": "stdout",
     "output_type": "stream",
     "text": [
      "tensor(3.7115, device='cuda:0', grad_fn=<DivBackward1>)\n"
     ]
    },
    {
     "name": "stderr",
     "output_type": "stream",
     "text": [
      "\r\n",
      "  4%|▍         | 65/1529 [00:26<09:39,  2.53it/s]"
     ]
    },
    {
     "name": "stdout",
     "output_type": "stream",
     "text": [
      "tensor(3.7059, device='cuda:0', grad_fn=<DivBackward1>)\n"
     ]
    },
    {
     "name": "stderr",
     "output_type": "stream",
     "text": [
      "\r\n",
      "  4%|▍         | 66/1529 [00:26<09:39,  2.52it/s]"
     ]
    },
    {
     "name": "stdout",
     "output_type": "stream",
     "text": [
      "tensor(3.7310, device='cuda:0', grad_fn=<DivBackward1>)\n"
     ]
    },
    {
     "name": "stderr",
     "output_type": "stream",
     "text": [
      "\r\n",
      "  4%|▍         | 67/1529 [00:26<09:38,  2.53it/s]"
     ]
    },
    {
     "name": "stdout",
     "output_type": "stream",
     "text": [
      "tensor(3.7000, device='cuda:0', grad_fn=<DivBackward1>)\n"
     ]
    },
    {
     "name": "stderr",
     "output_type": "stream",
     "text": [
      "\r\n",
      "  4%|▍         | 68/1529 [00:27<09:39,  2.52it/s]"
     ]
    },
    {
     "name": "stdout",
     "output_type": "stream",
     "text": [
      "tensor(3.6994, device='cuda:0', grad_fn=<DivBackward1>)\n"
     ]
    },
    {
     "name": "stderr",
     "output_type": "stream",
     "text": [
      "\r\n",
      "  5%|▍         | 69/1529 [00:27<09:39,  2.52it/s]"
     ]
    },
    {
     "name": "stdout",
     "output_type": "stream",
     "text": [
      "tensor(3.6932, device='cuda:0', grad_fn=<DivBackward1>)\n"
     ]
    },
    {
     "name": "stderr",
     "output_type": "stream",
     "text": [
      "\r\n",
      "  5%|▍         | 70/1529 [00:28<09:37,  2.53it/s]"
     ]
    },
    {
     "name": "stdout",
     "output_type": "stream",
     "text": [
      "tensor(3.7309, device='cuda:0', grad_fn=<DivBackward1>)\n"
     ]
    },
    {
     "name": "stderr",
     "output_type": "stream",
     "text": [
      "\r\n",
      "  5%|▍         | 71/1529 [00:28<09:39,  2.52it/s]"
     ]
    },
    {
     "name": "stdout",
     "output_type": "stream",
     "text": [
      "tensor(3.7252, device='cuda:0', grad_fn=<DivBackward1>)\n"
     ]
    },
    {
     "name": "stderr",
     "output_type": "stream",
     "text": [
      "\r\n",
      "  5%|▍         | 72/1529 [00:28<09:38,  2.52it/s]"
     ]
    },
    {
     "name": "stdout",
     "output_type": "stream",
     "text": [
      "tensor(3.7319, device='cuda:0', grad_fn=<DivBackward1>)\n"
     ]
    },
    {
     "name": "stderr",
     "output_type": "stream",
     "text": [
      "\r\n",
      "  5%|▍         | 73/1529 [00:29<09:37,  2.52it/s]"
     ]
    },
    {
     "name": "stdout",
     "output_type": "stream",
     "text": [
      "tensor(3.7264, device='cuda:0', grad_fn=<DivBackward1>)\n"
     ]
    },
    {
     "name": "stderr",
     "output_type": "stream",
     "text": [
      "\r\n",
      "  5%|▍         | 74/1529 [00:29<09:37,  2.52it/s]"
     ]
    },
    {
     "name": "stdout",
     "output_type": "stream",
     "text": [
      "tensor(3.7086, device='cuda:0', grad_fn=<DivBackward1>)\n"
     ]
    },
    {
     "name": "stderr",
     "output_type": "stream",
     "text": [
      "\r\n",
      "  5%|▍         | 75/1529 [00:30<09:36,  2.52it/s]"
     ]
    },
    {
     "name": "stdout",
     "output_type": "stream",
     "text": [
      "tensor(3.7090, device='cuda:0', grad_fn=<DivBackward1>)\n"
     ]
    },
    {
     "name": "stderr",
     "output_type": "stream",
     "text": [
      "\r\n",
      "  5%|▍         | 76/1529 [00:30<09:36,  2.52it/s]"
     ]
    },
    {
     "name": "stdout",
     "output_type": "stream",
     "text": [
      "tensor(3.7095, device='cuda:0', grad_fn=<DivBackward1>)\n"
     ]
    },
    {
     "name": "stderr",
     "output_type": "stream",
     "text": [
      "\r\n",
      "  5%|▌         | 77/1529 [00:30<09:35,  2.52it/s]"
     ]
    },
    {
     "name": "stdout",
     "output_type": "stream",
     "text": [
      "tensor(3.7161, device='cuda:0', grad_fn=<DivBackward1>)\n"
     ]
    },
    {
     "name": "stderr",
     "output_type": "stream",
     "text": [
      "\r\n",
      "  5%|▌         | 78/1529 [00:31<09:35,  2.52it/s]"
     ]
    },
    {
     "name": "stdout",
     "output_type": "stream",
     "text": [
      "tensor(3.7230, device='cuda:0', grad_fn=<DivBackward1>)\n"
     ]
    },
    {
     "name": "stderr",
     "output_type": "stream",
     "text": [
      "\r\n",
      "  5%|▌         | 79/1529 [00:31<09:36,  2.52it/s]"
     ]
    },
    {
     "name": "stdout",
     "output_type": "stream",
     "text": [
      "tensor(3.7152, device='cuda:0', grad_fn=<DivBackward1>)\n"
     ]
    },
    {
     "name": "stderr",
     "output_type": "stream",
     "text": [
      "\r\n",
      "  5%|▌         | 80/1529 [00:32<09:35,  2.52it/s]"
     ]
    },
    {
     "name": "stdout",
     "output_type": "stream",
     "text": [
      "tensor(3.7034, device='cuda:0', grad_fn=<DivBackward1>)\n"
     ]
    },
    {
     "name": "stderr",
     "output_type": "stream",
     "text": [
      "\r\n",
      "  5%|▌         | 81/1529 [00:32<09:34,  2.52it/s]"
     ]
    },
    {
     "name": "stdout",
     "output_type": "stream",
     "text": [
      "tensor(3.7017, device='cuda:0', grad_fn=<DivBackward1>)\n"
     ]
    },
    {
     "name": "stderr",
     "output_type": "stream",
     "text": [
      "\r\n",
      "  5%|▌         | 82/1529 [00:32<09:33,  2.52it/s]"
     ]
    },
    {
     "name": "stdout",
     "output_type": "stream",
     "text": [
      "tensor(3.7068, device='cuda:0', grad_fn=<DivBackward1>)\n"
     ]
    },
    {
     "name": "stderr",
     "output_type": "stream",
     "text": [
      "\r\n",
      "  5%|▌         | 83/1529 [00:33<09:33,  2.52it/s]"
     ]
    },
    {
     "name": "stdout",
     "output_type": "stream",
     "text": [
      "tensor(3.7038, device='cuda:0', grad_fn=<DivBackward1>)\n"
     ]
    },
    {
     "name": "stderr",
     "output_type": "stream",
     "text": [
      "\r\n",
      "  5%|▌         | 84/1529 [00:33<09:33,  2.52it/s]"
     ]
    },
    {
     "name": "stdout",
     "output_type": "stream",
     "text": [
      "tensor(3.7011, device='cuda:0', grad_fn=<DivBackward1>)\n"
     ]
    },
    {
     "name": "stderr",
     "output_type": "stream",
     "text": [
      "\r\n",
      "  6%|▌         | 85/1529 [00:34<09:33,  2.52it/s]"
     ]
    },
    {
     "name": "stdout",
     "output_type": "stream",
     "text": [
      "tensor(3.7000, device='cuda:0', grad_fn=<DivBackward1>)\n"
     ]
    },
    {
     "name": "stderr",
     "output_type": "stream",
     "text": [
      "\r\n",
      "  6%|▌         | 86/1529 [00:34<09:33,  2.52it/s]"
     ]
    },
    {
     "name": "stdout",
     "output_type": "stream",
     "text": [
      "tensor(3.6965, device='cuda:0', grad_fn=<DivBackward1>)\n"
     ]
    },
    {
     "name": "stderr",
     "output_type": "stream",
     "text": [
      "\r\n",
      "  6%|▌         | 87/1529 [00:34<09:32,  2.52it/s]"
     ]
    },
    {
     "name": "stdout",
     "output_type": "stream",
     "text": [
      "tensor(3.6886, device='cuda:0', grad_fn=<DivBackward1>)\n"
     ]
    },
    {
     "name": "stderr",
     "output_type": "stream",
     "text": [
      "\r\n",
      "  6%|▌         | 88/1529 [00:35<09:31,  2.52it/s]"
     ]
    },
    {
     "name": "stdout",
     "output_type": "stream",
     "text": [
      "tensor(3.6925, device='cuda:0', grad_fn=<DivBackward1>)\n"
     ]
    },
    {
     "name": "stderr",
     "output_type": "stream",
     "text": [
      "\r\n",
      "  6%|▌         | 89/1529 [00:35<09:29,  2.53it/s]"
     ]
    },
    {
     "name": "stdout",
     "output_type": "stream",
     "text": [
      "tensor(3.6914, device='cuda:0', grad_fn=<DivBackward1>)\n"
     ]
    },
    {
     "name": "stderr",
     "output_type": "stream",
     "text": [
      "\r\n",
      "  6%|▌         | 90/1529 [00:36<09:29,  2.53it/s]"
     ]
    },
    {
     "name": "stdout",
     "output_type": "stream",
     "text": [
      "tensor(3.6939, device='cuda:0', grad_fn=<DivBackward1>)\n"
     ]
    },
    {
     "name": "stderr",
     "output_type": "stream",
     "text": [
      "\r\n",
      "  6%|▌         | 91/1529 [00:36<09:29,  2.53it/s]"
     ]
    },
    {
     "name": "stdout",
     "output_type": "stream",
     "text": [
      "tensor(3.6989, device='cuda:0', grad_fn=<DivBackward1>)\n"
     ]
    },
    {
     "name": "stderr",
     "output_type": "stream",
     "text": [
      "\r\n",
      "  6%|▌         | 92/1529 [00:36<09:30,  2.52it/s]"
     ]
    },
    {
     "name": "stdout",
     "output_type": "stream",
     "text": [
      "tensor(3.6981, device='cuda:0', grad_fn=<DivBackward1>)\n"
     ]
    },
    {
     "name": "stderr",
     "output_type": "stream",
     "text": [
      "\r\n",
      "  6%|▌         | 93/1529 [00:37<09:30,  2.52it/s]"
     ]
    },
    {
     "name": "stdout",
     "output_type": "stream",
     "text": [
      "tensor(3.6841, device='cuda:0', grad_fn=<DivBackward1>)\n"
     ]
    },
    {
     "name": "stderr",
     "output_type": "stream",
     "text": [
      "\r\n",
      "  6%|▌         | 94/1529 [00:37<09:29,  2.52it/s]"
     ]
    },
    {
     "name": "stdout",
     "output_type": "stream",
     "text": [
      "tensor(3.7113, device='cuda:0', grad_fn=<DivBackward1>)\n"
     ]
    },
    {
     "name": "stderr",
     "output_type": "stream",
     "text": [
      "\r\n",
      "  6%|▌         | 95/1529 [00:38<09:28,  2.52it/s]"
     ]
    },
    {
     "name": "stdout",
     "output_type": "stream",
     "text": [
      "tensor(3.6955, device='cuda:0', grad_fn=<DivBackward1>)\n"
     ]
    },
    {
     "name": "stderr",
     "output_type": "stream",
     "text": [
      "\r\n",
      "  6%|▋         | 96/1529 [00:38<09:28,  2.52it/s]"
     ]
    },
    {
     "name": "stdout",
     "output_type": "stream",
     "text": [
      "tensor(3.6932, device='cuda:0', grad_fn=<DivBackward1>)\n"
     ]
    },
    {
     "name": "stderr",
     "output_type": "stream",
     "text": [
      "\r\n",
      "  6%|▋         | 97/1529 [00:38<09:28,  2.52it/s]"
     ]
    },
    {
     "name": "stdout",
     "output_type": "stream",
     "text": [
      "tensor(3.6836, device='cuda:0', grad_fn=<DivBackward1>)\n"
     ]
    },
    {
     "name": "stderr",
     "output_type": "stream",
     "text": [
      "\r\n",
      "  6%|▋         | 98/1529 [00:39<09:27,  2.52it/s]"
     ]
    },
    {
     "name": "stdout",
     "output_type": "stream",
     "text": [
      "tensor(3.6934, device='cuda:0', grad_fn=<DivBackward1>)\n"
     ]
    },
    {
     "name": "stderr",
     "output_type": "stream",
     "text": [
      "\r\n",
      "  6%|▋         | 99/1529 [00:39<09:31,  2.50it/s]"
     ]
    },
    {
     "name": "stdout",
     "output_type": "stream",
     "text": [
      "tensor(3.6907, device='cuda:0', grad_fn=<DivBackward1>)\n",
      "===================Checking gradient===============\n",
      "beta tensor(0.0076, device='cuda:0')\n",
      "cnn_encoder.conv1.weight tensor(0.0035, device='cuda:0')\n",
      "cnn_encoder.conv2.weight tensor(0.0059, device='cuda:0')\n",
      "cnn_encoder.bn1.weight tensor(0.0002, device='cuda:0')\n",
      "cnn_encoder.bn1.bias tensor(5.1411e-05, device='cuda:0')\n",
      "cnn_encoder.conv3.weight tensor(0.0012, device='cuda:0')\n",
      "cnn_encoder.conv4.weight tensor(0.0017, device='cuda:0')\n",
      "cnn_encoder.conv5.weight tensor(0.0044, device='cuda:0')\n",
      "cnn_encoder.conv5.bias tensor(1.8720e-06, device='cuda:0')\n",
      "cnn_encoder.bn2.weight tensor(0.0008, device='cuda:0')\n",
      "cnn_encoder.bn2.bias tensor(0.0020, device='cuda:0')\n",
      "lstm.weight_ih tensor(0.0509, device='cuda:0')\n",
      "lstm.weight_hh tensor(0.0336, device='cuda:0')\n",
      "lstm.bias_ih tensor(0.0050, device='cuda:0')\n",
      "lstm.bias_hh tensor(0.0050, device='cuda:0')\n",
      "emb.weight tensor(0.0044, device='cuda:0')\n",
      "wh_in.weight tensor(0.0002, device='cuda:0')\n",
      "wc_in.weight tensor(0.0002, device='cuda:0')\n",
      "wo_in.weight tensor(0.0107, device='cuda:0')\n",
      "W_1.weight tensor(0.0007, device='cuda:0')\n",
      "W_2.weight tensor(0.0004, device='cuda:0')\n",
      "W_3.weight tensor(0.0125, device='cuda:0')\n",
      "W_out.weight tensor(0.0246, device='cuda:0')\n",
      "===================    Finished   =================\n"
     ]
    },
    {
     "name": "stderr",
     "output_type": "stream",
     "text": [
      "\r\n",
      "  7%|▋         | 100/1529 [00:40<09:29,  2.51it/s]"
     ]
    },
    {
     "name": "stdout",
     "output_type": "stream",
     "text": [
      "tensor(3.6842, device='cuda:0', grad_fn=<DivBackward1>)\n"
     ]
    },
    {
     "name": "stderr",
     "output_type": "stream",
     "text": [
      "\r\n",
      "  7%|▋         | 101/1529 [00:40<09:29,  2.51it/s]"
     ]
    },
    {
     "name": "stdout",
     "output_type": "stream",
     "text": [
      "tensor(3.6814, device='cuda:0', grad_fn=<DivBackward1>)\n"
     ]
    },
    {
     "name": "stderr",
     "output_type": "stream",
     "text": [
      "\r\n",
      "  7%|▋         | 102/1529 [00:40<09:28,  2.51it/s]"
     ]
    },
    {
     "name": "stdout",
     "output_type": "stream",
     "text": [
      "tensor(3.6806, device='cuda:0', grad_fn=<DivBackward1>)\n"
     ]
    },
    {
     "name": "stderr",
     "output_type": "stream",
     "text": [
      "\r\n",
      "  7%|▋         | 103/1529 [00:41<09:28,  2.51it/s]"
     ]
    },
    {
     "name": "stdout",
     "output_type": "stream",
     "text": [
      "tensor(3.6735, device='cuda:0', grad_fn=<DivBackward1>)\n"
     ]
    },
    {
     "name": "stderr",
     "output_type": "stream",
     "text": [
      "\r\n",
      "  7%|▋         | 104/1529 [00:41<09:27,  2.51it/s]"
     ]
    },
    {
     "name": "stdout",
     "output_type": "stream",
     "text": [
      "tensor(3.6896, device='cuda:0', grad_fn=<DivBackward1>)\n"
     ]
    },
    {
     "name": "stderr",
     "output_type": "stream",
     "text": [
      "\r\n",
      "  7%|▋         | 105/1529 [00:42<09:27,  2.51it/s]"
     ]
    },
    {
     "name": "stdout",
     "output_type": "stream",
     "text": [
      "tensor(3.6764, device='cuda:0', grad_fn=<DivBackward1>)\n"
     ]
    },
    {
     "name": "stderr",
     "output_type": "stream",
     "text": [
      "\r\n",
      "  7%|▋         | 106/1529 [00:42<09:26,  2.51it/s]"
     ]
    },
    {
     "name": "stdout",
     "output_type": "stream",
     "text": [
      "tensor(3.6840, device='cuda:0', grad_fn=<DivBackward1>)\n"
     ]
    },
    {
     "name": "stderr",
     "output_type": "stream",
     "text": [
      "\r\n",
      "  7%|▋         | 107/1529 [00:42<09:24,  2.52it/s]"
     ]
    },
    {
     "name": "stdout",
     "output_type": "stream",
     "text": [
      "tensor(3.6865, device='cuda:0', grad_fn=<DivBackward1>)\n"
     ]
    },
    {
     "name": "stderr",
     "output_type": "stream",
     "text": [
      "\r\n",
      "  7%|▋         | 108/1529 [00:43<09:23,  2.52it/s]"
     ]
    },
    {
     "name": "stdout",
     "output_type": "stream",
     "text": [
      "tensor(3.6827, device='cuda:0', grad_fn=<DivBackward1>)\n"
     ]
    },
    {
     "name": "stderr",
     "output_type": "stream",
     "text": [
      "\r\n",
      "  7%|▋         | 109/1529 [00:43<09:23,  2.52it/s]"
     ]
    },
    {
     "name": "stdout",
     "output_type": "stream",
     "text": [
      "tensor(3.6770, device='cuda:0', grad_fn=<DivBackward1>)\n"
     ]
    },
    {
     "name": "stderr",
     "output_type": "stream",
     "text": [
      "\r\n",
      "  7%|▋         | 110/1529 [00:43<09:22,  2.52it/s]"
     ]
    },
    {
     "name": "stdout",
     "output_type": "stream",
     "text": [
      "tensor(3.6810, device='cuda:0', grad_fn=<DivBackward1>)\n"
     ]
    },
    {
     "name": "stderr",
     "output_type": "stream",
     "text": [
      "\r\n",
      "  7%|▋         | 111/1529 [00:44<08:42,  2.72it/s]"
     ]
    },
    {
     "name": "stdout",
     "output_type": "stream",
     "text": [
      "tensor(3.6779, device='cuda:0', grad_fn=<DivBackward1>)\n"
     ]
    },
    {
     "name": "stderr",
     "output_type": "stream",
     "text": [
      "\r\n",
      "  7%|▋         | 112/1529 [00:44<08:13,  2.87it/s]"
     ]
    },
    {
     "name": "stdout",
     "output_type": "stream",
     "text": [
      "tensor(3.6837, device='cuda:0', grad_fn=<DivBackward1>)\n"
     ]
    },
    {
     "name": "stderr",
     "output_type": "stream",
     "text": [
      "\r\n",
      "  7%|▋         | 113/1529 [00:44<07:52,  3.00it/s]"
     ]
    },
    {
     "name": "stdout",
     "output_type": "stream",
     "text": [
      "tensor(3.6843, device='cuda:0', grad_fn=<DivBackward1>)\n"
     ]
    },
    {
     "name": "stderr",
     "output_type": "stream",
     "text": [
      "\r\n",
      "  7%|▋         | 114/1529 [00:45<07:38,  3.09it/s]"
     ]
    },
    {
     "name": "stdout",
     "output_type": "stream",
     "text": [
      "tensor(3.6842, device='cuda:0', grad_fn=<DivBackward1>)\n"
     ]
    },
    {
     "name": "stderr",
     "output_type": "stream",
     "text": [
      "\r\n",
      "  8%|▊         | 115/1529 [00:45<07:28,  3.15it/s]"
     ]
    },
    {
     "name": "stdout",
     "output_type": "stream",
     "text": [
      "tensor(3.6819, device='cuda:0', grad_fn=<DivBackward1>)\n"
     ]
    },
    {
     "name": "stderr",
     "output_type": "stream",
     "text": [
      "\r\n",
      "  8%|▊         | 116/1529 [00:45<07:20,  3.20it/s]"
     ]
    },
    {
     "name": "stdout",
     "output_type": "stream",
     "text": [
      "tensor(3.6844, device='cuda:0', grad_fn=<DivBackward1>)\n"
     ]
    },
    {
     "name": "stderr",
     "output_type": "stream",
     "text": [
      "\r\n",
      "  8%|▊         | 117/1529 [00:46<07:15,  3.24it/s]"
     ]
    },
    {
     "name": "stdout",
     "output_type": "stream",
     "text": [
      "tensor(3.6790, device='cuda:0', grad_fn=<DivBackward1>)\n"
     ]
    },
    {
     "name": "stderr",
     "output_type": "stream",
     "text": [
      "\r\n",
      "  8%|▊         | 118/1529 [00:46<07:11,  3.27it/s]"
     ]
    },
    {
     "name": "stdout",
     "output_type": "stream",
     "text": [
      "tensor(3.6738, device='cuda:0', grad_fn=<DivBackward1>)\n"
     ]
    },
    {
     "name": "stderr",
     "output_type": "stream",
     "text": [
      "\r\n",
      "  8%|▊         | 119/1529 [00:46<07:09,  3.28it/s]"
     ]
    },
    {
     "name": "stdout",
     "output_type": "stream",
     "text": [
      "tensor(3.6764, device='cuda:0', grad_fn=<DivBackward1>)\n"
     ]
    },
    {
     "name": "stderr",
     "output_type": "stream",
     "text": [
      "\r\n",
      "  8%|▊         | 120/1529 [00:46<07:07,  3.29it/s]"
     ]
    },
    {
     "name": "stdout",
     "output_type": "stream",
     "text": [
      "tensor(3.6752, device='cuda:0', grad_fn=<DivBackward1>)\n"
     ]
    },
    {
     "name": "stderr",
     "output_type": "stream",
     "text": [
      "\r\n",
      "  8%|▊         | 121/1529 [00:47<07:05,  3.31it/s]"
     ]
    },
    {
     "name": "stdout",
     "output_type": "stream",
     "text": [
      "tensor(3.6784, device='cuda:0', grad_fn=<DivBackward1>)\n"
     ]
    },
    {
     "name": "stderr",
     "output_type": "stream",
     "text": [
      "\r\n",
      "  8%|▊         | 122/1529 [00:47<07:05,  3.31it/s]"
     ]
    },
    {
     "name": "stdout",
     "output_type": "stream",
     "text": [
      "tensor(3.6796, device='cuda:0', grad_fn=<DivBackward1>)\n"
     ]
    },
    {
     "name": "stderr",
     "output_type": "stream",
     "text": [
      "\r\n",
      "  8%|▊         | 123/1529 [00:47<07:05,  3.30it/s]"
     ]
    },
    {
     "name": "stdout",
     "output_type": "stream",
     "text": [
      "tensor(3.6766, device='cuda:0', grad_fn=<DivBackward1>)\n"
     ]
    },
    {
     "name": "stderr",
     "output_type": "stream",
     "text": [
      "\r\n",
      "  8%|▊         | 124/1529 [00:48<07:05,  3.30it/s]"
     ]
    },
    {
     "name": "stdout",
     "output_type": "stream",
     "text": [
      "tensor(3.6769, device='cuda:0', grad_fn=<DivBackward1>)\n"
     ]
    },
    {
     "name": "stderr",
     "output_type": "stream",
     "text": [
      "\r\n",
      "  8%|▊         | 125/1529 [00:48<07:04,  3.31it/s]"
     ]
    },
    {
     "name": "stdout",
     "output_type": "stream",
     "text": [
      "tensor(3.6840, device='cuda:0', grad_fn=<DivBackward1>)\n"
     ]
    },
    {
     "name": "stderr",
     "output_type": "stream",
     "text": [
      "\r\n",
      "  8%|▊         | 126/1529 [00:48<07:02,  3.32it/s]"
     ]
    },
    {
     "name": "stdout",
     "output_type": "stream",
     "text": [
      "tensor(3.6747, device='cuda:0', grad_fn=<DivBackward1>)\n"
     ]
    },
    {
     "name": "stderr",
     "output_type": "stream",
     "text": [
      "\r\n",
      "  8%|▊         | 127/1529 [00:49<07:03,  3.31it/s]"
     ]
    },
    {
     "name": "stdout",
     "output_type": "stream",
     "text": [
      "tensor(3.6723, device='cuda:0', grad_fn=<DivBackward1>)\n"
     ]
    },
    {
     "name": "stderr",
     "output_type": "stream",
     "text": [
      "\r\n",
      "  8%|▊         | 128/1529 [00:49<07:02,  3.31it/s]"
     ]
    },
    {
     "name": "stdout",
     "output_type": "stream",
     "text": [
      "tensor(3.6867, device='cuda:0', grad_fn=<DivBackward1>)\n"
     ]
    },
    {
     "name": "stderr",
     "output_type": "stream",
     "text": [
      "\r\n",
      "  8%|▊         | 129/1529 [00:49<07:02,  3.32it/s]"
     ]
    },
    {
     "name": "stdout",
     "output_type": "stream",
     "text": [
      "tensor(3.6778, device='cuda:0', grad_fn=<DivBackward1>)\n"
     ]
    },
    {
     "name": "stderr",
     "output_type": "stream",
     "text": [
      "\r\n",
      "  9%|▊         | 130/1529 [00:50<07:02,  3.31it/s]"
     ]
    },
    {
     "name": "stdout",
     "output_type": "stream",
     "text": [
      "tensor(3.6838, device='cuda:0', grad_fn=<DivBackward1>)\n"
     ]
    },
    {
     "name": "stderr",
     "output_type": "stream",
     "text": [
      "\r\n",
      "  9%|▊         | 131/1529 [00:50<07:01,  3.32it/s]"
     ]
    },
    {
     "name": "stdout",
     "output_type": "stream",
     "text": [
      "tensor(3.6756, device='cuda:0', grad_fn=<DivBackward1>)\n"
     ]
    },
    {
     "name": "stderr",
     "output_type": "stream",
     "text": [
      "\r\n",
      "  9%|▊         | 132/1529 [00:50<07:02,  3.31it/s]"
     ]
    },
    {
     "name": "stdout",
     "output_type": "stream",
     "text": [
      "tensor(3.6770, device='cuda:0', grad_fn=<DivBackward1>)\n"
     ]
    },
    {
     "name": "stderr",
     "output_type": "stream",
     "text": [
      "\r\n",
      "  9%|▊         | 133/1529 [00:50<07:03,  3.30it/s]"
     ]
    },
    {
     "name": "stdout",
     "output_type": "stream",
     "text": [
      "tensor(3.6797, device='cuda:0', grad_fn=<DivBackward1>)\n"
     ]
    },
    {
     "name": "stderr",
     "output_type": "stream",
     "text": [
      "\r\n",
      "  9%|▉         | 134/1529 [00:51<07:02,  3.30it/s]"
     ]
    },
    {
     "name": "stdout",
     "output_type": "stream",
     "text": [
      "tensor(3.6753, device='cuda:0', grad_fn=<DivBackward1>)\n"
     ]
    },
    {
     "name": "stderr",
     "output_type": "stream",
     "text": [
      "\r\n",
      "  9%|▉         | 135/1529 [00:51<07:02,  3.30it/s]"
     ]
    },
    {
     "name": "stdout",
     "output_type": "stream",
     "text": [
      "tensor(3.6759, device='cuda:0', grad_fn=<DivBackward1>)\n"
     ]
    },
    {
     "name": "stderr",
     "output_type": "stream",
     "text": [
      "\r\n",
      "  9%|▉         | 136/1529 [00:51<07:01,  3.31it/s]"
     ]
    },
    {
     "name": "stdout",
     "output_type": "stream",
     "text": [
      "tensor(3.6849, device='cuda:0', grad_fn=<DivBackward1>)\n"
     ]
    },
    {
     "name": "stderr",
     "output_type": "stream",
     "text": [
      "\r\n",
      "  9%|▉         | 137/1529 [00:52<07:00,  3.31it/s]"
     ]
    },
    {
     "name": "stdout",
     "output_type": "stream",
     "text": [
      "tensor(3.6811, device='cuda:0', grad_fn=<DivBackward1>)\n"
     ]
    },
    {
     "name": "stderr",
     "output_type": "stream",
     "text": [
      "\r\n",
      "  9%|▉         | 138/1529 [00:52<07:00,  3.31it/s]"
     ]
    },
    {
     "name": "stdout",
     "output_type": "stream",
     "text": [
      "tensor(3.6818, device='cuda:0', grad_fn=<DivBackward1>)\n"
     ]
    },
    {
     "name": "stderr",
     "output_type": "stream",
     "text": [
      "\r\n",
      "  9%|▉         | 139/1529 [00:52<07:00,  3.31it/s]"
     ]
    },
    {
     "name": "stdout",
     "output_type": "stream",
     "text": [
      "tensor(3.6823, device='cuda:0', grad_fn=<DivBackward1>)\n"
     ]
    },
    {
     "name": "stderr",
     "output_type": "stream",
     "text": [
      "\r\n",
      "  9%|▉         | 140/1529 [00:53<06:59,  3.31it/s]"
     ]
    },
    {
     "name": "stdout",
     "output_type": "stream",
     "text": [
      "tensor(3.6779, device='cuda:0', grad_fn=<DivBackward1>)\n"
     ]
    },
    {
     "name": "stderr",
     "output_type": "stream",
     "text": [
      "\r\n",
      "  9%|▉         | 141/1529 [00:53<06:58,  3.32it/s]"
     ]
    },
    {
     "name": "stdout",
     "output_type": "stream",
     "text": [
      "tensor(3.6835, device='cuda:0', grad_fn=<DivBackward1>)\n"
     ]
    },
    {
     "name": "stderr",
     "output_type": "stream",
     "text": [
      "\r\n",
      "  9%|▉         | 142/1529 [00:53<06:58,  3.32it/s]"
     ]
    },
    {
     "name": "stdout",
     "output_type": "stream",
     "text": [
      "tensor(3.6813, device='cuda:0', grad_fn=<DivBackward1>)\n"
     ]
    },
    {
     "name": "stderr",
     "output_type": "stream",
     "text": [
      "\r\n",
      "  9%|▉         | 143/1529 [00:53<06:57,  3.32it/s]"
     ]
    },
    {
     "name": "stdout",
     "output_type": "stream",
     "text": [
      "tensor(3.6783, device='cuda:0', grad_fn=<DivBackward1>)\n"
     ]
    },
    {
     "name": "stderr",
     "output_type": "stream",
     "text": [
      "\r\n",
      "  9%|▉         | 144/1529 [00:54<06:57,  3.31it/s]"
     ]
    },
    {
     "name": "stdout",
     "output_type": "stream",
     "text": [
      "tensor(3.6792, device='cuda:0', grad_fn=<DivBackward1>)\n"
     ]
    },
    {
     "name": "stderr",
     "output_type": "stream",
     "text": [
      "\r\n",
      "  9%|▉         | 145/1529 [00:54<06:57,  3.31it/s]"
     ]
    },
    {
     "name": "stdout",
     "output_type": "stream",
     "text": [
      "tensor(3.6801, device='cuda:0', grad_fn=<DivBackward1>)\n"
     ]
    },
    {
     "name": "stderr",
     "output_type": "stream",
     "text": [
      "\r\n",
      " 10%|▉         | 146/1529 [00:54<06:57,  3.31it/s]"
     ]
    },
    {
     "name": "stdout",
     "output_type": "stream",
     "text": [
      "tensor(3.6690, device='cuda:0', grad_fn=<DivBackward1>)\n"
     ]
    },
    {
     "name": "stderr",
     "output_type": "stream",
     "text": [
      "\r\n",
      " 10%|▉         | 147/1529 [00:55<06:58,  3.30it/s]"
     ]
    },
    {
     "name": "stdout",
     "output_type": "stream",
     "text": [
      "tensor(3.6736, device='cuda:0', grad_fn=<DivBackward1>)\n"
     ]
    },
    {
     "name": "stderr",
     "output_type": "stream",
     "text": [
      "\r\n",
      " 10%|▉         | 148/1529 [00:55<07:02,  3.27it/s]"
     ]
    },
    {
     "name": "stdout",
     "output_type": "stream",
     "text": [
      "tensor(3.6708, device='cuda:0', grad_fn=<DivBackward1>)\n",
      "===================Checking gradient===============\n",
      "beta tensor(0.0019, device='cuda:0')\n",
      "cnn_encoder.conv1.weight tensor(0.0027, device='cuda:0')\n",
      "cnn_encoder.conv2.weight tensor(0.0033, device='cuda:0')\n",
      "cnn_encoder.bn1.weight tensor(0.0002, device='cuda:0')\n",
      "cnn_encoder.bn1.bias tensor(8.8523e-05, device='cuda:0')\n",
      "cnn_encoder.conv3.weight tensor(0.0017, device='cuda:0')\n",
      "cnn_encoder.conv4.weight tensor(0.0019, device='cuda:0')\n",
      "cnn_encoder.conv5.weight tensor(0.0062, device='cuda:0')\n",
      "cnn_encoder.conv5.bias tensor(2.5977e-06, device='cuda:0')\n",
      "cnn_encoder.bn2.weight tensor(0.0005, device='cuda:0')\n",
      "cnn_encoder.bn2.bias tensor(0.0025, device='cuda:0')\n",
      "lstm.weight_ih tensor(0.0782, device='cuda:0')\n",
      "lstm.weight_hh tensor(0.0362, device='cuda:0')\n",
      "lstm.bias_ih tensor(0.0070, device='cuda:0')\n",
      "lstm.bias_hh tensor(0.0070, device='cuda:0')\n",
      "emb.weight tensor(0.0038, device='cuda:0')\n",
      "wh_in.weight tensor(0.0002, device='cuda:0')\n",
      "wc_in.weight tensor(0.0003, device='cuda:0')\n",
      "wo_in.weight tensor(0.0173, device='cuda:0')\n",
      "W_1.weight tensor(0.0003, device='cuda:0')\n",
      "W_2.weight tensor(0.0002, device='cuda:0')\n",
      "W_3.weight tensor(0.0062, device='cuda:0')\n",
      "W_out.weight tensor(0.0173, device='cuda:0')\n",
      "===================    Finished   =================\n"
     ]
    },
    {
     "name": "stderr",
     "output_type": "stream",
     "text": [
      "\r\n",
      " 10%|▉         | 149/1529 [00:55<07:00,  3.28it/s]"
     ]
    },
    {
     "name": "stdout",
     "output_type": "stream",
     "text": [
      "tensor(3.6813, device='cuda:0', grad_fn=<DivBackward1>)\n"
     ]
    },
    {
     "name": "stderr",
     "output_type": "stream",
     "text": [
      "\r\n",
      " 10%|▉         | 150/1529 [00:56<06:57,  3.30it/s]"
     ]
    },
    {
     "name": "stdout",
     "output_type": "stream",
     "text": [
      "tensor(3.6747, device='cuda:0', grad_fn=<DivBackward1>)\n"
     ]
    },
    {
     "name": "stderr",
     "output_type": "stream",
     "text": [
      "\r\n",
      " 10%|▉         | 151/1529 [00:56<06:58,  3.30it/s]"
     ]
    },
    {
     "name": "stdout",
     "output_type": "stream",
     "text": [
      "tensor(3.6785, device='cuda:0', grad_fn=<DivBackward1>)\n"
     ]
    },
    {
     "name": "stderr",
     "output_type": "stream",
     "text": [
      "\r\n",
      " 10%|▉         | 152/1529 [00:56<07:00,  3.27it/s]"
     ]
    },
    {
     "name": "stdout",
     "output_type": "stream",
     "text": [
      "tensor(3.6754, device='cuda:0', grad_fn=<DivBackward1>)\n"
     ]
    },
    {
     "name": "stderr",
     "output_type": "stream",
     "text": [
      "\r\n",
      " 10%|█         | 153/1529 [00:56<06:58,  3.29it/s]"
     ]
    },
    {
     "name": "stdout",
     "output_type": "stream",
     "text": [
      "tensor(3.6826, device='cuda:0', grad_fn=<DivBackward1>)\n"
     ]
    },
    {
     "name": "stderr",
     "output_type": "stream",
     "text": [
      "\r\n",
      " 10%|█         | 154/1529 [00:57<06:58,  3.29it/s]"
     ]
    },
    {
     "name": "stdout",
     "output_type": "stream",
     "text": [
      "tensor(3.6774, device='cuda:0', grad_fn=<DivBackward1>)\n"
     ]
    },
    {
     "name": "stderr",
     "output_type": "stream",
     "text": [
      "\r\n",
      " 10%|█         | 155/1529 [00:57<06:58,  3.29it/s]"
     ]
    },
    {
     "name": "stdout",
     "output_type": "stream",
     "text": [
      "tensor(3.6789, device='cuda:0', grad_fn=<DivBackward1>)\n"
     ]
    },
    {
     "name": "stderr",
     "output_type": "stream",
     "text": [
      "\r\n",
      " 10%|█         | 156/1529 [00:57<06:56,  3.30it/s]"
     ]
    },
    {
     "name": "stdout",
     "output_type": "stream",
     "text": [
      "tensor(3.6755, device='cuda:0', grad_fn=<DivBackward1>)\n"
     ]
    },
    {
     "name": "stderr",
     "output_type": "stream",
     "text": [
      "\r\n",
      " 10%|█         | 157/1529 [00:58<06:54,  3.31it/s]"
     ]
    },
    {
     "name": "stdout",
     "output_type": "stream",
     "text": [
      "tensor(3.6798, device='cuda:0', grad_fn=<DivBackward1>)\n"
     ]
    },
    {
     "name": "stderr",
     "output_type": "stream",
     "text": [
      "\r\n",
      " 10%|█         | 158/1529 [00:58<06:55,  3.30it/s]"
     ]
    },
    {
     "name": "stdout",
     "output_type": "stream",
     "text": [
      "tensor(3.6701, device='cuda:0', grad_fn=<DivBackward1>)\n"
     ]
    },
    {
     "name": "stderr",
     "output_type": "stream",
     "text": [
      "\r\n",
      " 10%|█         | 159/1529 [00:58<06:56,  3.29it/s]"
     ]
    },
    {
     "name": "stdout",
     "output_type": "stream",
     "text": [
      "tensor(3.6760, device='cuda:0', grad_fn=<DivBackward1>)\n"
     ]
    },
    {
     "name": "stderr",
     "output_type": "stream",
     "text": [
      "\r\n",
      " 10%|█         | 160/1529 [00:59<06:55,  3.29it/s]"
     ]
    },
    {
     "name": "stdout",
     "output_type": "stream",
     "text": [
      "tensor(3.6715, device='cuda:0', grad_fn=<DivBackward1>)\n"
     ]
    },
    {
     "name": "stderr",
     "output_type": "stream",
     "text": [
      "\r\n",
      " 11%|█         | 161/1529 [00:59<06:54,  3.30it/s]"
     ]
    },
    {
     "name": "stdout",
     "output_type": "stream",
     "text": [
      "tensor(3.6775, device='cuda:0', grad_fn=<DivBackward1>)\n"
     ]
    },
    {
     "name": "stderr",
     "output_type": "stream",
     "text": [
      "\r\n",
      " 11%|█         | 162/1529 [00:59<06:53,  3.30it/s]"
     ]
    },
    {
     "name": "stdout",
     "output_type": "stream",
     "text": [
      "tensor(3.6709, device='cuda:0', grad_fn=<DivBackward1>)\n"
     ]
    },
    {
     "name": "stderr",
     "output_type": "stream",
     "text": [
      "\r\n",
      " 11%|█         | 163/1529 [01:00<06:53,  3.31it/s]"
     ]
    },
    {
     "name": "stdout",
     "output_type": "stream",
     "text": [
      "tensor(3.6780, device='cuda:0', grad_fn=<DivBackward1>)\n"
     ]
    },
    {
     "name": "stderr",
     "output_type": "stream",
     "text": [
      "\r\n",
      " 11%|█         | 164/1529 [01:00<06:51,  3.31it/s]"
     ]
    },
    {
     "name": "stdout",
     "output_type": "stream",
     "text": [
      "tensor(3.6818, device='cuda:0', grad_fn=<DivBackward1>)\n"
     ]
    },
    {
     "name": "stderr",
     "output_type": "stream",
     "text": [
      "\r\n",
      " 11%|█         | 165/1529 [01:00<06:51,  3.32it/s]"
     ]
    },
    {
     "name": "stdout",
     "output_type": "stream",
     "text": [
      "tensor(3.6744, device='cuda:0', grad_fn=<DivBackward1>)\n"
     ]
    },
    {
     "name": "stderr",
     "output_type": "stream",
     "text": [
      "\r\n",
      " 11%|█         | 166/1529 [01:01<07:44,  2.94it/s]"
     ]
    },
    {
     "name": "stdout",
     "output_type": "stream",
     "text": [
      "tensor(3.6765, device='cuda:0', grad_fn=<DivBackward1>)\n"
     ]
    },
    {
     "name": "stderr",
     "output_type": "stream",
     "text": [
      "\r\n",
      " 11%|█         | 167/1529 [01:01<07:27,  3.04it/s]"
     ]
    },
    {
     "name": "stdout",
     "output_type": "stream",
     "text": [
      "tensor(3.6760, device='cuda:0', grad_fn=<DivBackward1>)\n"
     ]
    },
    {
     "name": "stderr",
     "output_type": "stream",
     "text": [
      "\r\n",
      " 11%|█         | 168/1529 [01:01<07:16,  3.12it/s]"
     ]
    },
    {
     "name": "stdout",
     "output_type": "stream",
     "text": [
      "tensor(3.6856, device='cuda:0', grad_fn=<DivBackward1>)\n"
     ]
    },
    {
     "name": "stderr",
     "output_type": "stream",
     "text": [
      "\r\n",
      " 11%|█         | 169/1529 [01:01<07:08,  3.17it/s]"
     ]
    },
    {
     "name": "stdout",
     "output_type": "stream",
     "text": [
      "tensor(3.6720, device='cuda:0', grad_fn=<DivBackward1>)\n"
     ]
    },
    {
     "name": "stderr",
     "output_type": "stream",
     "text": [
      "\r\n",
      " 11%|█         | 170/1529 [01:02<07:02,  3.22it/s]"
     ]
    },
    {
     "name": "stdout",
     "output_type": "stream",
     "text": [
      "tensor(3.6699, device='cuda:0', grad_fn=<DivBackward1>)\n"
     ]
    },
    {
     "name": "stderr",
     "output_type": "stream",
     "text": [
      "\r\n",
      " 11%|█         | 171/1529 [01:02<06:59,  3.24it/s]"
     ]
    },
    {
     "name": "stdout",
     "output_type": "stream",
     "text": [
      "tensor(3.6803, device='cuda:0', grad_fn=<DivBackward1>)\n"
     ]
    },
    {
     "name": "stderr",
     "output_type": "stream",
     "text": [
      "\r\n",
      " 11%|█         | 172/1529 [01:02<06:56,  3.26it/s]"
     ]
    },
    {
     "name": "stdout",
     "output_type": "stream",
     "text": [
      "tensor(3.6738, device='cuda:0', grad_fn=<DivBackward1>)\n"
     ]
    },
    {
     "name": "stderr",
     "output_type": "stream",
     "text": [
      "\r\n",
      " 11%|█▏        | 173/1529 [01:03<06:53,  3.28it/s]"
     ]
    },
    {
     "name": "stdout",
     "output_type": "stream",
     "text": [
      "tensor(3.6752, device='cuda:0', grad_fn=<DivBackward1>)\n"
     ]
    },
    {
     "name": "stderr",
     "output_type": "stream",
     "text": [
      "\r\n",
      " 11%|█▏        | 174/1529 [01:03<06:53,  3.28it/s]"
     ]
    },
    {
     "name": "stdout",
     "output_type": "stream",
     "text": [
      "tensor(3.6745, device='cuda:0', grad_fn=<DivBackward1>)\n"
     ]
    },
    {
     "name": "stderr",
     "output_type": "stream",
     "text": [
      "\r\n",
      " 11%|█▏        | 175/1529 [01:03<06:51,  3.29it/s]"
     ]
    },
    {
     "name": "stdout",
     "output_type": "stream",
     "text": [
      "tensor(3.6703, device='cuda:0', grad_fn=<DivBackward1>)\n"
     ]
    },
    {
     "name": "stderr",
     "output_type": "stream",
     "text": [
      "\r\n",
      " 12%|█▏        | 176/1529 [01:04<06:50,  3.30it/s]"
     ]
    },
    {
     "name": "stdout",
     "output_type": "stream",
     "text": [
      "tensor(3.6720, device='cuda:0', grad_fn=<DivBackward1>)\n"
     ]
    },
    {
     "name": "stderr",
     "output_type": "stream",
     "text": [
      "\r\n",
      " 12%|█▏        | 177/1529 [01:04<06:49,  3.30it/s]"
     ]
    },
    {
     "name": "stdout",
     "output_type": "stream",
     "text": [
      "tensor(3.6726, device='cuda:0', grad_fn=<DivBackward1>)\n"
     ]
    },
    {
     "name": "stderr",
     "output_type": "stream",
     "text": [
      "\r\n",
      " 12%|█▏        | 178/1529 [01:04<06:49,  3.30it/s]"
     ]
    },
    {
     "name": "stdout",
     "output_type": "stream",
     "text": [
      "tensor(3.6680, device='cuda:0', grad_fn=<DivBackward1>)\n"
     ]
    },
    {
     "name": "stderr",
     "output_type": "stream",
     "text": [
      "\r\n",
      " 12%|█▏        | 179/1529 [01:04<06:49,  3.30it/s]"
     ]
    },
    {
     "name": "stdout",
     "output_type": "stream",
     "text": [
      "tensor(3.6759, device='cuda:0', grad_fn=<DivBackward1>)\n"
     ]
    },
    {
     "name": "stderr",
     "output_type": "stream",
     "text": [
      "\r\n",
      " 12%|█▏        | 180/1529 [01:05<06:47,  3.31it/s]"
     ]
    },
    {
     "name": "stdout",
     "output_type": "stream",
     "text": [
      "tensor(3.6791, device='cuda:0', grad_fn=<DivBackward1>)\n"
     ]
    },
    {
     "name": "stderr",
     "output_type": "stream",
     "text": [
      "\r\n",
      " 12%|█▏        | 181/1529 [01:05<06:47,  3.31it/s]"
     ]
    },
    {
     "name": "stdout",
     "output_type": "stream",
     "text": [
      "tensor(3.6743, device='cuda:0', grad_fn=<DivBackward1>)\n"
     ]
    },
    {
     "name": "stderr",
     "output_type": "stream",
     "text": [
      "\r\n",
      " 12%|█▏        | 182/1529 [01:05<06:47,  3.31it/s]"
     ]
    },
    {
     "name": "stdout",
     "output_type": "stream",
     "text": [
      "tensor(3.6746, device='cuda:0', grad_fn=<DivBackward1>)\n"
     ]
    },
    {
     "name": "stderr",
     "output_type": "stream",
     "text": [
      "\r\n",
      " 12%|█▏        | 183/1529 [01:06<06:46,  3.31it/s]"
     ]
    },
    {
     "name": "stdout",
     "output_type": "stream",
     "text": [
      "tensor(3.6884, device='cuda:0', grad_fn=<DivBackward1>)\n"
     ]
    },
    {
     "name": "stderr",
     "output_type": "stream",
     "text": [
      "\r\n",
      " 12%|█▏        | 184/1529 [01:06<06:46,  3.31it/s]"
     ]
    },
    {
     "name": "stdout",
     "output_type": "stream",
     "text": [
      "tensor(3.6782, device='cuda:0', grad_fn=<DivBackward1>)\n"
     ]
    },
    {
     "name": "stderr",
     "output_type": "stream",
     "text": [
      "\r\n",
      " 12%|█▏        | 185/1529 [01:06<06:46,  3.31it/s]"
     ]
    },
    {
     "name": "stdout",
     "output_type": "stream",
     "text": [
      "tensor(3.6755, device='cuda:0', grad_fn=<DivBackward1>)\n"
     ]
    },
    {
     "name": "stderr",
     "output_type": "stream",
     "text": [
      "\r\n",
      " 12%|█▏        | 186/1529 [01:07<06:48,  3.29it/s]"
     ]
    },
    {
     "name": "stdout",
     "output_type": "stream",
     "text": [
      "tensor(3.6780, device='cuda:0', grad_fn=<DivBackward1>)\n"
     ]
    },
    {
     "name": "stderr",
     "output_type": "stream",
     "text": [
      "\r\n",
      " 12%|█▏        | 187/1529 [01:07<06:47,  3.29it/s]"
     ]
    },
    {
     "name": "stdout",
     "output_type": "stream",
     "text": [
      "tensor(3.6844, device='cuda:0', grad_fn=<DivBackward1>)\n"
     ]
    },
    {
     "name": "stderr",
     "output_type": "stream",
     "text": [
      "\r\n",
      " 12%|█▏        | 188/1529 [01:07<06:47,  3.29it/s]"
     ]
    },
    {
     "name": "stdout",
     "output_type": "stream",
     "text": [
      "tensor(3.6784, device='cuda:0', grad_fn=<DivBackward1>)\n"
     ]
    },
    {
     "name": "stderr",
     "output_type": "stream",
     "text": [
      "\r\n",
      " 12%|█▏        | 189/1529 [01:07<06:46,  3.30it/s]"
     ]
    },
    {
     "name": "stdout",
     "output_type": "stream",
     "text": [
      "tensor(3.6724, device='cuda:0', grad_fn=<DivBackward1>)\n"
     ]
    },
    {
     "name": "stderr",
     "output_type": "stream",
     "text": [
      "\r\n",
      " 12%|█▏        | 190/1529 [01:08<06:45,  3.30it/s]"
     ]
    },
    {
     "name": "stdout",
     "output_type": "stream",
     "text": [
      "tensor(3.6733, device='cuda:0', grad_fn=<DivBackward1>)\n"
     ]
    },
    {
     "name": "stderr",
     "output_type": "stream",
     "text": [
      "\r\n",
      " 12%|█▏        | 191/1529 [01:08<06:45,  3.30it/s]"
     ]
    },
    {
     "name": "stdout",
     "output_type": "stream",
     "text": [
      "tensor(3.6796, device='cuda:0', grad_fn=<DivBackward1>)\n"
     ]
    },
    {
     "name": "stderr",
     "output_type": "stream",
     "text": [
      "\r\n",
      " 13%|█▎        | 192/1529 [01:08<06:44,  3.30it/s]"
     ]
    },
    {
     "name": "stdout",
     "output_type": "stream",
     "text": [
      "tensor(3.6791, device='cuda:0', grad_fn=<DivBackward1>)\n"
     ]
    },
    {
     "name": "stderr",
     "output_type": "stream",
     "text": [
      "\r\n",
      " 13%|█▎        | 193/1529 [01:09<06:43,  3.31it/s]"
     ]
    },
    {
     "name": "stdout",
     "output_type": "stream",
     "text": [
      "tensor(3.6790, device='cuda:0', grad_fn=<DivBackward1>)\n"
     ]
    },
    {
     "name": "stderr",
     "output_type": "stream",
     "text": [
      "\r\n",
      " 13%|█▎        | 194/1529 [01:09<06:43,  3.31it/s]"
     ]
    },
    {
     "name": "stdout",
     "output_type": "stream",
     "text": [
      "tensor(3.6756, device='cuda:0', grad_fn=<DivBackward1>)\n"
     ]
    },
    {
     "name": "stderr",
     "output_type": "stream",
     "text": [
      "\r\n",
      " 13%|█▎        | 195/1529 [01:09<06:42,  3.31it/s]"
     ]
    },
    {
     "name": "stdout",
     "output_type": "stream",
     "text": [
      "tensor(3.6855, device='cuda:0', grad_fn=<DivBackward1>)\n"
     ]
    },
    {
     "name": "stderr",
     "output_type": "stream",
     "text": [
      "\r\n",
      " 13%|█▎        | 196/1529 [01:10<06:44,  3.30it/s]"
     ]
    },
    {
     "name": "stdout",
     "output_type": "stream",
     "text": [
      "tensor(3.6798, device='cuda:0', grad_fn=<DivBackward1>)\n"
     ]
    },
    {
     "name": "stderr",
     "output_type": "stream",
     "text": [
      "\r\n",
      " 13%|█▎        | 197/1529 [01:10<06:46,  3.27it/s]"
     ]
    },
    {
     "name": "stdout",
     "output_type": "stream",
     "text": [
      "tensor(3.6712, device='cuda:0', grad_fn=<DivBackward1>)\n",
      "===================Checking gradient===============\n",
      "beta tensor(0.0008, device='cuda:0')\n",
      "cnn_encoder.conv1.weight tensor(0.0078, device='cuda:0')\n",
      "cnn_encoder.conv2.weight tensor(0.0065, device='cuda:0')\n",
      "cnn_encoder.bn1.weight tensor(0.0005, device='cuda:0')\n",
      "cnn_encoder.bn1.bias tensor(0.0008, device='cuda:0')\n",
      "cnn_encoder.conv3.weight tensor(0.0022, device='cuda:0')\n",
      "cnn_encoder.conv4.weight tensor(0.0019, device='cuda:0')\n",
      "cnn_encoder.conv5.weight tensor(0.0027, device='cuda:0')\n",
      "cnn_encoder.conv5.bias tensor(8.9721e-07, device='cuda:0')\n",
      "cnn_encoder.bn2.weight tensor(0.0004, device='cuda:0')\n",
      "cnn_encoder.bn2.bias tensor(0.0008, device='cuda:0')\n",
      "lstm.weight_ih tensor(0.0196, device='cuda:0')\n",
      "lstm.weight_hh tensor(0.0142, device='cuda:0')\n",
      "lstm.bias_ih tensor(0.0019, device='cuda:0')\n",
      "lstm.bias_hh tensor(0.0019, device='cuda:0')\n",
      "emb.weight tensor(0.0012, device='cuda:0')\n",
      "wh_in.weight tensor(0.0002, device='cuda:0')\n",
      "wc_in.weight tensor(0.0002, device='cuda:0')\n",
      "wo_in.weight tensor(0.0045, device='cuda:0')\n",
      "W_1.weight tensor(0.0002, device='cuda:0')\n",
      "W_2.weight tensor(0.0002, device='cuda:0')\n",
      "W_3.weight tensor(0.0042, device='cuda:0')\n",
      "W_out.weight tensor(0.0063, device='cuda:0')\n",
      "===================    Finished   =================\n"
     ]
    },
    {
     "name": "stderr",
     "output_type": "stream",
     "text": [
      "\r\n",
      " 13%|█▎        | 198/1529 [01:10<06:45,  3.28it/s]"
     ]
    },
    {
     "name": "stdout",
     "output_type": "stream",
     "text": [
      "tensor(3.6783, device='cuda:0', grad_fn=<DivBackward1>)\n"
     ]
    },
    {
     "name": "stderr",
     "output_type": "stream",
     "text": [
      "\r\n",
      " 13%|█▎        | 199/1529 [01:11<06:44,  3.29it/s]"
     ]
    },
    {
     "name": "stdout",
     "output_type": "stream",
     "text": [
      "tensor(3.6797, device='cuda:0', grad_fn=<DivBackward1>)\n"
     ]
    },
    {
     "name": "stderr",
     "output_type": "stream",
     "text": [
      "\r\n",
      " 13%|█▎        | 200/1529 [01:11<06:43,  3.29it/s]"
     ]
    },
    {
     "name": "stdout",
     "output_type": "stream",
     "text": [
      "tensor(3.6746, device='cuda:0', grad_fn=<DivBackward1>)\n"
     ]
    },
    {
     "name": "stderr",
     "output_type": "stream",
     "text": [
      "\r\n",
      " 13%|█▎        | 201/1529 [01:11<06:42,  3.30it/s]"
     ]
    },
    {
     "name": "stdout",
     "output_type": "stream",
     "text": [
      "tensor(3.6772, device='cuda:0', grad_fn=<DivBackward1>)\n"
     ]
    },
    {
     "name": "stderr",
     "output_type": "stream",
     "text": [
      "\r\n",
      " 13%|█▎        | 202/1529 [01:11<06:42,  3.30it/s]"
     ]
    },
    {
     "name": "stdout",
     "output_type": "stream",
     "text": [
      "tensor(3.6745, device='cuda:0', grad_fn=<DivBackward1>)\n"
     ]
    },
    {
     "name": "stderr",
     "output_type": "stream",
     "text": [
      "\r\n",
      " 13%|█▎        | 203/1529 [01:12<06:44,  3.27it/s]"
     ]
    },
    {
     "name": "stdout",
     "output_type": "stream",
     "text": [
      "tensor(3.6726, device='cuda:0', grad_fn=<DivBackward1>)\n"
     ]
    },
    {
     "name": "stderr",
     "output_type": "stream",
     "text": [
      "\r\n",
      " 13%|█▎        | 204/1529 [01:12<06:43,  3.28it/s]"
     ]
    },
    {
     "name": "stdout",
     "output_type": "stream",
     "text": [
      "tensor(3.6693, device='cuda:0', grad_fn=<DivBackward1>)\n"
     ]
    },
    {
     "name": "stderr",
     "output_type": "stream",
     "text": [
      "\r\n",
      " 13%|█▎        | 205/1529 [01:12<06:43,  3.28it/s]"
     ]
    },
    {
     "name": "stdout",
     "output_type": "stream",
     "text": [
      "tensor(3.6694, device='cuda:0', grad_fn=<DivBackward1>)\n"
     ]
    },
    {
     "name": "stderr",
     "output_type": "stream",
     "text": [
      "\r\n",
      " 13%|█▎        | 206/1529 [01:13<06:41,  3.30it/s]"
     ]
    },
    {
     "name": "stdout",
     "output_type": "stream",
     "text": [
      "tensor(3.6889, device='cuda:0', grad_fn=<DivBackward1>)\n"
     ]
    },
    {
     "name": "stderr",
     "output_type": "stream",
     "text": [
      "\r\n",
      " 14%|█▎        | 207/1529 [01:13<06:40,  3.30it/s]"
     ]
    },
    {
     "name": "stdout",
     "output_type": "stream",
     "text": [
      "tensor(3.6675, device='cuda:0', grad_fn=<DivBackward1>)\n"
     ]
    },
    {
     "name": "stderr",
     "output_type": "stream",
     "text": [
      "\r\n",
      " 14%|█▎        | 208/1529 [01:13<06:40,  3.30it/s]"
     ]
    },
    {
     "name": "stdout",
     "output_type": "stream",
     "text": [
      "tensor(3.6786, device='cuda:0', grad_fn=<DivBackward1>)\n"
     ]
    },
    {
     "name": "stderr",
     "output_type": "stream",
     "text": [
      "\r\n",
      " 14%|█▎        | 209/1529 [01:14<06:39,  3.30it/s]"
     ]
    },
    {
     "name": "stdout",
     "output_type": "stream",
     "text": [
      "tensor(3.6752, device='cuda:0', grad_fn=<DivBackward1>)\n"
     ]
    },
    {
     "name": "stderr",
     "output_type": "stream",
     "text": [
      "\r\n",
      " 14%|█▎        | 210/1529 [01:14<06:40,  3.30it/s]"
     ]
    },
    {
     "name": "stdout",
     "output_type": "stream",
     "text": [
      "tensor(3.6839, device='cuda:0', grad_fn=<DivBackward1>)\n"
     ]
    },
    {
     "name": "stderr",
     "output_type": "stream",
     "text": [
      "\r\n",
      " 14%|█▍        | 211/1529 [01:14<06:39,  3.30it/s]"
     ]
    },
    {
     "name": "stdout",
     "output_type": "stream",
     "text": [
      "tensor(3.6818, device='cuda:0', grad_fn=<DivBackward1>)\n"
     ]
    },
    {
     "name": "stderr",
     "output_type": "stream",
     "text": [
      "\r\n",
      " 14%|█▍        | 212/1529 [01:14<06:38,  3.30it/s]"
     ]
    },
    {
     "name": "stdout",
     "output_type": "stream",
     "text": [
      "tensor(3.6725, device='cuda:0', grad_fn=<DivBackward1>)\n"
     ]
    },
    {
     "name": "stderr",
     "output_type": "stream",
     "text": [
      "\r\n",
      " 14%|█▍        | 213/1529 [01:15<06:37,  3.31it/s]"
     ]
    },
    {
     "name": "stdout",
     "output_type": "stream",
     "text": [
      "tensor(3.6753, device='cuda:0', grad_fn=<DivBackward1>)\n"
     ]
    },
    {
     "name": "stderr",
     "output_type": "stream",
     "text": [
      "\r\n",
      " 14%|█▍        | 214/1529 [01:15<06:37,  3.31it/s]"
     ]
    },
    {
     "name": "stdout",
     "output_type": "stream",
     "text": [
      "tensor(3.6796, device='cuda:0', grad_fn=<DivBackward1>)\n"
     ]
    },
    {
     "name": "stderr",
     "output_type": "stream",
     "text": [
      "\r\n",
      " 14%|█▍        | 215/1529 [01:15<06:37,  3.31it/s]"
     ]
    },
    {
     "name": "stdout",
     "output_type": "stream",
     "text": [
      "tensor(3.6836, device='cuda:0', grad_fn=<DivBackward1>)\n"
     ]
    },
    {
     "name": "stderr",
     "output_type": "stream",
     "text": [
      "\r\n",
      " 14%|█▍        | 216/1529 [01:16<06:36,  3.31it/s]"
     ]
    },
    {
     "name": "stdout",
     "output_type": "stream",
     "text": [
      "tensor(3.6804, device='cuda:0', grad_fn=<DivBackward1>)\n"
     ]
    },
    {
     "name": "stderr",
     "output_type": "stream",
     "text": [
      "\r\n",
      " 14%|█▍        | 217/1529 [01:16<06:37,  3.30it/s]"
     ]
    },
    {
     "name": "stdout",
     "output_type": "stream",
     "text": [
      "tensor(3.6811, device='cuda:0', grad_fn=<DivBackward1>)\n"
     ]
    },
    {
     "name": "stderr",
     "output_type": "stream",
     "text": [
      "\r\n",
      " 14%|█▍        | 218/1529 [01:16<06:36,  3.30it/s]"
     ]
    },
    {
     "name": "stdout",
     "output_type": "stream",
     "text": [
      "tensor(3.6777, device='cuda:0', grad_fn=<DivBackward1>)\n"
     ]
    },
    {
     "name": "stderr",
     "output_type": "stream",
     "text": [
      "\r\n",
      " 14%|█▍        | 219/1529 [01:17<06:36,  3.30it/s]"
     ]
    },
    {
     "name": "stdout",
     "output_type": "stream",
     "text": [
      "tensor(3.6719, device='cuda:0', grad_fn=<DivBackward1>)\n"
     ]
    },
    {
     "name": "stderr",
     "output_type": "stream",
     "text": [
      "\r\n",
      " 14%|█▍        | 220/1529 [01:17<06:37,  3.30it/s]"
     ]
    },
    {
     "name": "stdout",
     "output_type": "stream",
     "text": [
      "tensor(3.6699, device='cuda:0', grad_fn=<DivBackward1>)\n"
     ]
    },
    {
     "name": "stderr",
     "output_type": "stream",
     "text": [
      "\r\n",
      " 14%|█▍        | 221/1529 [01:17<06:36,  3.30it/s]"
     ]
    },
    {
     "name": "stdout",
     "output_type": "stream",
     "text": [
      "tensor(3.6734, device='cuda:0', grad_fn=<DivBackward1>)\n"
     ]
    },
    {
     "name": "stderr",
     "output_type": "stream",
     "text": [
      "\r\n",
      " 15%|█▍        | 222/1529 [01:18<06:35,  3.30it/s]"
     ]
    },
    {
     "name": "stdout",
     "output_type": "stream",
     "text": [
      "tensor(3.6698, device='cuda:0', grad_fn=<DivBackward1>)\n"
     ]
    },
    {
     "name": "stderr",
     "output_type": "stream",
     "text": [
      "\r\n",
      " 15%|█▍        | 223/1529 [01:18<06:35,  3.30it/s]"
     ]
    },
    {
     "name": "stdout",
     "output_type": "stream",
     "text": [
      "tensor(3.6728, device='cuda:0', grad_fn=<DivBackward1>)\n"
     ]
    },
    {
     "name": "stderr",
     "output_type": "stream",
     "text": [
      "\r\n",
      " 15%|█▍        | 224/1529 [01:18<06:35,  3.30it/s]"
     ]
    },
    {
     "name": "stdout",
     "output_type": "stream",
     "text": [
      "tensor(3.6760, device='cuda:0', grad_fn=<DivBackward1>)\n"
     ]
    },
    {
     "name": "stderr",
     "output_type": "stream",
     "text": [
      "\r\n",
      " 15%|█▍        | 225/1529 [01:18<06:35,  3.29it/s]"
     ]
    },
    {
     "name": "stdout",
     "output_type": "stream",
     "text": [
      "tensor(3.6716, device='cuda:0', grad_fn=<DivBackward1>)\n"
     ]
    },
    {
     "name": "stderr",
     "output_type": "stream",
     "text": [
      "\r\n",
      " 15%|█▍        | 226/1529 [01:19<06:35,  3.30it/s]"
     ]
    },
    {
     "name": "stdout",
     "output_type": "stream",
     "text": [
      "tensor(3.6748, device='cuda:0', grad_fn=<DivBackward1>)\n"
     ]
    },
    {
     "name": "stderr",
     "output_type": "stream",
     "text": [
      "\r\n",
      " 15%|█▍        | 227/1529 [01:19<06:34,  3.30it/s]"
     ]
    },
    {
     "name": "stdout",
     "output_type": "stream",
     "text": [
      "tensor(3.6808, device='cuda:0', grad_fn=<DivBackward1>)\n"
     ]
    },
    {
     "name": "stderr",
     "output_type": "stream",
     "text": [
      "\r\n",
      " 15%|█▍        | 228/1529 [01:19<06:33,  3.30it/s]"
     ]
    },
    {
     "name": "stdout",
     "output_type": "stream",
     "text": [
      "tensor(3.6745, device='cuda:0', grad_fn=<DivBackward1>)\n"
     ]
    },
    {
     "name": "stderr",
     "output_type": "stream",
     "text": [
      "\r\n",
      " 15%|█▍        | 229/1529 [01:20<06:32,  3.31it/s]"
     ]
    },
    {
     "name": "stdout",
     "output_type": "stream",
     "text": [
      "tensor(3.6782, device='cuda:0', grad_fn=<DivBackward1>)\n"
     ]
    },
    {
     "name": "stderr",
     "output_type": "stream",
     "text": [
      "\r\n",
      " 15%|█▌        | 230/1529 [01:20<06:32,  3.31it/s]"
     ]
    },
    {
     "name": "stdout",
     "output_type": "stream",
     "text": [
      "tensor(3.6761, device='cuda:0', grad_fn=<DivBackward1>)\n"
     ]
    },
    {
     "name": "stderr",
     "output_type": "stream",
     "text": [
      "\r\n",
      " 15%|█▌        | 231/1529 [01:20<06:32,  3.31it/s]"
     ]
    },
    {
     "name": "stdout",
     "output_type": "stream",
     "text": [
      "tensor(3.6731, device='cuda:0', grad_fn=<DivBackward1>)\n"
     ]
    },
    {
     "name": "stderr",
     "output_type": "stream",
     "text": [
      "\r\n",
      " 15%|█▌        | 232/1529 [01:21<06:32,  3.31it/s]"
     ]
    },
    {
     "name": "stdout",
     "output_type": "stream",
     "text": [
      "tensor(3.6851, device='cuda:0', grad_fn=<DivBackward1>)\n"
     ]
    },
    {
     "name": "stderr",
     "output_type": "stream",
     "text": [
      "\r\n",
      " 15%|█▌        | 233/1529 [01:21<06:31,  3.31it/s]"
     ]
    },
    {
     "name": "stdout",
     "output_type": "stream",
     "text": [
      "tensor(3.6725, device='cuda:0', grad_fn=<DivBackward1>)\n"
     ]
    },
    {
     "name": "stderr",
     "output_type": "stream",
     "text": [
      "\r\n",
      " 15%|█▌        | 234/1529 [01:21<06:32,  3.30it/s]"
     ]
    },
    {
     "name": "stdout",
     "output_type": "stream",
     "text": [
      "tensor(3.6688, device='cuda:0', grad_fn=<DivBackward1>)\n"
     ]
    },
    {
     "name": "stderr",
     "output_type": "stream",
     "text": [
      "\r\n",
      " 15%|█▌        | 235/1529 [01:21<06:30,  3.31it/s]"
     ]
    },
    {
     "name": "stdout",
     "output_type": "stream",
     "text": [
      "tensor(3.6744, device='cuda:0', grad_fn=<DivBackward1>)\n"
     ]
    },
    {
     "name": "stderr",
     "output_type": "stream",
     "text": [
      "\r\n",
      " 15%|█▌        | 236/1529 [01:22<06:30,  3.31it/s]"
     ]
    },
    {
     "name": "stdout",
     "output_type": "stream",
     "text": [
      "tensor(3.6856, device='cuda:0', grad_fn=<DivBackward1>)\n"
     ]
    },
    {
     "name": "stderr",
     "output_type": "stream",
     "text": [
      "\r\n",
      " 16%|█▌        | 237/1529 [01:22<06:30,  3.31it/s]"
     ]
    },
    {
     "name": "stdout",
     "output_type": "stream",
     "text": [
      "tensor(3.6778, device='cuda:0', grad_fn=<DivBackward1>)\n"
     ]
    },
    {
     "name": "stderr",
     "output_type": "stream",
     "text": [
      "\r\n",
      " 16%|█▌        | 238/1529 [01:22<06:29,  3.31it/s]"
     ]
    },
    {
     "name": "stdout",
     "output_type": "stream",
     "text": [
      "tensor(3.6817, device='cuda:0', grad_fn=<DivBackward1>)\n"
     ]
    },
    {
     "name": "stderr",
     "output_type": "stream",
     "text": [
      "\r\n",
      " 16%|█▌        | 239/1529 [01:23<06:30,  3.31it/s]"
     ]
    },
    {
     "name": "stdout",
     "output_type": "stream",
     "text": [
      "tensor(3.6772, device='cuda:0', grad_fn=<DivBackward1>)\n"
     ]
    },
    {
     "name": "stderr",
     "output_type": "stream",
     "text": [
      "\r\n",
      " 16%|█▌        | 240/1529 [01:23<06:29,  3.31it/s]"
     ]
    },
    {
     "name": "stdout",
     "output_type": "stream",
     "text": [
      "tensor(3.6722, device='cuda:0', grad_fn=<DivBackward1>)\n"
     ]
    },
    {
     "name": "stderr",
     "output_type": "stream",
     "text": [
      "\r\n",
      " 16%|█▌        | 241/1529 [01:23<06:29,  3.30it/s]"
     ]
    },
    {
     "name": "stdout",
     "output_type": "stream",
     "text": [
      "tensor(3.6815, device='cuda:0', grad_fn=<DivBackward1>)\n"
     ]
    },
    {
     "name": "stderr",
     "output_type": "stream",
     "text": [
      "\r\n",
      " 16%|█▌        | 242/1529 [01:24<06:29,  3.31it/s]"
     ]
    },
    {
     "name": "stdout",
     "output_type": "stream",
     "text": [
      "tensor(3.6804, device='cuda:0', grad_fn=<DivBackward1>)\n"
     ]
    },
    {
     "name": "stderr",
     "output_type": "stream",
     "text": [
      "\r\n",
      " 16%|█▌        | 243/1529 [01:24<06:29,  3.30it/s]"
     ]
    },
    {
     "name": "stdout",
     "output_type": "stream",
     "text": [
      "tensor(3.6716, device='cuda:0', grad_fn=<DivBackward1>)\n"
     ]
    },
    {
     "name": "stderr",
     "output_type": "stream",
     "text": [
      "\r\n",
      " 16%|█▌        | 244/1529 [01:24<06:29,  3.30it/s]"
     ]
    },
    {
     "name": "stdout",
     "output_type": "stream",
     "text": [
      "tensor(3.6720, device='cuda:0', grad_fn=<DivBackward1>)\n"
     ]
    },
    {
     "name": "stderr",
     "output_type": "stream",
     "text": [
      "\r\n",
      " 16%|█▌        | 245/1529 [01:24<06:28,  3.31it/s]"
     ]
    },
    {
     "name": "stdout",
     "output_type": "stream",
     "text": [
      "tensor(3.6715, device='cuda:0', grad_fn=<DivBackward1>)\n"
     ]
    },
    {
     "name": "stderr",
     "output_type": "stream",
     "text": [
      "\r\n",
      " 16%|█▌        | 246/1529 [01:25<06:31,  3.28it/s]"
     ]
    },
    {
     "name": "stdout",
     "output_type": "stream",
     "text": [
      "tensor(3.6737, device='cuda:0', grad_fn=<DivBackward1>)\n",
      "===================Checking gradient===============\n",
      "beta tensor(0.0038, device='cuda:0')\n",
      "cnn_encoder.conv1.weight tensor(0.0040, device='cuda:0')\n",
      "cnn_encoder.conv2.weight tensor(0.0051, device='cuda:0')\n",
      "cnn_encoder.bn1.weight tensor(0.0004, device='cuda:0')\n",
      "cnn_encoder.bn1.bias tensor(0.0002, device='cuda:0')\n",
      "cnn_encoder.conv3.weight tensor(0.0018, device='cuda:0')\n",
      "cnn_encoder.conv4.weight tensor(0.0011, device='cuda:0')\n",
      "cnn_encoder.conv5.weight tensor(0.0023, device='cuda:0')\n",
      "cnn_encoder.conv5.bias tensor(7.6721e-07, device='cuda:0')\n",
      "cnn_encoder.bn2.weight tensor(0.0004, device='cuda:0')\n",
      "cnn_encoder.bn2.bias tensor(0.0013, device='cuda:0')\n",
      "lstm.weight_ih tensor(0.0196, device='cuda:0')\n",
      "lstm.weight_hh tensor(0.0139, device='cuda:0')\n",
      "lstm.bias_ih tensor(0.0019, device='cuda:0')\n",
      "lstm.bias_hh tensor(0.0019, device='cuda:0')\n",
      "emb.weight tensor(0.0017, device='cuda:0')\n",
      "wh_in.weight tensor(5.4718e-05, device='cuda:0')\n",
      "wc_in.weight tensor(8.4931e-05, device='cuda:0')\n",
      "wo_in.weight tensor(0.0041, device='cuda:0')\n",
      "W_1.weight tensor(0.0007, device='cuda:0')\n",
      "W_2.weight tensor(0.0005, device='cuda:0')\n",
      "W_3.weight tensor(0.0037, device='cuda:0')\n",
      "W_out.weight tensor(0.0103, device='cuda:0')\n",
      "===================    Finished   =================\n"
     ]
    },
    {
     "name": "stderr",
     "output_type": "stream",
     "text": [
      "\r\n",
      " 16%|█▌        | 247/1529 [01:25<06:30,  3.29it/s]"
     ]
    },
    {
     "name": "stdout",
     "output_type": "stream",
     "text": [
      "tensor(3.6724, device='cuda:0', grad_fn=<DivBackward1>)\n"
     ]
    },
    {
     "name": "stderr",
     "output_type": "stream",
     "text": [
      "\r\n",
      " 16%|█▌        | 248/1529 [01:25<06:28,  3.30it/s]"
     ]
    },
    {
     "name": "stdout",
     "output_type": "stream",
     "text": [
      "tensor(3.6818, device='cuda:0', grad_fn=<DivBackward1>)\n"
     ]
    },
    {
     "name": "stderr",
     "output_type": "stream",
     "text": [
      "\r\n",
      " 16%|█▋        | 249/1529 [01:26<06:27,  3.30it/s]"
     ]
    },
    {
     "name": "stdout",
     "output_type": "stream",
     "text": [
      "tensor(3.6784, device='cuda:0', grad_fn=<DivBackward1>)\n"
     ]
    },
    {
     "name": "stderr",
     "output_type": "stream",
     "text": [
      "\r\n",
      " 16%|█▋        | 250/1529 [01:26<06:27,  3.30it/s]"
     ]
    },
    {
     "name": "stdout",
     "output_type": "stream",
     "text": [
      "tensor(3.6734, device='cuda:0', grad_fn=<DivBackward1>)\n"
     ]
    },
    {
     "name": "stderr",
     "output_type": "stream",
     "text": [
      "\r\n",
      " 16%|█▋        | 251/1529 [01:26<06:28,  3.29it/s]"
     ]
    },
    {
     "name": "stdout",
     "output_type": "stream",
     "text": [
      "tensor(3.6733, device='cuda:0', grad_fn=<DivBackward1>)\n"
     ]
    },
    {
     "name": "stderr",
     "output_type": "stream",
     "text": [
      "\r\n",
      " 16%|█▋        | 252/1529 [01:27<06:27,  3.29it/s]"
     ]
    },
    {
     "name": "stdout",
     "output_type": "stream",
     "text": [
      "tensor(3.6671, device='cuda:0', grad_fn=<DivBackward1>)\n"
     ]
    },
    {
     "name": "stderr",
     "output_type": "stream",
     "text": [
      "\r\n",
      " 17%|█▋        | 253/1529 [01:27<06:26,  3.30it/s]"
     ]
    },
    {
     "name": "stdout",
     "output_type": "stream",
     "text": [
      "tensor(3.6710, device='cuda:0', grad_fn=<DivBackward1>)\n"
     ]
    },
    {
     "name": "stderr",
     "output_type": "stream",
     "text": [
      "\r\n",
      " 17%|█▋        | 254/1529 [01:27<06:25,  3.31it/s]"
     ]
    },
    {
     "name": "stdout",
     "output_type": "stream",
     "text": [
      "tensor(3.6849, device='cuda:0', grad_fn=<DivBackward1>)\n"
     ]
    },
    {
     "name": "stderr",
     "output_type": "stream",
     "text": [
      "\r\n",
      " 17%|█▋        | 255/1529 [01:27<06:25,  3.31it/s]"
     ]
    },
    {
     "name": "stdout",
     "output_type": "stream",
     "text": [
      "tensor(3.6723, device='cuda:0', grad_fn=<DivBackward1>)\n"
     ]
    },
    {
     "name": "stderr",
     "output_type": "stream",
     "text": [
      "\r\n",
      " 17%|█▋        | 256/1529 [01:28<06:25,  3.30it/s]"
     ]
    },
    {
     "name": "stdout",
     "output_type": "stream",
     "text": [
      "tensor(3.6728, device='cuda:0', grad_fn=<DivBackward1>)\n"
     ]
    },
    {
     "name": "stderr",
     "output_type": "stream",
     "text": [
      "\r\n",
      " 17%|█▋        | 257/1529 [01:28<06:24,  3.31it/s]"
     ]
    },
    {
     "name": "stdout",
     "output_type": "stream",
     "text": [
      "tensor(3.6798, device='cuda:0', grad_fn=<DivBackward1>)\n"
     ]
    },
    {
     "name": "stderr",
     "output_type": "stream",
     "text": [
      "\r\n",
      " 17%|█▋        | 258/1529 [01:28<06:27,  3.28it/s]"
     ]
    },
    {
     "name": "stdout",
     "output_type": "stream",
     "text": [
      "tensor(3.6812, device='cuda:0', grad_fn=<DivBackward1>)\n"
     ]
    },
    {
     "name": "stderr",
     "output_type": "stream",
     "text": [
      "\r\n",
      " 17%|█▋        | 259/1529 [01:29<06:26,  3.29it/s]"
     ]
    },
    {
     "name": "stdout",
     "output_type": "stream",
     "text": [
      "tensor(3.6768, device='cuda:0', grad_fn=<DivBackward1>)\n"
     ]
    },
    {
     "name": "stderr",
     "output_type": "stream",
     "text": [
      "\r\n",
      " 17%|█▋        | 260/1529 [01:29<06:25,  3.29it/s]"
     ]
    },
    {
     "name": "stdout",
     "output_type": "stream",
     "text": [
      "tensor(3.6786, device='cuda:0', grad_fn=<DivBackward1>)\n"
     ]
    },
    {
     "name": "stderr",
     "output_type": "stream",
     "text": [
      "\r\n",
      " 17%|█▋        | 261/1529 [01:29<06:23,  3.30it/s]"
     ]
    },
    {
     "name": "stdout",
     "output_type": "stream",
     "text": [
      "tensor(3.6750, device='cuda:0', grad_fn=<DivBackward1>)\n"
     ]
    },
    {
     "name": "stderr",
     "output_type": "stream",
     "text": [
      "\r\n",
      " 17%|█▋        | 262/1529 [01:30<06:23,  3.31it/s]"
     ]
    },
    {
     "name": "stdout",
     "output_type": "stream",
     "text": [
      "tensor(3.6762, device='cuda:0', grad_fn=<DivBackward1>)\n"
     ]
    },
    {
     "name": "stderr",
     "output_type": "stream",
     "text": [
      "\r\n",
      " 17%|█▋        | 263/1529 [01:30<06:22,  3.31it/s]"
     ]
    },
    {
     "name": "stdout",
     "output_type": "stream",
     "text": [
      "tensor(3.6849, device='cuda:0', grad_fn=<DivBackward1>)\n"
     ]
    },
    {
     "name": "stderr",
     "output_type": "stream",
     "text": [
      "\r\n",
      " 17%|█▋        | 264/1529 [01:30<06:22,  3.30it/s]"
     ]
    },
    {
     "name": "stdout",
     "output_type": "stream",
     "text": [
      "tensor(3.6766, device='cuda:0', grad_fn=<DivBackward1>)\n"
     ]
    },
    {
     "name": "stderr",
     "output_type": "stream",
     "text": [
      "\r\n",
      " 17%|█▋        | 265/1529 [01:31<06:22,  3.30it/s]"
     ]
    },
    {
     "name": "stdout",
     "output_type": "stream",
     "text": [
      "tensor(3.6712, device='cuda:0', grad_fn=<DivBackward1>)\n"
     ]
    },
    {
     "name": "stderr",
     "output_type": "stream",
     "text": [
      "\r\n",
      " 17%|█▋        | 266/1529 [01:31<06:22,  3.30it/s]"
     ]
    },
    {
     "name": "stdout",
     "output_type": "stream",
     "text": [
      "tensor(3.6726, device='cuda:0', grad_fn=<DivBackward1>)\n"
     ]
    },
    {
     "name": "stderr",
     "output_type": "stream",
     "text": [
      "\r\n",
      " 17%|█▋        | 267/1529 [01:31<06:22,  3.30it/s]"
     ]
    },
    {
     "name": "stdout",
     "output_type": "stream",
     "text": [
      "tensor(3.6720, device='cuda:0', grad_fn=<DivBackward1>)\n"
     ]
    },
    {
     "name": "stderr",
     "output_type": "stream",
     "text": [
      "\r\n",
      " 18%|█▊        | 268/1529 [01:31<06:21,  3.31it/s]"
     ]
    },
    {
     "name": "stdout",
     "output_type": "stream",
     "text": [
      "tensor(3.6783, device='cuda:0', grad_fn=<DivBackward1>)\n"
     ]
    },
    {
     "name": "stderr",
     "output_type": "stream",
     "text": [
      "\r\n",
      " 18%|█▊        | 269/1529 [01:32<06:20,  3.31it/s]"
     ]
    },
    {
     "name": "stdout",
     "output_type": "stream",
     "text": [
      "tensor(3.6693, device='cuda:0', grad_fn=<DivBackward1>)\n"
     ]
    },
    {
     "name": "stderr",
     "output_type": "stream",
     "text": [
      "\r\n",
      " 18%|█▊        | 270/1529 [01:32<06:21,  3.30it/s]"
     ]
    },
    {
     "name": "stdout",
     "output_type": "stream",
     "text": [
      "tensor(3.6750, device='cuda:0', grad_fn=<DivBackward1>)\n"
     ]
    },
    {
     "name": "stderr",
     "output_type": "stream",
     "text": [
      "\r\n",
      " 18%|█▊        | 271/1529 [01:32<06:20,  3.31it/s]"
     ]
    },
    {
     "name": "stdout",
     "output_type": "stream",
     "text": [
      "tensor(3.6685, device='cuda:0', grad_fn=<DivBackward1>)\n"
     ]
    },
    {
     "name": "stderr",
     "output_type": "stream",
     "text": [
      "\r\n",
      " 18%|█▊        | 272/1529 [01:33<06:22,  3.29it/s]"
     ]
    },
    {
     "name": "stdout",
     "output_type": "stream",
     "text": [
      "tensor(3.6717, device='cuda:0', grad_fn=<DivBackward1>)\n"
     ]
    },
    {
     "name": "stderr",
     "output_type": "stream",
     "text": [
      "\r\n",
      " 18%|█▊        | 273/1529 [01:33<06:21,  3.29it/s]"
     ]
    },
    {
     "name": "stdout",
     "output_type": "stream",
     "text": [
      "tensor(3.6814, device='cuda:0', grad_fn=<DivBackward1>)\n"
     ]
    },
    {
     "name": "stderr",
     "output_type": "stream",
     "text": [
      "\r\n",
      " 18%|█▊        | 274/1529 [01:33<06:20,  3.30it/s]"
     ]
    },
    {
     "name": "stdout",
     "output_type": "stream",
     "text": [
      "tensor(3.6770, device='cuda:0', grad_fn=<DivBackward1>)\n"
     ]
    },
    {
     "name": "stderr",
     "output_type": "stream",
     "text": [
      "\r\n",
      " 18%|█▊        | 275/1529 [01:34<06:19,  3.30it/s]"
     ]
    },
    {
     "name": "stdout",
     "output_type": "stream",
     "text": [
      "tensor(3.6681, device='cuda:0', grad_fn=<DivBackward1>)\n"
     ]
    },
    {
     "name": "stderr",
     "output_type": "stream",
     "text": [
      "\r\n",
      " 18%|█▊        | 276/1529 [01:34<06:19,  3.31it/s]"
     ]
    },
    {
     "name": "stdout",
     "output_type": "stream",
     "text": [
      "tensor(3.6658, device='cuda:0', grad_fn=<DivBackward1>)\n"
     ]
    },
    {
     "name": "stderr",
     "output_type": "stream",
     "text": [
      "\r\n",
      " 18%|█▊        | 277/1529 [01:34<06:18,  3.31it/s]"
     ]
    },
    {
     "name": "stdout",
     "output_type": "stream",
     "text": [
      "tensor(3.6748, device='cuda:0', grad_fn=<DivBackward1>)\n"
     ]
    },
    {
     "name": "stderr",
     "output_type": "stream",
     "text": [
      "\r\n",
      " 18%|█▊        | 278/1529 [01:34<06:18,  3.31it/s]"
     ]
    },
    {
     "name": "stdout",
     "output_type": "stream",
     "text": [
      "tensor(3.6796, device='cuda:0', grad_fn=<DivBackward1>)\n"
     ]
    },
    {
     "name": "stderr",
     "output_type": "stream",
     "text": [
      "\r\n",
      " 18%|█▊        | 279/1529 [01:35<06:17,  3.31it/s]"
     ]
    },
    {
     "name": "stdout",
     "output_type": "stream",
     "text": [
      "tensor(3.6737, device='cuda:0', grad_fn=<DivBackward1>)\n"
     ]
    },
    {
     "name": "stderr",
     "output_type": "stream",
     "text": [
      "\r\n",
      " 18%|█▊        | 280/1529 [01:35<06:18,  3.30it/s]"
     ]
    },
    {
     "name": "stdout",
     "output_type": "stream",
     "text": [
      "tensor(3.6659, device='cuda:0', grad_fn=<DivBackward1>)\n"
     ]
    },
    {
     "name": "stderr",
     "output_type": "stream",
     "text": [
      "\r\n",
      " 18%|█▊        | 281/1529 [01:35<06:17,  3.31it/s]"
     ]
    },
    {
     "name": "stdout",
     "output_type": "stream",
     "text": [
      "tensor(3.6773, device='cuda:0', grad_fn=<DivBackward1>)\n"
     ]
    },
    {
     "name": "stderr",
     "output_type": "stream",
     "text": [
      "\r\n",
      " 18%|█▊        | 282/1529 [01:36<06:17,  3.30it/s]"
     ]
    },
    {
     "name": "stdout",
     "output_type": "stream",
     "text": [
      "tensor(3.6736, device='cuda:0', grad_fn=<DivBackward1>)\n"
     ]
    },
    {
     "name": "stderr",
     "output_type": "stream",
     "text": [
      "\r\n",
      " 19%|█▊        | 283/1529 [01:36<06:17,  3.30it/s]"
     ]
    },
    {
     "name": "stdout",
     "output_type": "stream",
     "text": [
      "tensor(3.6711, device='cuda:0', grad_fn=<DivBackward1>)\n"
     ]
    },
    {
     "name": "stderr",
     "output_type": "stream",
     "text": [
      "\r\n",
      " 19%|█▊        | 284/1529 [01:36<06:16,  3.30it/s]"
     ]
    },
    {
     "name": "stdout",
     "output_type": "stream",
     "text": [
      "tensor(3.6684, device='cuda:0', grad_fn=<DivBackward1>)\n"
     ]
    },
    {
     "name": "stderr",
     "output_type": "stream",
     "text": [
      "\r\n",
      " 19%|█▊        | 285/1529 [01:37<06:16,  3.31it/s]"
     ]
    },
    {
     "name": "stdout",
     "output_type": "stream",
     "text": [
      "tensor(3.6761, device='cuda:0', grad_fn=<DivBackward1>)\n"
     ]
    },
    {
     "name": "stderr",
     "output_type": "stream",
     "text": [
      "\r\n",
      " 19%|█▊        | 286/1529 [01:37<06:18,  3.29it/s]"
     ]
    },
    {
     "name": "stdout",
     "output_type": "stream",
     "text": [
      "tensor(3.6782, device='cuda:0', grad_fn=<DivBackward1>)\n"
     ]
    },
    {
     "name": "stderr",
     "output_type": "stream",
     "text": [
      "\r\n",
      " 19%|█▉        | 287/1529 [01:37<06:17,  3.29it/s]"
     ]
    },
    {
     "name": "stdout",
     "output_type": "stream",
     "text": [
      "tensor(3.6759, device='cuda:0', grad_fn=<DivBackward1>)\n"
     ]
    },
    {
     "name": "stderr",
     "output_type": "stream",
     "text": [
      "\r\n",
      " 19%|█▉        | 288/1529 [01:37<06:16,  3.30it/s]"
     ]
    },
    {
     "name": "stdout",
     "output_type": "stream",
     "text": [
      "tensor(3.6659, device='cuda:0', grad_fn=<DivBackward1>)\n"
     ]
    },
    {
     "name": "stderr",
     "output_type": "stream",
     "text": [
      "\r\n",
      " 19%|█▉        | 289/1529 [01:38<06:15,  3.30it/s]"
     ]
    },
    {
     "name": "stdout",
     "output_type": "stream",
     "text": [
      "tensor(3.6703, device='cuda:0', grad_fn=<DivBackward1>)\n"
     ]
    },
    {
     "name": "stderr",
     "output_type": "stream",
     "text": [
      "\r\n",
      " 19%|█▉        | 290/1529 [01:38<06:15,  3.30it/s]"
     ]
    },
    {
     "name": "stdout",
     "output_type": "stream",
     "text": [
      "tensor(3.6776, device='cuda:0', grad_fn=<DivBackward1>)\n"
     ]
    },
    {
     "name": "stderr",
     "output_type": "stream",
     "text": [
      "\r\n",
      " 19%|█▉        | 291/1529 [01:38<06:15,  3.30it/s]"
     ]
    },
    {
     "name": "stdout",
     "output_type": "stream",
     "text": [
      "tensor(3.6764, device='cuda:0', grad_fn=<DivBackward1>)\n"
     ]
    },
    {
     "name": "stderr",
     "output_type": "stream",
     "text": [
      "\r\n",
      " 19%|█▉        | 292/1529 [01:39<06:14,  3.31it/s]"
     ]
    },
    {
     "name": "stdout",
     "output_type": "stream",
     "text": [
      "tensor(3.6852, device='cuda:0', grad_fn=<DivBackward1>)\n"
     ]
    },
    {
     "name": "stderr",
     "output_type": "stream",
     "text": [
      "\r\n",
      " 19%|█▉        | 293/1529 [01:39<06:13,  3.31it/s]"
     ]
    },
    {
     "name": "stdout",
     "output_type": "stream",
     "text": [
      "tensor(3.6745, device='cuda:0', grad_fn=<DivBackward1>)\n"
     ]
    },
    {
     "name": "stderr",
     "output_type": "stream",
     "text": [
      "\r\n",
      " 19%|█▉        | 294/1529 [01:39<06:12,  3.31it/s]"
     ]
    },
    {
     "name": "stdout",
     "output_type": "stream",
     "text": [
      "tensor(3.6835, device='cuda:0', grad_fn=<DivBackward1>)\n"
     ]
    },
    {
     "name": "stderr",
     "output_type": "stream",
     "text": [
      "\r\n",
      " 19%|█▉        | 295/1529 [01:40<06:15,  3.29it/s]"
     ]
    },
    {
     "name": "stdout",
     "output_type": "stream",
     "text": [
      "tensor(3.6769, device='cuda:0', grad_fn=<DivBackward1>)\n",
      "===================Checking gradient===============\n",
      "beta tensor(0.0023, device='cuda:0')\n",
      "cnn_encoder.conv1.weight tensor(0.0042, device='cuda:0')\n",
      "cnn_encoder.conv2.weight tensor(0.0039, device='cuda:0')\n",
      "cnn_encoder.bn1.weight tensor(0.0004, device='cuda:0')\n",
      "cnn_encoder.bn1.bias tensor(0.0003, device='cuda:0')\n",
      "cnn_encoder.conv3.weight tensor(0.0016, device='cuda:0')\n",
      "cnn_encoder.conv4.weight tensor(0.0014, device='cuda:0')\n",
      "cnn_encoder.conv5.weight tensor(0.0016, device='cuda:0')\n",
      "cnn_encoder.conv5.bias tensor(4.3174e-07, device='cuda:0')\n",
      "cnn_encoder.bn2.weight tensor(0.0003, device='cuda:0')\n",
      "cnn_encoder.bn2.bias tensor(0.0023, device='cuda:0')\n",
      "lstm.weight_ih tensor(0.0194, device='cuda:0')\n",
      "lstm.weight_hh tensor(0.0112, device='cuda:0')\n",
      "lstm.bias_ih tensor(0.0023, device='cuda:0')\n",
      "lstm.bias_hh tensor(0.0023, device='cuda:0')\n",
      "emb.weight tensor(0.0018, device='cuda:0')\n",
      "wh_in.weight tensor(0.0001, device='cuda:0')\n",
      "wc_in.weight tensor(0.0002, device='cuda:0')\n",
      "wo_in.weight tensor(0.0030, device='cuda:0')\n",
      "W_1.weight tensor(0.0004, device='cuda:0')\n",
      "W_2.weight tensor(0.0003, device='cuda:0')\n",
      "W_3.weight tensor(0.0039, device='cuda:0')\n",
      "W_out.weight tensor(0.0153, device='cuda:0')\n",
      "===================    Finished   =================\n"
     ]
    },
    {
     "name": "stderr",
     "output_type": "stream",
     "text": [
      "\r\n",
      " 19%|█▉        | 296/1529 [01:40<06:14,  3.29it/s]"
     ]
    },
    {
     "name": "stdout",
     "output_type": "stream",
     "text": [
      "tensor(3.6768, device='cuda:0', grad_fn=<DivBackward1>)\n"
     ]
    },
    {
     "name": "stderr",
     "output_type": "stream",
     "text": [
      "\r\n",
      " 19%|█▉        | 297/1529 [01:40<06:14,  3.29it/s]"
     ]
    },
    {
     "name": "stdout",
     "output_type": "stream",
     "text": [
      "tensor(3.6784, device='cuda:0', grad_fn=<DivBackward1>)\n"
     ]
    },
    {
     "name": "stderr",
     "output_type": "stream",
     "text": [
      "\r\n",
      " 19%|█▉        | 298/1529 [01:41<06:16,  3.27it/s]"
     ]
    },
    {
     "name": "stdout",
     "output_type": "stream",
     "text": [
      "tensor(3.6730, device='cuda:0', grad_fn=<DivBackward1>)\n"
     ]
    },
    {
     "name": "stderr",
     "output_type": "stream",
     "text": [
      "\r\n",
      " 20%|█▉        | 299/1529 [01:41<06:20,  3.23it/s]"
     ]
    },
    {
     "name": "stdout",
     "output_type": "stream",
     "text": [
      "tensor(3.6684, device='cuda:0', grad_fn=<DivBackward1>)\n"
     ]
    },
    {
     "name": "stderr",
     "output_type": "stream",
     "text": [
      "\r\n",
      " 20%|█▉        | 300/1529 [01:41<06:25,  3.19it/s]"
     ]
    },
    {
     "name": "stdout",
     "output_type": "stream",
     "text": [
      "tensor(3.6636, device='cuda:0', grad_fn=<DivBackward1>)\n"
     ]
    },
    {
     "name": "stderr",
     "output_type": "stream",
     "text": [
      "\r\n",
      " 20%|█▉        | 301/1529 [01:42<06:30,  3.15it/s]"
     ]
    },
    {
     "name": "stdout",
     "output_type": "stream",
     "text": [
      "tensor(3.6752, device='cuda:0', grad_fn=<DivBackward1>)\n"
     ]
    },
    {
     "name": "stderr",
     "output_type": "stream",
     "text": [
      "\r\n",
      " 20%|█▉        | 302/1529 [01:42<06:29,  3.15it/s]"
     ]
    },
    {
     "name": "stdout",
     "output_type": "stream",
     "text": [
      "tensor(3.6725, device='cuda:0', grad_fn=<DivBackward1>)\n"
     ]
    },
    {
     "name": "stderr",
     "output_type": "stream",
     "text": [
      "\r\n",
      " 20%|█▉        | 303/1529 [01:42<06:29,  3.15it/s]"
     ]
    },
    {
     "name": "stdout",
     "output_type": "stream",
     "text": [
      "tensor(3.6806, device='cuda:0', grad_fn=<DivBackward1>)\n"
     ]
    },
    {
     "name": "stderr",
     "output_type": "stream",
     "text": [
      "\r\n",
      " 20%|█▉        | 304/1529 [01:42<06:23,  3.19it/s]"
     ]
    },
    {
     "name": "stdout",
     "output_type": "stream",
     "text": [
      "tensor(3.6769, device='cuda:0', grad_fn=<DivBackward1>)\n"
     ]
    },
    {
     "name": "stderr",
     "output_type": "stream",
     "text": [
      "\r\n",
      " 20%|█▉        | 305/1529 [01:43<06:19,  3.23it/s]"
     ]
    },
    {
     "name": "stdout",
     "output_type": "stream",
     "text": [
      "tensor(3.6769, device='cuda:0', grad_fn=<DivBackward1>)\n"
     ]
    },
    {
     "name": "stderr",
     "output_type": "stream",
     "text": [
      "\r\n",
      " 20%|██        | 306/1529 [01:43<06:16,  3.25it/s]"
     ]
    },
    {
     "name": "stdout",
     "output_type": "stream",
     "text": [
      "tensor(3.6784, device='cuda:0', grad_fn=<DivBackward1>)\n"
     ]
    },
    {
     "name": "stderr",
     "output_type": "stream",
     "text": [
      "\r\n",
      " 20%|██        | 307/1529 [01:43<06:14,  3.27it/s]"
     ]
    },
    {
     "name": "stdout",
     "output_type": "stream",
     "text": [
      "tensor(3.6776, device='cuda:0', grad_fn=<DivBackward1>)\n"
     ]
    },
    {
     "name": "stderr",
     "output_type": "stream",
     "text": [
      "\r\n",
      " 20%|██        | 308/1529 [01:44<06:12,  3.27it/s]"
     ]
    },
    {
     "name": "stdout",
     "output_type": "stream",
     "text": [
      "tensor(3.6743, device='cuda:0', grad_fn=<DivBackward1>)\n"
     ]
    },
    {
     "name": "stderr",
     "output_type": "stream",
     "text": [
      "\r\n",
      " 20%|██        | 309/1529 [01:44<06:10,  3.29it/s]"
     ]
    },
    {
     "name": "stdout",
     "output_type": "stream",
     "text": [
      "tensor(3.6728, device='cuda:0', grad_fn=<DivBackward1>)\n"
     ]
    },
    {
     "name": "stderr",
     "output_type": "stream",
     "text": [
      "\r\n",
      " 20%|██        | 310/1529 [01:44<06:09,  3.30it/s]"
     ]
    },
    {
     "name": "stdout",
     "output_type": "stream",
     "text": [
      "tensor(3.6724, device='cuda:0', grad_fn=<DivBackward1>)\n"
     ]
    },
    {
     "name": "stderr",
     "output_type": "stream",
     "text": [
      "\r\n",
      " 20%|██        | 311/1529 [01:45<06:08,  3.31it/s]"
     ]
    },
    {
     "name": "stdout",
     "output_type": "stream",
     "text": [
      "tensor(3.6737, device='cuda:0', grad_fn=<DivBackward1>)\n"
     ]
    },
    {
     "name": "stderr",
     "output_type": "stream",
     "text": [
      "\r\n",
      " 20%|██        | 312/1529 [01:45<06:08,  3.30it/s]"
     ]
    },
    {
     "name": "stdout",
     "output_type": "stream",
     "text": [
      "tensor(3.6711, device='cuda:0', grad_fn=<DivBackward1>)\n"
     ]
    },
    {
     "name": "stderr",
     "output_type": "stream",
     "text": [
      "\r\n",
      " 20%|██        | 313/1529 [01:45<06:08,  3.30it/s]"
     ]
    },
    {
     "name": "stdout",
     "output_type": "stream",
     "text": [
      "tensor(3.6693, device='cuda:0', grad_fn=<DivBackward1>)\n"
     ]
    },
    {
     "name": "stderr",
     "output_type": "stream",
     "text": [
      "\r\n",
      " 21%|██        | 314/1529 [01:45<06:07,  3.31it/s]"
     ]
    },
    {
     "name": "stdout",
     "output_type": "stream",
     "text": [
      "tensor(3.6709, device='cuda:0', grad_fn=<DivBackward1>)\n"
     ]
    },
    {
     "name": "stderr",
     "output_type": "stream",
     "text": [
      "\r\n",
      " 21%|██        | 315/1529 [01:46<06:06,  3.31it/s]"
     ]
    },
    {
     "name": "stdout",
     "output_type": "stream",
     "text": [
      "tensor(3.6732, device='cuda:0', grad_fn=<DivBackward1>)\n"
     ]
    },
    {
     "name": "stderr",
     "output_type": "stream",
     "text": [
      "\r\n",
      " 21%|██        | 316/1529 [01:46<06:07,  3.30it/s]"
     ]
    },
    {
     "name": "stdout",
     "output_type": "stream",
     "text": [
      "tensor(3.6705, device='cuda:0', grad_fn=<DivBackward1>)\n"
     ]
    },
    {
     "name": "stderr",
     "output_type": "stream",
     "text": [
      "\r\n",
      " 21%|██        | 317/1529 [01:46<06:05,  3.31it/s]"
     ]
    },
    {
     "name": "stdout",
     "output_type": "stream",
     "text": [
      "tensor(3.6734, device='cuda:0', grad_fn=<DivBackward1>)\n"
     ]
    },
    {
     "name": "stderr",
     "output_type": "stream",
     "text": [
      "\r\n",
      " 21%|██        | 318/1529 [01:47<06:05,  3.32it/s]"
     ]
    },
    {
     "name": "stdout",
     "output_type": "stream",
     "text": [
      "tensor(3.6753, device='cuda:0', grad_fn=<DivBackward1>)\n"
     ]
    },
    {
     "name": "stderr",
     "output_type": "stream",
     "text": [
      "\r\n",
      " 21%|██        | 319/1529 [01:47<06:04,  3.32it/s]"
     ]
    },
    {
     "name": "stdout",
     "output_type": "stream",
     "text": [
      "tensor(3.6691, device='cuda:0', grad_fn=<DivBackward1>)\n"
     ]
    },
    {
     "name": "stderr",
     "output_type": "stream",
     "text": [
      "\r\n",
      " 21%|██        | 320/1529 [01:47<06:06,  3.30it/s]"
     ]
    },
    {
     "name": "stdout",
     "output_type": "stream",
     "text": [
      "tensor(3.6800, device='cuda:0', grad_fn=<DivBackward1>)\n"
     ]
    },
    {
     "name": "stderr",
     "output_type": "stream",
     "text": [
      "\r\n",
      " 21%|██        | 321/1529 [01:48<06:06,  3.30it/s]"
     ]
    },
    {
     "name": "stdout",
     "output_type": "stream",
     "text": [
      "tensor(3.6825, device='cuda:0', grad_fn=<DivBackward1>)\n"
     ]
    },
    {
     "name": "stderr",
     "output_type": "stream",
     "text": [
      "\r\n",
      " 21%|██        | 322/1529 [01:48<06:05,  3.30it/s]"
     ]
    },
    {
     "name": "stdout",
     "output_type": "stream",
     "text": [
      "tensor(3.6660, device='cuda:0', grad_fn=<DivBackward1>)\n"
     ]
    },
    {
     "name": "stderr",
     "output_type": "stream",
     "text": [
      "\r\n",
      " 21%|██        | 323/1529 [01:48<06:05,  3.30it/s]"
     ]
    },
    {
     "name": "stdout",
     "output_type": "stream",
     "text": [
      "tensor(3.6724, device='cuda:0', grad_fn=<DivBackward1>)\n"
     ]
    },
    {
     "name": "stderr",
     "output_type": "stream",
     "text": [
      "\r\n",
      " 21%|██        | 324/1529 [01:48<06:04,  3.31it/s]"
     ]
    },
    {
     "name": "stdout",
     "output_type": "stream",
     "text": [
      "tensor(3.6780, device='cuda:0', grad_fn=<DivBackward1>)\n"
     ]
    },
    {
     "name": "stderr",
     "output_type": "stream",
     "text": [
      "\r\n",
      " 21%|██▏       | 325/1529 [01:49<06:02,  3.32it/s]"
     ]
    },
    {
     "name": "stdout",
     "output_type": "stream",
     "text": [
      "tensor(3.6765, device='cuda:0', grad_fn=<DivBackward1>)\n"
     ]
    },
    {
     "name": "stderr",
     "output_type": "stream",
     "text": [
      "\r\n",
      " 21%|██▏       | 326/1529 [01:49<06:03,  3.31it/s]"
     ]
    },
    {
     "name": "stdout",
     "output_type": "stream",
     "text": [
      "tensor(3.6762, device='cuda:0', grad_fn=<DivBackward1>)\n"
     ]
    },
    {
     "name": "stderr",
     "output_type": "stream",
     "text": [
      "\r\n",
      " 21%|██▏       | 327/1529 [01:49<06:02,  3.32it/s]"
     ]
    },
    {
     "name": "stdout",
     "output_type": "stream",
     "text": [
      "tensor(3.6806, device='cuda:0', grad_fn=<DivBackward1>)\n"
     ]
    },
    {
     "name": "stderr",
     "output_type": "stream",
     "text": [
      "\r\n",
      " 21%|██▏       | 328/1529 [01:50<06:02,  3.31it/s]"
     ]
    },
    {
     "name": "stdout",
     "output_type": "stream",
     "text": [
      "tensor(3.6828, device='cuda:0', grad_fn=<DivBackward1>)\n"
     ]
    },
    {
     "name": "stderr",
     "output_type": "stream",
     "text": [
      "\r\n",
      " 22%|██▏       | 329/1529 [01:50<06:02,  3.31it/s]"
     ]
    },
    {
     "name": "stdout",
     "output_type": "stream",
     "text": [
      "tensor(3.6733, device='cuda:0', grad_fn=<DivBackward1>)\n"
     ]
    },
    {
     "name": "stderr",
     "output_type": "stream",
     "text": [
      "\r\n",
      " 22%|██▏       | 330/1529 [01:50<06:02,  3.31it/s]"
     ]
    },
    {
     "name": "stdout",
     "output_type": "stream",
     "text": [
      "tensor(3.6788, device='cuda:0', grad_fn=<DivBackward1>)\n"
     ]
    },
    {
     "name": "stderr",
     "output_type": "stream",
     "text": [
      "\r\n",
      " 22%|██▏       | 331/1529 [01:51<06:01,  3.31it/s]"
     ]
    },
    {
     "name": "stdout",
     "output_type": "stream",
     "text": [
      "tensor(3.6776, device='cuda:0', grad_fn=<DivBackward1>)\n"
     ]
    },
    {
     "name": "stderr",
     "output_type": "stream",
     "text": [
      "\r\n",
      " 22%|██▏       | 332/1529 [01:51<06:01,  3.31it/s]"
     ]
    },
    {
     "name": "stdout",
     "output_type": "stream",
     "text": [
      "tensor(3.6745, device='cuda:0', grad_fn=<DivBackward1>)\n"
     ]
    },
    {
     "name": "stderr",
     "output_type": "stream",
     "text": [
      "\r\n",
      " 22%|██▏       | 333/1529 [01:51<06:00,  3.32it/s]"
     ]
    },
    {
     "name": "stdout",
     "output_type": "stream",
     "text": [
      "tensor(3.6708, device='cuda:0', grad_fn=<DivBackward1>)\n"
     ]
    },
    {
     "name": "stderr",
     "output_type": "stream",
     "text": [
      "\r\n",
      " 22%|██▏       | 334/1529 [01:52<06:00,  3.31it/s]"
     ]
    },
    {
     "name": "stdout",
     "output_type": "stream",
     "text": [
      "tensor(3.6666, device='cuda:0', grad_fn=<DivBackward1>)\n"
     ]
    },
    {
     "name": "stderr",
     "output_type": "stream",
     "text": [
      "\r\n",
      " 22%|██▏       | 335/1529 [01:52<06:00,  3.32it/s]"
     ]
    },
    {
     "name": "stdout",
     "output_type": "stream",
     "text": [
      "tensor(3.6740, device='cuda:0', grad_fn=<DivBackward1>)\n"
     ]
    },
    {
     "name": "stderr",
     "output_type": "stream",
     "text": [
      "\r\n",
      " 22%|██▏       | 336/1529 [01:52<06:01,  3.30it/s]"
     ]
    },
    {
     "name": "stdout",
     "output_type": "stream",
     "text": [
      "tensor(3.6671, device='cuda:0', grad_fn=<DivBackward1>)\n"
     ]
    },
    {
     "name": "stderr",
     "output_type": "stream",
     "text": [
      "\r\n",
      " 22%|██▏       | 337/1529 [01:52<06:01,  3.30it/s]"
     ]
    },
    {
     "name": "stdout",
     "output_type": "stream",
     "text": [
      "tensor(3.6722, device='cuda:0', grad_fn=<DivBackward1>)\n"
     ]
    },
    {
     "name": "stderr",
     "output_type": "stream",
     "text": [
      "\r\n",
      " 22%|██▏       | 338/1529 [01:53<06:01,  3.30it/s]"
     ]
    },
    {
     "name": "stdout",
     "output_type": "stream",
     "text": [
      "tensor(3.6730, device='cuda:0', grad_fn=<DivBackward1>)\n"
     ]
    },
    {
     "name": "stderr",
     "output_type": "stream",
     "text": [
      "\r\n",
      " 22%|██▏       | 339/1529 [01:53<06:00,  3.30it/s]"
     ]
    },
    {
     "name": "stdout",
     "output_type": "stream",
     "text": [
      "tensor(3.6724, device='cuda:0', grad_fn=<DivBackward1>)\n"
     ]
    },
    {
     "name": "stderr",
     "output_type": "stream",
     "text": [
      "\r\n",
      " 22%|██▏       | 340/1529 [01:53<06:00,  3.30it/s]"
     ]
    },
    {
     "name": "stdout",
     "output_type": "stream",
     "text": [
      "tensor(3.6761, device='cuda:0', grad_fn=<DivBackward1>)\n"
     ]
    },
    {
     "name": "stderr",
     "output_type": "stream",
     "text": [
      "\r\n",
      " 22%|██▏       | 341/1529 [01:54<05:58,  3.31it/s]"
     ]
    },
    {
     "name": "stdout",
     "output_type": "stream",
     "text": [
      "tensor(3.6771, device='cuda:0', grad_fn=<DivBackward1>)\n"
     ]
    },
    {
     "name": "stderr",
     "output_type": "stream",
     "text": [
      "\r\n",
      " 22%|██▏       | 342/1529 [01:54<05:58,  3.31it/s]"
     ]
    },
    {
     "name": "stdout",
     "output_type": "stream",
     "text": [
      "tensor(3.6629, device='cuda:0', grad_fn=<DivBackward1>)\n"
     ]
    },
    {
     "name": "stderr",
     "output_type": "stream",
     "text": [
      "\r\n",
      " 22%|██▏       | 343/1529 [01:54<05:59,  3.30it/s]"
     ]
    },
    {
     "name": "stdout",
     "output_type": "stream",
     "text": [
      "tensor(3.6734, device='cuda:0', grad_fn=<DivBackward1>)\n"
     ]
    },
    {
     "name": "stderr",
     "output_type": "stream",
     "text": [
      "\r\n",
      " 22%|██▏       | 344/1529 [01:55<06:01,  3.28it/s]"
     ]
    },
    {
     "name": "stdout",
     "output_type": "stream",
     "text": [
      "tensor(3.6713, device='cuda:0', grad_fn=<DivBackward1>)\n",
      "===================Checking gradient===============\n",
      "beta tensor(0.0008, device='cuda:0')\n",
      "cnn_encoder.conv1.weight tensor(0.0038, device='cuda:0')\n",
      "cnn_encoder.conv2.weight tensor(0.0054, device='cuda:0')\n",
      "cnn_encoder.bn1.weight tensor(0.0004, device='cuda:0')\n",
      "cnn_encoder.bn1.bias tensor(0.0002, device='cuda:0')\n",
      "cnn_encoder.conv3.weight tensor(0.0019, device='cuda:0')\n",
      "cnn_encoder.conv4.weight tensor(0.0014, device='cuda:0')\n",
      "cnn_encoder.conv5.weight tensor(0.0014, device='cuda:0')\n",
      "cnn_encoder.conv5.bias tensor(4.4189e-07, device='cuda:0')\n",
      "cnn_encoder.bn2.weight tensor(0.0003, device='cuda:0')\n",
      "cnn_encoder.bn2.bias tensor(0.0008, device='cuda:0')\n",
      "lstm.weight_ih tensor(0.0123, device='cuda:0')\n",
      "lstm.weight_hh tensor(0.0085, device='cuda:0')\n",
      "lstm.bias_ih tensor(0.0014, device='cuda:0')\n",
      "lstm.bias_hh tensor(0.0014, device='cuda:0')\n",
      "emb.weight tensor(0.0008, device='cuda:0')\n",
      "wh_in.weight tensor(9.2709e-05, device='cuda:0')\n",
      "wc_in.weight tensor(0.0002, device='cuda:0')\n",
      "wo_in.weight tensor(0.0026, device='cuda:0')\n",
      "W_1.weight tensor(0.0002, device='cuda:0')\n",
      "W_2.weight tensor(0.0001, device='cuda:0')\n",
      "W_3.weight tensor(0.0029, device='cuda:0')\n",
      "W_out.weight tensor(0.0083, device='cuda:0')\n",
      "===================    Finished   =================\n"
     ]
    },
    {
     "name": "stderr",
     "output_type": "stream",
     "text": [
      "\r\n",
      " 23%|██▎       | 345/1529 [01:55<05:59,  3.29it/s]"
     ]
    },
    {
     "name": "stdout",
     "output_type": "stream",
     "text": [
      "tensor(3.6825, device='cuda:0', grad_fn=<DivBackward1>)\n"
     ]
    },
    {
     "name": "stderr",
     "output_type": "stream",
     "text": [
      "\r\n",
      " 23%|██▎       | 346/1529 [01:55<05:59,  3.29it/s]"
     ]
    },
    {
     "name": "stdout",
     "output_type": "stream",
     "text": [
      "tensor(3.6692, device='cuda:0', grad_fn=<DivBackward1>)\n"
     ]
    },
    {
     "name": "stderr",
     "output_type": "stream",
     "text": [
      "\r\n",
      " 23%|██▎       | 347/1529 [01:55<06:00,  3.28it/s]"
     ]
    },
    {
     "name": "stdout",
     "output_type": "stream",
     "text": [
      "tensor(3.6679, device='cuda:0', grad_fn=<DivBackward1>)\n"
     ]
    },
    {
     "name": "stderr",
     "output_type": "stream",
     "text": [
      "\r\n",
      " 23%|██▎       | 348/1529 [01:56<05:59,  3.28it/s]"
     ]
    },
    {
     "name": "stdout",
     "output_type": "stream",
     "text": [
      "tensor(3.6824, device='cuda:0', grad_fn=<DivBackward1>)\n"
     ]
    },
    {
     "name": "stderr",
     "output_type": "stream",
     "text": [
      "\r\n",
      " 23%|██▎       | 349/1529 [01:56<05:58,  3.29it/s]"
     ]
    },
    {
     "name": "stdout",
     "output_type": "stream",
     "text": [
      "tensor(3.6700, device='cuda:0', grad_fn=<DivBackward1>)\n"
     ]
    },
    {
     "name": "stderr",
     "output_type": "stream",
     "text": [
      "\r\n",
      " 23%|██▎       | 350/1529 [01:56<05:58,  3.29it/s]"
     ]
    },
    {
     "name": "stdout",
     "output_type": "stream",
     "text": [
      "tensor(3.6682, device='cuda:0', grad_fn=<DivBackward1>)\n"
     ]
    },
    {
     "name": "stderr",
     "output_type": "stream",
     "text": [
      "\r\n",
      " 23%|██▎       | 351/1529 [01:57<05:57,  3.30it/s]"
     ]
    },
    {
     "name": "stdout",
     "output_type": "stream",
     "text": [
      "tensor(3.6800, device='cuda:0', grad_fn=<DivBackward1>)\n"
     ]
    },
    {
     "name": "stderr",
     "output_type": "stream",
     "text": [
      "\r\n",
      " 23%|██▎       | 352/1529 [01:57<05:57,  3.29it/s]"
     ]
    },
    {
     "name": "stdout",
     "output_type": "stream",
     "text": [
      "tensor(3.6685, device='cuda:0', grad_fn=<DivBackward1>)\n"
     ]
    },
    {
     "name": "stderr",
     "output_type": "stream",
     "text": [
      "\r\n",
      " 23%|██▎       | 353/1529 [01:57<05:57,  3.29it/s]"
     ]
    },
    {
     "name": "stdout",
     "output_type": "stream",
     "text": [
      "tensor(3.6793, device='cuda:0', grad_fn=<DivBackward1>)\n"
     ]
    },
    {
     "name": "stderr",
     "output_type": "stream",
     "text": [
      "\r\n",
      " 23%|██▎       | 354/1529 [01:58<05:56,  3.29it/s]"
     ]
    },
    {
     "name": "stdout",
     "output_type": "stream",
     "text": [
      "tensor(3.6766, device='cuda:0', grad_fn=<DivBackward1>)\n"
     ]
    },
    {
     "name": "stderr",
     "output_type": "stream",
     "text": [
      "\r\n",
      " 23%|██▎       | 355/1529 [01:58<05:56,  3.30it/s]"
     ]
    },
    {
     "name": "stdout",
     "output_type": "stream",
     "text": [
      "tensor(3.6725, device='cuda:0', grad_fn=<DivBackward1>)\n"
     ]
    },
    {
     "name": "stderr",
     "output_type": "stream",
     "text": [
      "\r\n",
      " 23%|██▎       | 356/1529 [01:58<05:56,  3.29it/s]"
     ]
    },
    {
     "name": "stdout",
     "output_type": "stream",
     "text": [
      "tensor(3.6721, device='cuda:0', grad_fn=<DivBackward1>)\n"
     ]
    },
    {
     "name": "stderr",
     "output_type": "stream",
     "text": [
      "\r\n",
      " 23%|██▎       | 357/1529 [01:58<05:55,  3.29it/s]"
     ]
    },
    {
     "name": "stdout",
     "output_type": "stream",
     "text": [
      "tensor(3.6686, device='cuda:0', grad_fn=<DivBackward1>)\n"
     ]
    },
    {
     "name": "stderr",
     "output_type": "stream",
     "text": [
      "\r\n",
      " 23%|██▎       | 358/1529 [01:59<05:56,  3.28it/s]"
     ]
    },
    {
     "name": "stdout",
     "output_type": "stream",
     "text": [
      "tensor(3.6690, device='cuda:0', grad_fn=<DivBackward1>)\n"
     ]
    },
    {
     "name": "stderr",
     "output_type": "stream",
     "text": [
      "\r\n",
      " 23%|██▎       | 359/1529 [01:59<05:55,  3.29it/s]"
     ]
    },
    {
     "name": "stdout",
     "output_type": "stream",
     "text": [
      "tensor(3.6666, device='cuda:0', grad_fn=<DivBackward1>)\n"
     ]
    },
    {
     "name": "stderr",
     "output_type": "stream",
     "text": [
      "\r\n",
      " 24%|██▎       | 360/1529 [01:59<05:54,  3.29it/s]"
     ]
    },
    {
     "name": "stdout",
     "output_type": "stream",
     "text": [
      "tensor(3.6838, device='cuda:0', grad_fn=<DivBackward1>)\n"
     ]
    },
    {
     "name": "stderr",
     "output_type": "stream",
     "text": [
      "\r\n",
      " 24%|██▎       | 361/1529 [02:00<05:54,  3.30it/s]"
     ]
    },
    {
     "name": "stdout",
     "output_type": "stream",
     "text": [
      "tensor(3.6689, device='cuda:0', grad_fn=<DivBackward1>)\n"
     ]
    },
    {
     "name": "stderr",
     "output_type": "stream",
     "text": [
      "\r\n",
      " 24%|██▎       | 362/1529 [02:00<05:53,  3.30it/s]"
     ]
    },
    {
     "name": "stdout",
     "output_type": "stream",
     "text": [
      "tensor(3.6707, device='cuda:0', grad_fn=<DivBackward1>)\n"
     ]
    },
    {
     "name": "stderr",
     "output_type": "stream",
     "text": [
      "\r\n",
      " 24%|██▎       | 363/1529 [02:00<05:53,  3.29it/s]"
     ]
    },
    {
     "name": "stdout",
     "output_type": "stream",
     "text": [
      "tensor(3.6710, device='cuda:0', grad_fn=<DivBackward1>)\n"
     ]
    },
    {
     "name": "stderr",
     "output_type": "stream",
     "text": [
      "\r\n",
      " 24%|██▍       | 364/1529 [02:01<05:52,  3.30it/s]"
     ]
    },
    {
     "name": "stdout",
     "output_type": "stream",
     "text": [
      "tensor(3.6710, device='cuda:0', grad_fn=<DivBackward1>)\n"
     ]
    },
    {
     "name": "stderr",
     "output_type": "stream",
     "text": [
      "\r\n",
      " 24%|██▍       | 365/1529 [02:01<05:51,  3.31it/s]"
     ]
    },
    {
     "name": "stdout",
     "output_type": "stream",
     "text": [
      "tensor(3.6741, device='cuda:0', grad_fn=<DivBackward1>)\n"
     ]
    },
    {
     "name": "stderr",
     "output_type": "stream",
     "text": [
      "\r\n",
      " 24%|██▍       | 366/1529 [02:01<05:51,  3.31it/s]"
     ]
    },
    {
     "name": "stdout",
     "output_type": "stream",
     "text": [
      "tensor(3.6740, device='cuda:0', grad_fn=<DivBackward1>)\n"
     ]
    },
    {
     "name": "stderr",
     "output_type": "stream",
     "text": [
      "\r\n",
      " 24%|██▍       | 367/1529 [02:02<05:50,  3.31it/s]"
     ]
    },
    {
     "name": "stdout",
     "output_type": "stream",
     "text": [
      "tensor(3.6854, device='cuda:0', grad_fn=<DivBackward1>)\n"
     ]
    },
    {
     "name": "stderr",
     "output_type": "stream",
     "text": [
      "\r\n",
      " 24%|██▍       | 368/1529 [02:02<05:50,  3.32it/s]"
     ]
    },
    {
     "name": "stdout",
     "output_type": "stream",
     "text": [
      "tensor(3.6832, device='cuda:0', grad_fn=<DivBackward1>)\n"
     ]
    },
    {
     "name": "stderr",
     "output_type": "stream",
     "text": [
      "\r\n",
      " 24%|██▍       | 369/1529 [02:02<05:50,  3.31it/s]"
     ]
    },
    {
     "name": "stdout",
     "output_type": "stream",
     "text": [
      "tensor(3.6701, device='cuda:0', grad_fn=<DivBackward1>)\n"
     ]
    },
    {
     "name": "stderr",
     "output_type": "stream",
     "text": [
      "\r\n",
      " 24%|██▍       | 370/1529 [02:02<05:50,  3.31it/s]"
     ]
    },
    {
     "name": "stdout",
     "output_type": "stream",
     "text": [
      "tensor(3.6765, device='cuda:0', grad_fn=<DivBackward1>)\n"
     ]
    },
    {
     "name": "stderr",
     "output_type": "stream",
     "text": [
      "\r\n",
      " 24%|██▍       | 371/1529 [02:03<05:49,  3.31it/s]"
     ]
    },
    {
     "name": "stdout",
     "output_type": "stream",
     "text": [
      "tensor(3.6732, device='cuda:0', grad_fn=<DivBackward1>)\n"
     ]
    },
    {
     "name": "stderr",
     "output_type": "stream",
     "text": [
      "\r\n",
      " 24%|██▍       | 372/1529 [02:03<05:50,  3.30it/s]"
     ]
    },
    {
     "name": "stdout",
     "output_type": "stream",
     "text": [
      "tensor(3.6704, device='cuda:0', grad_fn=<DivBackward1>)\n"
     ]
    },
    {
     "name": "stderr",
     "output_type": "stream",
     "text": [
      "\r\n",
      " 24%|██▍       | 373/1529 [02:03<05:48,  3.32it/s]"
     ]
    },
    {
     "name": "stdout",
     "output_type": "stream",
     "text": [
      "tensor(3.6696, device='cuda:0', grad_fn=<DivBackward1>)\n"
     ]
    },
    {
     "name": "stderr",
     "output_type": "stream",
     "text": [
      "\r\n",
      " 24%|██▍       | 374/1529 [02:04<05:48,  3.32it/s]"
     ]
    },
    {
     "name": "stdout",
     "output_type": "stream",
     "text": [
      "tensor(3.6811, device='cuda:0', grad_fn=<DivBackward1>)\n"
     ]
    },
    {
     "name": "stderr",
     "output_type": "stream",
     "text": [
      "\r\n",
      " 25%|██▍       | 375/1529 [02:04<05:48,  3.31it/s]"
     ]
    },
    {
     "name": "stdout",
     "output_type": "stream",
     "text": [
      "tensor(3.6717, device='cuda:0', grad_fn=<DivBackward1>)\n"
     ]
    },
    {
     "name": "stderr",
     "output_type": "stream",
     "text": [
      "\r\n",
      " 25%|██▍       | 376/1529 [02:04<05:48,  3.31it/s]"
     ]
    },
    {
     "name": "stdout",
     "output_type": "stream",
     "text": [
      "tensor(3.6742, device='cuda:0', grad_fn=<DivBackward1>)\n"
     ]
    },
    {
     "name": "stderr",
     "output_type": "stream",
     "text": [
      "\r\n",
      " 25%|██▍       | 377/1529 [02:05<05:47,  3.31it/s]"
     ]
    },
    {
     "name": "stdout",
     "output_type": "stream",
     "text": [
      "tensor(3.6747, device='cuda:0', grad_fn=<DivBackward1>)\n"
     ]
    },
    {
     "name": "stderr",
     "output_type": "stream",
     "text": [
      "\r\n",
      " 25%|██▍       | 378/1529 [02:05<05:47,  3.31it/s]"
     ]
    },
    {
     "name": "stdout",
     "output_type": "stream",
     "text": [
      "tensor(3.6753, device='cuda:0', grad_fn=<DivBackward1>)\n"
     ]
    },
    {
     "name": "stderr",
     "output_type": "stream",
     "text": [
      "\r\n",
      " 25%|██▍       | 379/1529 [02:05<05:47,  3.31it/s]"
     ]
    },
    {
     "name": "stdout",
     "output_type": "stream",
     "text": [
      "tensor(3.6812, device='cuda:0', grad_fn=<DivBackward1>)\n"
     ]
    },
    {
     "name": "stderr",
     "output_type": "stream",
     "text": [
      "\r\n",
      " 25%|██▍       | 380/1529 [02:05<05:46,  3.31it/s]"
     ]
    },
    {
     "name": "stdout",
     "output_type": "stream",
     "text": [
      "tensor(3.6733, device='cuda:0', grad_fn=<DivBackward1>)\n"
     ]
    },
    {
     "name": "stderr",
     "output_type": "stream",
     "text": [
      "\r\n",
      " 25%|██▍       | 381/1529 [02:06<05:45,  3.32it/s]"
     ]
    },
    {
     "name": "stdout",
     "output_type": "stream",
     "text": [
      "tensor(3.6769, device='cuda:0', grad_fn=<DivBackward1>)\n"
     ]
    },
    {
     "name": "stderr",
     "output_type": "stream",
     "text": [
      "\r\n",
      " 25%|██▍       | 382/1529 [02:06<05:46,  3.31it/s]"
     ]
    },
    {
     "name": "stdout",
     "output_type": "stream",
     "text": [
      "tensor(3.6694, device='cuda:0', grad_fn=<DivBackward1>)\n"
     ]
    },
    {
     "name": "stderr",
     "output_type": "stream",
     "text": [
      "\r\n",
      " 25%|██▌       | 383/1529 [02:06<05:46,  3.31it/s]"
     ]
    },
    {
     "name": "stdout",
     "output_type": "stream",
     "text": [
      "tensor(3.6695, device='cuda:0', grad_fn=<DivBackward1>)\n"
     ]
    },
    {
     "name": "stderr",
     "output_type": "stream",
     "text": [
      "\r\n",
      " 25%|██▌       | 384/1529 [02:07<05:46,  3.30it/s]"
     ]
    },
    {
     "name": "stdout",
     "output_type": "stream",
     "text": [
      "tensor(3.6704, device='cuda:0', grad_fn=<DivBackward1>)\n"
     ]
    },
    {
     "name": "stderr",
     "output_type": "stream",
     "text": [
      "\r\n",
      " 25%|██▌       | 385/1529 [02:07<05:46,  3.31it/s]"
     ]
    },
    {
     "name": "stdout",
     "output_type": "stream",
     "text": [
      "tensor(3.6718, device='cuda:0', grad_fn=<DivBackward1>)\n"
     ]
    },
    {
     "name": "stderr",
     "output_type": "stream",
     "text": [
      "\r\n",
      " 25%|██▌       | 386/1529 [02:07<05:48,  3.28it/s]"
     ]
    },
    {
     "name": "stdout",
     "output_type": "stream",
     "text": [
      "tensor(3.6662, device='cuda:0', grad_fn=<DivBackward1>)\n"
     ]
    },
    {
     "name": "stderr",
     "output_type": "stream",
     "text": [
      "\r\n",
      " 25%|██▌       | 387/1529 [02:08<05:47,  3.28it/s]"
     ]
    },
    {
     "name": "stdout",
     "output_type": "stream",
     "text": [
      "tensor(3.6719, device='cuda:0', grad_fn=<DivBackward1>)\n"
     ]
    },
    {
     "name": "stderr",
     "output_type": "stream",
     "text": [
      "\r\n",
      " 25%|██▌       | 388/1529 [02:08<05:46,  3.30it/s]"
     ]
    },
    {
     "name": "stdout",
     "output_type": "stream",
     "text": [
      "tensor(3.6835, device='cuda:0', grad_fn=<DivBackward1>)\n"
     ]
    },
    {
     "name": "stderr",
     "output_type": "stream",
     "text": [
      "\r\n",
      " 25%|██▌       | 389/1529 [02:08<05:45,  3.30it/s]"
     ]
    },
    {
     "name": "stdout",
     "output_type": "stream",
     "text": [
      "tensor(3.6716, device='cuda:0', grad_fn=<DivBackward1>)\n"
     ]
    },
    {
     "name": "stderr",
     "output_type": "stream",
     "text": [
      "\r\n",
      " 26%|██▌       | 390/1529 [02:08<05:44,  3.31it/s]"
     ]
    },
    {
     "name": "stdout",
     "output_type": "stream",
     "text": [
      "tensor(3.6777, device='cuda:0', grad_fn=<DivBackward1>)\n"
     ]
    },
    {
     "name": "stderr",
     "output_type": "stream",
     "text": [
      "\r\n",
      " 26%|██▌       | 391/1529 [02:09<05:43,  3.31it/s]"
     ]
    },
    {
     "name": "stdout",
     "output_type": "stream",
     "text": [
      "tensor(3.6696, device='cuda:0', grad_fn=<DivBackward1>)\n"
     ]
    },
    {
     "name": "stderr",
     "output_type": "stream",
     "text": [
      "\r\n",
      " 26%|██▌       | 392/1529 [02:09<05:44,  3.30it/s]"
     ]
    },
    {
     "name": "stdout",
     "output_type": "stream",
     "text": [
      "tensor(3.6657, device='cuda:0', grad_fn=<DivBackward1>)\n"
     ]
    },
    {
     "name": "stderr",
     "output_type": "stream",
     "text": [
      "\r\n",
      " 26%|██▌       | 393/1529 [02:09<05:46,  3.28it/s]"
     ]
    },
    {
     "name": "stdout",
     "output_type": "stream",
     "text": [
      "tensor(3.6842, device='cuda:0', grad_fn=<DivBackward1>)\n",
      "===================Checking gradient===============\n",
      "beta tensor(0.0030, device='cuda:0')\n",
      "cnn_encoder.conv1.weight tensor(0.0074, device='cuda:0')\n",
      "cnn_encoder.conv2.weight tensor(0.0071, device='cuda:0')\n",
      "cnn_encoder.bn1.weight tensor(0.0008, device='cuda:0')\n",
      "cnn_encoder.bn1.bias tensor(0.0003, device='cuda:0')\n",
      "cnn_encoder.conv3.weight tensor(0.0032, device='cuda:0')\n",
      "cnn_encoder.conv4.weight tensor(0.0021, device='cuda:0')\n",
      "cnn_encoder.conv5.weight tensor(0.0026, device='cuda:0')\n",
      "cnn_encoder.conv5.bias tensor(8.7586e-07, device='cuda:0')\n",
      "cnn_encoder.bn2.weight tensor(0.0004, device='cuda:0')\n",
      "cnn_encoder.bn2.bias tensor(0.0021, device='cuda:0')\n",
      "lstm.weight_ih tensor(0.0266, device='cuda:0')\n",
      "lstm.weight_hh tensor(0.0163, device='cuda:0')\n",
      "lstm.bias_ih tensor(0.0029, device='cuda:0')\n",
      "lstm.bias_hh tensor(0.0029, device='cuda:0')\n",
      "emb.weight tensor(0.0024, device='cuda:0')\n",
      "wh_in.weight tensor(8.9506e-05, device='cuda:0')\n",
      "wc_in.weight tensor(0.0002, device='cuda:0')\n",
      "wo_in.weight tensor(0.0050, device='cuda:0')\n",
      "W_1.weight tensor(0.0008, device='cuda:0')\n",
      "W_2.weight tensor(0.0006, device='cuda:0')\n",
      "W_3.weight tensor(0.0042, device='cuda:0')\n",
      "W_out.weight tensor(0.0152, device='cuda:0')\n",
      "===================    Finished   =================\n"
     ]
    },
    {
     "name": "stderr",
     "output_type": "stream",
     "text": [
      "\r\n",
      " 26%|██▌       | 394/1529 [02:10<05:45,  3.29it/s]"
     ]
    },
    {
     "name": "stdout",
     "output_type": "stream",
     "text": [
      "tensor(3.6729, device='cuda:0', grad_fn=<DivBackward1>)\n"
     ]
    },
    {
     "name": "stderr",
     "output_type": "stream",
     "text": [
      "\r\n",
      " 26%|██▌       | 395/1529 [02:10<05:44,  3.29it/s]"
     ]
    },
    {
     "name": "stdout",
     "output_type": "stream",
     "text": [
      "tensor(3.6713, device='cuda:0', grad_fn=<DivBackward1>)\n"
     ]
    },
    {
     "name": "stderr",
     "output_type": "stream",
     "text": [
      "\r\n",
      " 26%|██▌       | 396/1529 [02:10<05:43,  3.30it/s]"
     ]
    },
    {
     "name": "stdout",
     "output_type": "stream",
     "text": [
      "tensor(3.6771, device='cuda:0', grad_fn=<DivBackward1>)\n"
     ]
    },
    {
     "name": "stderr",
     "output_type": "stream",
     "text": [
      "\r\n",
      " 26%|██▌       | 397/1529 [02:11<05:41,  3.31it/s]"
     ]
    },
    {
     "name": "stdout",
     "output_type": "stream",
     "text": [
      "tensor(3.6807, device='cuda:0', grad_fn=<DivBackward1>)\n"
     ]
    },
    {
     "name": "stderr",
     "output_type": "stream",
     "text": [
      "\r\n",
      " 26%|██▌       | 398/1529 [02:11<05:41,  3.32it/s]"
     ]
    },
    {
     "name": "stdout",
     "output_type": "stream",
     "text": [
      "tensor(3.6780, device='cuda:0', grad_fn=<DivBackward1>)\n"
     ]
    },
    {
     "name": "stderr",
     "output_type": "stream",
     "text": [
      "\r\n",
      " 26%|██▌       | 399/1529 [02:11<05:41,  3.31it/s]"
     ]
    },
    {
     "name": "stdout",
     "output_type": "stream",
     "text": [
      "tensor(3.6753, device='cuda:0', grad_fn=<DivBackward1>)\n"
     ]
    },
    {
     "name": "stderr",
     "output_type": "stream",
     "text": [
      "\r\n",
      " 26%|██▌       | 400/1529 [02:12<05:41,  3.30it/s]"
     ]
    },
    {
     "name": "stdout",
     "output_type": "stream",
     "text": [
      "tensor(3.6702, device='cuda:0', grad_fn=<DivBackward1>)\n"
     ]
    },
    {
     "name": "stderr",
     "output_type": "stream",
     "text": [
      "\r\n",
      " 26%|██▌       | 401/1529 [02:12<05:41,  3.31it/s]"
     ]
    },
    {
     "name": "stdout",
     "output_type": "stream",
     "text": [
      "tensor(3.6739, device='cuda:0', grad_fn=<DivBackward1>)\n"
     ]
    },
    {
     "name": "stderr",
     "output_type": "stream",
     "text": [
      "\r\n",
      " 26%|██▋       | 402/1529 [02:12<05:40,  3.31it/s]"
     ]
    },
    {
     "name": "stdout",
     "output_type": "stream",
     "text": [
      "tensor(3.6683, device='cuda:0', grad_fn=<DivBackward1>)\n"
     ]
    },
    {
     "name": "stderr",
     "output_type": "stream",
     "text": [
      "\r\n",
      " 26%|██▋       | 403/1529 [02:12<05:40,  3.31it/s]"
     ]
    },
    {
     "name": "stdout",
     "output_type": "stream",
     "text": [
      "tensor(3.6739, device='cuda:0', grad_fn=<DivBackward1>)\n"
     ]
    },
    {
     "name": "stderr",
     "output_type": "stream",
     "text": [
      "\r\n",
      " 26%|██▋       | 404/1529 [02:13<05:39,  3.31it/s]"
     ]
    },
    {
     "name": "stdout",
     "output_type": "stream",
     "text": [
      "tensor(3.6866, device='cuda:0', grad_fn=<DivBackward1>)\n"
     ]
    },
    {
     "name": "stderr",
     "output_type": "stream",
     "text": [
      "\r\n",
      " 26%|██▋       | 405/1529 [02:13<05:38,  3.33it/s]"
     ]
    },
    {
     "name": "stdout",
     "output_type": "stream",
     "text": [
      "tensor(3.6780, device='cuda:0', grad_fn=<DivBackward1>)\n"
     ]
    },
    {
     "name": "stderr",
     "output_type": "stream",
     "text": [
      "\r\n",
      " 27%|██▋       | 406/1529 [02:13<05:38,  3.32it/s]"
     ]
    },
    {
     "name": "stdout",
     "output_type": "stream",
     "text": [
      "tensor(3.6660, device='cuda:0', grad_fn=<DivBackward1>)\n"
     ]
    },
    {
     "name": "stderr",
     "output_type": "stream",
     "text": [
      "\r\n",
      " 27%|██▋       | 407/1529 [02:14<05:38,  3.31it/s]"
     ]
    },
    {
     "name": "stdout",
     "output_type": "stream",
     "text": [
      "tensor(3.6759, device='cuda:0', grad_fn=<DivBackward1>)\n"
     ]
    },
    {
     "name": "stderr",
     "output_type": "stream",
     "text": [
      "\r\n",
      " 27%|██▋       | 408/1529 [02:14<05:39,  3.30it/s]"
     ]
    },
    {
     "name": "stdout",
     "output_type": "stream",
     "text": [
      "tensor(3.6738, device='cuda:0', grad_fn=<DivBackward1>)\n"
     ]
    },
    {
     "name": "stderr",
     "output_type": "stream",
     "text": [
      "\r\n",
      " 27%|██▋       | 409/1529 [02:14<05:39,  3.30it/s]"
     ]
    },
    {
     "name": "stdout",
     "output_type": "stream",
     "text": [
      "tensor(3.6754, device='cuda:0', grad_fn=<DivBackward1>)\n"
     ]
    },
    {
     "name": "stderr",
     "output_type": "stream",
     "text": [
      "\r\n",
      " 27%|██▋       | 410/1529 [02:15<05:39,  3.30it/s]"
     ]
    },
    {
     "name": "stdout",
     "output_type": "stream",
     "text": [
      "tensor(3.6710, device='cuda:0', grad_fn=<DivBackward1>)\n"
     ]
    },
    {
     "name": "stderr",
     "output_type": "stream",
     "text": [
      "\r\n",
      " 27%|██▋       | 411/1529 [02:15<05:38,  3.30it/s]"
     ]
    },
    {
     "name": "stdout",
     "output_type": "stream",
     "text": [
      "tensor(3.6730, device='cuda:0', grad_fn=<DivBackward1>)\n"
     ]
    },
    {
     "name": "stderr",
     "output_type": "stream",
     "text": [
      "\r\n",
      " 27%|██▋       | 412/1529 [02:15<05:40,  3.28it/s]"
     ]
    },
    {
     "name": "stdout",
     "output_type": "stream",
     "text": [
      "tensor(3.6681, device='cuda:0', grad_fn=<DivBackward1>)\n"
     ]
    },
    {
     "name": "stderr",
     "output_type": "stream",
     "text": [
      "\r\n",
      " 27%|██▋       | 413/1529 [02:15<05:37,  3.30it/s]"
     ]
    },
    {
     "name": "stdout",
     "output_type": "stream",
     "text": [
      "tensor(3.6730, device='cuda:0', grad_fn=<DivBackward1>)\n"
     ]
    },
    {
     "name": "stderr",
     "output_type": "stream",
     "text": [
      "\r\n",
      " 27%|██▋       | 414/1529 [02:16<05:36,  3.31it/s]"
     ]
    },
    {
     "name": "stdout",
     "output_type": "stream",
     "text": [
      "tensor(3.6690, device='cuda:0', grad_fn=<DivBackward1>)\n"
     ]
    },
    {
     "name": "stderr",
     "output_type": "stream",
     "text": [
      "\r\n",
      " 27%|██▋       | 415/1529 [02:16<05:36,  3.31it/s]"
     ]
    },
    {
     "name": "stdout",
     "output_type": "stream",
     "text": [
      "tensor(3.6719, device='cuda:0', grad_fn=<DivBackward1>)\n"
     ]
    },
    {
     "name": "stderr",
     "output_type": "stream",
     "text": [
      "\r\n",
      " 27%|██▋       | 416/1529 [02:16<05:35,  3.31it/s]"
     ]
    },
    {
     "name": "stdout",
     "output_type": "stream",
     "text": [
      "tensor(3.6777, device='cuda:0', grad_fn=<DivBackward1>)\n"
     ]
    },
    {
     "name": "stderr",
     "output_type": "stream",
     "text": [
      "\r\n",
      " 27%|██▋       | 417/1529 [02:17<05:35,  3.31it/s]"
     ]
    },
    {
     "name": "stdout",
     "output_type": "stream",
     "text": [
      "tensor(3.6711, device='cuda:0', grad_fn=<DivBackward1>)\n"
     ]
    },
    {
     "name": "stderr",
     "output_type": "stream",
     "text": [
      "\r\n",
      " 27%|██▋       | 418/1529 [02:17<05:36,  3.30it/s]"
     ]
    },
    {
     "name": "stdout",
     "output_type": "stream",
     "text": [
      "tensor(3.6732, device='cuda:0', grad_fn=<DivBackward1>)\n"
     ]
    },
    {
     "name": "stderr",
     "output_type": "stream",
     "text": [
      "\r\n",
      " 27%|██▋       | 419/1529 [02:17<05:36,  3.29it/s]"
     ]
    },
    {
     "name": "stdout",
     "output_type": "stream",
     "text": [
      "tensor(3.6698, device='cuda:0', grad_fn=<DivBackward1>)\n"
     ]
    },
    {
     "name": "stderr",
     "output_type": "stream",
     "text": [
      "\r\n",
      " 27%|██▋       | 420/1529 [02:18<05:36,  3.30it/s]"
     ]
    },
    {
     "name": "stdout",
     "output_type": "stream",
     "text": [
      "tensor(3.6787, device='cuda:0', grad_fn=<DivBackward1>)\n"
     ]
    },
    {
     "name": "stderr",
     "output_type": "stream",
     "text": [
      "\r\n",
      " 28%|██▊       | 421/1529 [02:18<05:34,  3.32it/s]"
     ]
    },
    {
     "name": "stdout",
     "output_type": "stream",
     "text": [
      "tensor(3.6744, device='cuda:0', grad_fn=<DivBackward1>)\n"
     ]
    },
    {
     "name": "stderr",
     "output_type": "stream",
     "text": [
      "\r\n",
      " 28%|██▊       | 422/1529 [02:18<05:34,  3.31it/s]"
     ]
    },
    {
     "name": "stdout",
     "output_type": "stream",
     "text": [
      "tensor(3.6673, device='cuda:0', grad_fn=<DivBackward1>)\n"
     ]
    },
    {
     "name": "stderr",
     "output_type": "stream",
     "text": [
      "\r\n",
      " 28%|██▊       | 423/1529 [02:18<05:33,  3.31it/s]"
     ]
    },
    {
     "name": "stdout",
     "output_type": "stream",
     "text": [
      "tensor(3.6816, device='cuda:0', grad_fn=<DivBackward1>)\n"
     ]
    },
    {
     "name": "stderr",
     "output_type": "stream",
     "text": [
      " 28%|██▊       | 423/1529 [02:19<06:03,  3.04it/s]\n"
     ]
    },
    {
     "ename": "KeyboardInterrupt",
     "evalue": "",
     "output_type": "error",
     "traceback": [
      "\u001b[0;31m---------------------------------------------------------------------------\u001b[0m",
      "\u001b[0;31mKeyboardInterrupt\u001b[0m                         Traceback (most recent call last)",
      "Cell \u001b[0;32mIn[87], line 35\u001b[0m\n\u001b[1;32m     33\u001b[0m \u001b[38;5;28;01mfor\u001b[39;00m i \u001b[38;5;129;01min\u001b[39;00m \u001b[38;5;28mrange\u001b[39m(y_vec\u001b[38;5;241m.\u001b[39mshape[\u001b[38;5;241m0\u001b[39m]):\n\u001b[1;32m     34\u001b[0m     \u001b[38;5;28;01mfor\u001b[39;00m j \u001b[38;5;129;01min\u001b[39;00m \u001b[38;5;28mrange\u001b[39m(y_vec\u001b[38;5;241m.\u001b[39mshape[\u001b[38;5;241m1\u001b[39m]):\n\u001b[0;32m---> 35\u001b[0m         one_hot[i,j,y_vec[i,j]\u001b[38;5;241m-\u001b[39m\u001b[38;5;241m1\u001b[39m] \u001b[38;5;241m=\u001b[39m \u001b[38;5;241m1\u001b[39m\n\u001b[1;32m     36\u001b[0m \u001b[38;5;66;03m# one_hot = torch.nn.functional.one_hot(y_vec, num_classes=vocab_size)\u001b[39;00m\n\u001b[1;32m     37\u001b[0m \u001b[38;5;66;03m# print(one_hot[0,0,:])\u001b[39;00m\n\u001b[1;32m     38\u001b[0m \u001b[38;5;66;03m#print(one_hot\u001b[39;00m\n\u001b[1;32m     39\u001b[0m one_hot \u001b[38;5;241m=\u001b[39m one_hot\u001b[38;5;241m.\u001b[39mto(device)                \u001b[38;5;66;03m# Send to gpu\u001b[39;00m\n",
      "\u001b[0;31mKeyboardInterrupt\u001b[0m: "
     ]
    }
   ],
   "source": [
    "from tqdm import tqdm\n",
    "\n",
    "'''\n",
    "Training Loop\n",
    "'''\n",
    "\n",
    "\n",
    "\n",
    "\n",
    "num_epoch = 100\n",
    "model.train()\n",
    "counter = 0\n",
    "for epoch in range(num_epoch):\n",
    "    print('epoch:', epoch)\n",
    "    pbar = tqdm(trainloader)\n",
    "    for images, y in pbar:\n",
    "\n",
    "        images = images.to(device)              # Send to gpu\n",
    "  \n",
    "        y_vec = latex_dict.map_tokens(list(y), batch_size=batch_size)\n",
    "        y_vec = torch.tensor(y_vec, dtype=torch.long)\n",
    "        y_vec = torch.LongTensor(y_vec)\n",
    "  \n",
    "        one_hot = torch.zeros(y_vec.shape[0], y_vec.shape[1], vocab_size)\n",
    "        for i in range(y_vec.shape[0]):     # Making one-hot representation of the labels [Batch, Max Len, Vocab-Size]\n",
    "            for j in range(y_vec.shape[1]):\n",
    "                one_hot[i,j,y_vec[i,j]-1] = 1\n",
    "        one_hot = one_hot.to(device)                # Send to gpu\n",
    "      \n",
    "        predictions = model.forward(images,one_hot)        # Get predictions\n",
    "\n",
    "\n",
    "        one_hot = torch.tensor(one_hot, dtype=torch.float)\n",
    "\n",
    "\n",
    "        counter += 1\n",
    "        torch.nn.utils.clip_grad_norm_(model.parameters(), max_norm=1)\n",
    "        loss1 = criterion(predictions, one_hot)   # Calculate first loss function\n",
    "        print(loss1)\n",
    "        if (counter % 50 == 0):\n",
    "            \n",
    "            counter = 1\n",
    "            print(\"===================Checking gradient===============\")\n",
    "            for name, param in model.named_parameters():\n",
    "                print(name, param.grad.norm())\n",
    "            print(\"===================    Finished   =================\")\n",
    "#             with open('./loss_report.txt', 'a') as output_file:\n",
    "#                     output_file.write(f\"{epoch},{loss1} \\n\")\n",
    "        # loss2 = can_compile(precitions)         # Check if output can compile\n",
    "\n",
    "        optimizer.zero_grad()\n",
    "\n",
    "        loss1.backward()\n",
    "        optimizer.step()\n",
    "#     torch.save(model.state_dict(), f'checkpoint_{epoch}.pt')"
   ]
  }
 ],
 "metadata": {
  "accelerator": "GPU",
  "colab": {
   "gpuType": "V100",
   "machine_shape": "hm",
   "provenance": []
  },
  "kernelspec": {
   "display_name": "Python 3 (ipykernel)",
   "language": "python",
   "name": "python3"
  },
  "language_info": {
   "codemirror_mode": {
    "name": "ipython",
    "version": 3
   },
   "file_extension": ".py",
   "mimetype": "text/x-python",
   "name": "python",
   "nbconvert_exporter": "python",
   "pygments_lexer": "ipython3",
   "version": "3.10.12"
  }
 },
 "nbformat": 4,
 "nbformat_minor": 1
}
